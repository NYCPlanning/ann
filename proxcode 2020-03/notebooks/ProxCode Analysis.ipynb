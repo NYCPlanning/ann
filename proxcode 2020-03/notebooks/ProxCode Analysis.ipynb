{
 "cells": [
  {
   "cell_type": "code",
   "execution_count": 1,
   "metadata": {},
   "outputs": [],
   "source": [
    "import numpy as np\n",
    "import pandas as pd\n",
    "from pandas.io import sql\n",
    "from sqlalchemy import create_engine\n",
    "import os\n",
    "import matplotlib.pyplot as plt\n",
    "import seaborn as sns\n",
    "sns.set()\n",
    "from pylab import rcParams"
   ]
  },
  {
   "cell_type": "code",
   "execution_count": 2,
   "metadata": {},
   "outputs": [],
   "source": [
    "%load_ext dotenv\n",
    "%dotenv ../.env"
   ]
  },
  {
   "cell_type": "code",
   "execution_count": 3,
   "metadata": {},
   "outputs": [],
   "source": [
    "cnx = create_engine(os.getenv('EDMDB'))"
   ]
  },
  {
   "cell_type": "markdown",
   "metadata": {},
   "source": [
    "Are there any invalid proxcode values on PLUTO? There are some NULL values."
   ]
  },
  {
   "cell_type": "code",
   "execution_count": 4,
   "metadata": {},
   "outputs": [
    {
     "data": {
      "text/html": [
       "<div>\n",
       "<style scoped>\n",
       "    .dataframe tbody tr th:only-of-type {\n",
       "        vertical-align: middle;\n",
       "    }\n",
       "\n",
       "    .dataframe tbody tr th {\n",
       "        vertical-align: top;\n",
       "    }\n",
       "\n",
       "    .dataframe thead th {\n",
       "        text-align: right;\n",
       "    }\n",
       "</style>\n",
       "<table border=\"1\" class=\"dataframe\">\n",
       "  <thead>\n",
       "    <tr style=\"text-align: right;\">\n",
       "      <th></th>\n",
       "      <th>ProxCode</th>\n",
       "      <th>count</th>\n",
       "    </tr>\n",
       "  </thead>\n",
       "  <tbody>\n",
       "    <tr>\n",
       "      <td>0</td>\n",
       "      <td>0</td>\n",
       "      <td>141749</td>\n",
       "    </tr>\n",
       "    <tr>\n",
       "      <td>1</td>\n",
       "      <td>1</td>\n",
       "      <td>313774</td>\n",
       "    </tr>\n",
       "    <tr>\n",
       "      <td>2</td>\n",
       "      <td>2</td>\n",
       "      <td>200383</td>\n",
       "    </tr>\n",
       "    <tr>\n",
       "      <td>3</td>\n",
       "      <td>3</td>\n",
       "      <td>200940</td>\n",
       "    </tr>\n",
       "    <tr>\n",
       "      <td>4</td>\n",
       "      <td>None</td>\n",
       "      <td>375</td>\n",
       "    </tr>\n",
       "  </tbody>\n",
       "</table>\n",
       "</div>"
      ],
      "text/plain": [
       "  ProxCode   count\n",
       "0        0  141749\n",
       "1        1  313774\n",
       "2        2  200383\n",
       "3        3  200940\n",
       "4     None     375"
      ]
     },
     "execution_count": 4,
     "metadata": {},
     "output_type": "execute_result"
    }
   ],
   "source": [
    "proxcode_counts = pd.read_sql_query('''SELECT \"ProxCode\", COUNT(*)\n",
    "FROM dcp.pluto202\n",
    "GROUP BY \"ProxCode\";''', cnx)\n",
    "proxcode_counts"
   ]
  },
  {
   "cell_type": "markdown",
   "metadata": {},
   "source": [
    "#### ProxCode = '2' or '3' (Attached or Semi-Attached Buildings)"
   ]
  },
  {
   "cell_type": "code",
   "execution_count": 5,
   "metadata": {},
   "outputs": [
    {
     "data": {
      "text/plain": [
       "<sqlalchemy.engine.result.ResultProxy at 0x120ae68d0>"
      ]
     },
     "execution_count": 5,
     "metadata": {},
     "output_type": "execute_result"
    }
   ],
   "source": [
    "sql.execute('''DROP TABLE IF EXISTS dcp.buildings_23;\n",
    "DROP TABLE IF EXISTS dcp.lot23_no_neighboring_bldg;\n",
    "DROP TABLE IF EXISTS dcp.lot23_no_neighboring_bldg_1ft;\n",
    "DROP TABLE IF EXISTS dcp.lot23_neighboring_bldg_1ft;\n",
    "DROP TABLE IF EXISTS dcp.buildings_1;\n",
    "DROP TABLE IF EXISTS dcp.lot1_bldg;\n",
    "DROP TABLE IF EXISTS dcp.lot1_neighboring_bldg;''', cnx)"
   ]
  },
  {
   "cell_type": "markdown",
   "metadata": {},
   "source": [
    "Get buildings and geometries for lots marked as attached or semi-attached. Limit analysis to those lots having only one building."
   ]
  },
  {
   "cell_type": "code",
   "execution_count": 6,
   "metadata": {},
   "outputs": [
    {
     "data": {
      "text/plain": [
       "331926"
      ]
     },
     "execution_count": 6,
     "metadata": {},
     "output_type": "execute_result"
    }
   ],
   "source": [
    "sql.execute('''CREATE TABLE dcp.buildings_23 AS\n",
    "    SELECT CAST(p.\"BBL\" AS TEXT) AS bbl, bin, f.geom as building_geom, p.geom as lot_geom\n",
    "    FROM dcp.bldg_footprints f, dcp.pluto202 p\n",
    "    WHERE f.mpluto_bbl = CAST(p.\"BBL\" AS TEXT)\n",
    "    AND \"ProxCode\" IN ('2', '3')\n",
    "    AND \"NumBldgs\" = 1;\n",
    "CREATE INDEX lot_geom_idx\n",
    "  ON dcp.buildings_23\n",
    "  USING GIST (lot_geom);\n",
    "CREATE INDEX building_geom_idx\n",
    "  ON dcp.buildings_23\n",
    "  USING GIST (building_geom);\n",
    "''', cnx)\n",
    "buildings_23 = pd.read_sql_query('''SELECT * FROM dcp.buildings_23;''', cnx)\n",
    "buildings_23.shape[0]"
   ]
  },
  {
   "cell_type": "markdown",
   "metadata": {},
   "source": [
    "Get building footprints for lots whose ProxCode is either 'attached' or 'semi-attached', yet have no buildings abutting them. Note that ST_Intersects seemed to work better here than ST_Touches; I'm not sure why. Put results in tables so you have the option of importing them to shapefiles."
   ]
  },
  {
   "cell_type": "code",
   "execution_count": 7,
   "metadata": {},
   "outputs": [
    {
     "data": {
      "text/plain": [
       "<sqlalchemy.engine.result.ResultProxy at 0x1210fca50>"
      ]
     },
     "execution_count": 7,
     "metadata": {},
     "output_type": "execute_result"
    }
   ],
   "source": [
    "sql.execute('''CREATE TABLE dcp.lot23_no_neighboring_bldg AS\n",
    "SELECT b1.bbl, b1.bin, b1.building_geom, b1.lot_geom, COALESCE(x.count,0) AS count\n",
    "FROM dcp.buildings_23 b1\n",
    "LEFT JOIN (\n",
    "\tSELECT b1.bbl as bbl, COUNT(*) AS count\n",
    "\tFROM dcp.bldg_footprints b2, dcp.buildings_23 b1\n",
    "\tWHERE ST_Intersects(b2.geom, b1.building_geom)\n",
    "\tAND b2.mpluto_bbl <> b1.bbl\n",
    "\tAND b2.bin <> b1.bin\n",
    "\tGROUP BY b1.bbl\n",
    ") x\n",
    "ON b1.bbl = x.bbl\n",
    "WHERE COALESCE(x.count,0) = 0;''', cnx)"
   ]
  },
  {
   "cell_type": "markdown",
   "metadata": {},
   "source": [
    "5477 of 331926 buildings have no abutting building even if they are characterized as attached or semi attached. This is about 1.6%."
   ]
  },
  {
   "cell_type": "code",
   "execution_count": 8,
   "metadata": {},
   "outputs": [
    {
     "data": {
      "text/plain": [
       "5477"
      ]
     },
     "execution_count": 8,
     "metadata": {},
     "output_type": "execute_result"
    }
   ],
   "source": [
    "lot23_no_neighboring_bldg = pd.read_sql_query('''SELECT * FROM dcp.lot23_no_neighboring_bldg;''', cnx)\n",
    "lot23_no_neighboring_bldg.shape[0]"
   ]
  },
  {
   "cell_type": "markdown",
   "metadata": {},
   "source": [
    "Now get only those buildings that don't have another building within one foot."
   ]
  },
  {
   "cell_type": "code",
   "execution_count": 9,
   "metadata": {},
   "outputs": [
    {
     "data": {
      "text/plain": [
       "4169"
      ]
     },
     "execution_count": 9,
     "metadata": {},
     "output_type": "execute_result"
    }
   ],
   "source": [
    "sql.execute('''CREATE TABLE dcp.lot23_no_neighboring_bldg_1ft AS\n",
    "SELECT l.*\n",
    "FROM dcp.lot23_no_neighboring_bldg l\n",
    "WHERE l.bbl NOT IN (\n",
    "SELECT a.bbl\n",
    "    FROM dcp.lot23_no_neighboring_bldg a, dcp.bldg_footprints b\n",
    "    WHERE ST_DWithin(a.building_geom, b.geom, 1)\n",
    "    AND a.bin <> b.bin\n",
    "    AND ST_Distance(a.building_geom, b.geom) > 0)\n",
    "''', cnx)\n",
    "lot23_no_neighboring_bldg_1ft = pd.read_sql_query('''SELECT * FROM dcp.lot23_no_neighboring_bldg_1ft;''', cnx)\n",
    "lot23_no_neighboring_bldg_1ft.shape[0]"
   ]
  },
  {
   "cell_type": "markdown",
   "metadata": {},
   "source": [
    "Get the buildings that have a neighboring building within 1 foot"
   ]
  },
  {
   "cell_type": "code",
   "execution_count": 10,
   "metadata": {},
   "outputs": [
    {
     "data": {
      "text/plain": [
       "1308"
      ]
     },
     "execution_count": 10,
     "metadata": {},
     "output_type": "execute_result"
    }
   ],
   "source": [
    "sql.execute('''CREATE TABLE dcp.lot23_neighboring_bldg_1ft AS\n",
    "SELECT l.*\n",
    "FROM dcp.lot23_no_neighboring_bldg l\n",
    "WHERE l.bbl IN (\n",
    "SELECT a.bbl\n",
    "    FROM dcp.lot23_no_neighboring_bldg a, dcp.bldg_footprints b\n",
    "    WHERE ST_DWithin(a.building_geom, b.geom, 1)\n",
    "    AND a.bin <> b.bin\n",
    "    AND ST_Distance(a.building_geom, b.geom) > 0)\n",
    "''', cnx)\n",
    "lot23_neighboring_bldg_1ft = pd.read_sql_query('''SELECT * FROM dcp.lot23_neighboring_bldg_1ft;''', cnx)\n",
    "lot23_neighboring_bldg_1ft.shape[0]"
   ]
  },
  {
   "cell_type": "markdown",
   "metadata": {},
   "source": [
    "Break out counts by borough"
   ]
  },
  {
   "cell_type": "code",
   "execution_count": 11,
   "metadata": {},
   "outputs": [
    {
     "data": {
      "text/html": [
       "<div>\n",
       "<style scoped>\n",
       "    .dataframe tbody tr th:only-of-type {\n",
       "        vertical-align: middle;\n",
       "    }\n",
       "\n",
       "    .dataframe tbody tr th {\n",
       "        vertical-align: top;\n",
       "    }\n",
       "\n",
       "    .dataframe thead th {\n",
       "        text-align: right;\n",
       "    }\n",
       "</style>\n",
       "<table border=\"1\" class=\"dataframe\">\n",
       "  <thead>\n",
       "    <tr style=\"text-align: right;\">\n",
       "      <th></th>\n",
       "      <th>Borough</th>\n",
       "      <th>count</th>\n",
       "    </tr>\n",
       "  </thead>\n",
       "  <tbody>\n",
       "    <tr>\n",
       "      <td>0</td>\n",
       "      <td>BK</td>\n",
       "      <td>1868</td>\n",
       "    </tr>\n",
       "    <tr>\n",
       "      <td>1</td>\n",
       "      <td>BX</td>\n",
       "      <td>859</td>\n",
       "    </tr>\n",
       "    <tr>\n",
       "      <td>2</td>\n",
       "      <td>MN</td>\n",
       "      <td>461</td>\n",
       "    </tr>\n",
       "    <tr>\n",
       "      <td>3</td>\n",
       "      <td>QN</td>\n",
       "      <td>1442</td>\n",
       "    </tr>\n",
       "    <tr>\n",
       "      <td>4</td>\n",
       "      <td>SI</td>\n",
       "      <td>847</td>\n",
       "    </tr>\n",
       "  </tbody>\n",
       "</table>\n",
       "</div>"
      ],
      "text/plain": [
       "  Borough  count\n",
       "0      BK   1868\n",
       "1      BX    859\n",
       "2      MN    461\n",
       "3      QN   1442\n",
       "4      SI    847"
      ]
     },
     "execution_count": 11,
     "metadata": {},
     "output_type": "execute_result"
    }
   ],
   "source": [
    "boro_breakout = pd.read_sql_query('''SELECT \"Borough\", COUNT(*)\n",
    "FROM dcp.lot23_no_neighboring_bldg l, dcp.pluto202 p\n",
    "WHERE l.bbl = CAST(p.\"BBL\" AS TEXT)\n",
    "GROUP BY \"Borough\";''', cnx)\n",
    "boro_breakout"
   ]
  },
  {
   "cell_type": "code",
   "execution_count": 12,
   "metadata": {},
   "outputs": [
    {
     "data": {
      "image/png": "[encoded data removed]",
      "text/plain": [
       "<Figure size 432x288 with 1 Axes>"
      ]
     },
     "metadata": {},
     "output_type": "display_data"
    }
   ],
   "source": [
    "rcParams['figure.figsize'] = 6, 4\n",
    "xlist = boro_breakout['Borough'].to_list()\n",
    "ylist = boro_breakout['count'].to_list()\n",
    "barlist=plt.bar(xlist, ylist, width=.65)\n",
    "barlist[0].set_color('#ad1f3c')\n",
    "barlist[1].set_color('#f47912')\n",
    "barlist[2].set_color('#a2cc22')\n",
    "barlist[3].set_color('#0086a8')\n",
    "barlist[4].set_color('#832f8e')\n",
    "plt.show()"
   ]
  },
  {
   "cell_type": "markdown",
   "metadata": {},
   "source": [
    "Break out counts by land use code"
   ]
  },
  {
   "cell_type": "code",
   "execution_count": 13,
   "metadata": {},
   "outputs": [
    {
     "data": {
      "text/html": [
       "<div>\n",
       "<style scoped>\n",
       "    .dataframe tbody tr th:only-of-type {\n",
       "        vertical-align: middle;\n",
       "    }\n",
       "\n",
       "    .dataframe tbody tr th {\n",
       "        vertical-align: top;\n",
       "    }\n",
       "\n",
       "    .dataframe thead th {\n",
       "        text-align: right;\n",
       "    }\n",
       "</style>\n",
       "<table border=\"1\" class=\"dataframe\">\n",
       "  <thead>\n",
       "    <tr style=\"text-align: right;\">\n",
       "      <th></th>\n",
       "      <th>LandUse</th>\n",
       "      <th>def</th>\n",
       "      <th>count</th>\n",
       "    </tr>\n",
       "  </thead>\n",
       "  <tbody>\n",
       "    <tr>\n",
       "      <td>0</td>\n",
       "      <td>01</td>\n",
       "      <td>One and Two Family Buildings</td>\n",
       "      <td>2714</td>\n",
       "    </tr>\n",
       "    <tr>\n",
       "      <td>1</td>\n",
       "      <td>02</td>\n",
       "      <td>Multi-Family Walkup Buildings</td>\n",
       "      <td>1204</td>\n",
       "    </tr>\n",
       "    <tr>\n",
       "      <td>2</td>\n",
       "      <td>03</td>\n",
       "      <td>Multi-Family Elevator Buildings</td>\n",
       "      <td>316</td>\n",
       "    </tr>\n",
       "    <tr>\n",
       "      <td>3</td>\n",
       "      <td>04</td>\n",
       "      <td>Mixed Residential and Commercial</td>\n",
       "      <td>536</td>\n",
       "    </tr>\n",
       "    <tr>\n",
       "      <td>4</td>\n",
       "      <td>05</td>\n",
       "      <td>Commercial and Office</td>\n",
       "      <td>337</td>\n",
       "    </tr>\n",
       "    <tr>\n",
       "      <td>5</td>\n",
       "      <td>06</td>\n",
       "      <td>Industrial and Manufacturing</td>\n",
       "      <td>122</td>\n",
       "    </tr>\n",
       "    <tr>\n",
       "      <td>6</td>\n",
       "      <td>07</td>\n",
       "      <td>Transportation and Utility</td>\n",
       "      <td>42</td>\n",
       "    </tr>\n",
       "    <tr>\n",
       "      <td>7</td>\n",
       "      <td>08</td>\n",
       "      <td>Public Facilities and Institutions</td>\n",
       "      <td>152</td>\n",
       "    </tr>\n",
       "    <tr>\n",
       "      <td>8</td>\n",
       "      <td>09</td>\n",
       "      <td>Open Space and Outdoor Recreation</td>\n",
       "      <td>4</td>\n",
       "    </tr>\n",
       "    <tr>\n",
       "      <td>9</td>\n",
       "      <td>10</td>\n",
       "      <td>Parking Facilities</td>\n",
       "      <td>46</td>\n",
       "    </tr>\n",
       "    <tr>\n",
       "      <td>10</td>\n",
       "      <td>None</td>\n",
       "      <td>NULL</td>\n",
       "      <td>4</td>\n",
       "    </tr>\n",
       "  </tbody>\n",
       "</table>\n",
       "</div>"
      ],
      "text/plain": [
       "   LandUse                                 def  count\n",
       "0       01        One and Two Family Buildings   2714\n",
       "1       02       Multi-Family Walkup Buildings   1204\n",
       "2       03     Multi-Family Elevator Buildings    316\n",
       "3       04    Mixed Residential and Commercial    536\n",
       "4       05               Commercial and Office    337\n",
       "5       06        Industrial and Manufacturing    122\n",
       "6       07          Transportation and Utility     42\n",
       "7       08  Public Facilities and Institutions    152\n",
       "8       09   Open Space and Outdoor Recreation      4\n",
       "9       10                  Parking Facilities     46\n",
       "10    None                                NULL      4"
      ]
     },
     "execution_count": 13,
     "metadata": {},
     "output_type": "execute_result"
    }
   ],
   "source": [
    "landuse_breakout = pd.read_sql_query('''SELECT \"LandUse\", COALESCE(def, 'NULL') AS def, COUNT(*)\n",
    "FROM dcp.lot23_no_neighboring_bldg l, dcp.pluto202 p\n",
    "LEFT JOIN dcp.landuse_definitions d\n",
    "ON p.\"LandUse\" = d.landuse\n",
    "WHERE l.bbl = CAST(p.\"BBL\" AS TEXT)\n",
    "GROUP BY \"LandUse\", def''', cnx)\n",
    "landuse_breakout"
   ]
  },
  {
   "cell_type": "code",
   "execution_count": 14,
   "metadata": {},
   "outputs": [
    {
     "data": {
      "image/png": "[encoded data removed]",
      "text/plain": [
       "<Figure size 864x576 with 1 Axes>"
      ]
     },
     "metadata": {},
     "output_type": "display_data"
    }
   ],
   "source": [
    "rcParams['figure.figsize'] = 12, 8\n",
    "xlist = landuse_breakout['def'].to_list()\n",
    "ylist = landuse_breakout['count'].to_list()\n",
    "barlist=plt.bar(xlist, ylist, width=.65)\n",
    "plt.xticks(rotation=-90)\n",
    "plt.show()"
   ]
  },
  {
   "cell_type": "markdown",
   "metadata": {},
   "source": [
    "Tax exempt or not?"
   ]
  },
  {
   "cell_type": "code",
   "execution_count": 15,
   "metadata": {},
   "outputs": [
    {
     "data": {
      "text/html": [
       "<div>\n",
       "<style scoped>\n",
       "    .dataframe tbody tr th:only-of-type {\n",
       "        vertical-align: middle;\n",
       "    }\n",
       "\n",
       "    .dataframe tbody tr th {\n",
       "        vertical-align: top;\n",
       "    }\n",
       "\n",
       "    .dataframe thead th {\n",
       "        text-align: right;\n",
       "    }\n",
       "</style>\n",
       "<table border=\"1\" class=\"dataframe\">\n",
       "  <thead>\n",
       "    <tr style=\"text-align: right;\">\n",
       "      <th></th>\n",
       "      <th>Exempt</th>\n",
       "      <th>count</th>\n",
       "    </tr>\n",
       "  </thead>\n",
       "  <tbody>\n",
       "    <tr>\n",
       "      <td>0</td>\n",
       "      <td>N</td>\n",
       "      <td>5270</td>\n",
       "    </tr>\n",
       "    <tr>\n",
       "      <td>1</td>\n",
       "      <td>Y</td>\n",
       "      <td>207</td>\n",
       "    </tr>\n",
       "  </tbody>\n",
       "</table>\n",
       "</div>"
      ],
      "text/plain": [
       "  Exempt  count\n",
       "0      N   5270\n",
       "1      Y    207"
      ]
     },
     "execution_count": 15,
     "metadata": {},
     "output_type": "execute_result"
    }
   ],
   "source": [
    "tax_exempt_breakout = pd.read_sql_query('''SELECT\n",
    "CASE \n",
    "\tWHEN \"ExemptTot\" = \"AssessTot\" THEN 'Y'\n",
    "\tELSE 'N'\n",
    "END AS \"Exempt\",\n",
    "COUNT(*)\n",
    "FROM dcp.lot23_no_neighboring_bldg l, dcp.pluto202 p\n",
    "WHERE l.bbl = CAST(p.\"BBL\" AS TEXT)\n",
    "GROUP BY 1;''', cnx)\n",
    "tax_exempt_breakout"
   ]
  },
  {
   "cell_type": "code",
   "execution_count": 16,
   "metadata": {},
   "outputs": [
    {
     "data": {
      "image/png": "[encoded data removed]",
      "text/plain": [
       "<Figure size 432x144 with 1 Axes>"
      ]
     },
     "metadata": {},
     "output_type": "display_data"
    }
   ],
   "source": [
    "rcParams['figure.figsize'] = 6, 2\n",
    "xlist = tax_exempt_breakout['Exempt'].to_list()\n",
    "ylist = tax_exempt_breakout['count'].to_list()\n",
    "barlist=plt.barh(xlist, ylist, height=.45)\n",
    "barlist[0].set_color('#f47912')\n",
    "barlist[1].set_color('#0086a8')\n",
    "plt.show()"
   ]
  },
  {
   "cell_type": "markdown",
   "metadata": {},
   "source": [
    "#### ProxCode = 1 (Non-Attached Buildings)"
   ]
  },
  {
   "cell_type": "markdown",
   "metadata": {},
   "source": [
    "Create a table holding only those lots/buildings where the ProxCode = 1 (non-attached buildings)."
   ]
  },
  {
   "cell_type": "code",
   "execution_count": 17,
   "metadata": {},
   "outputs": [
    {
     "data": {
      "text/plain": [
       "162869"
      ]
     },
     "execution_count": 17,
     "metadata": {},
     "output_type": "execute_result"
    }
   ],
   "source": [
    "sql.execute('''CREATE TABLE dcp.buildings_1 AS\n",
    "SELECT CAST(\"BBL\" AS TEXT) AS bbl, \n",
    "b.bin, \n",
    "b.geom as building_geom, \n",
    "p.geom as lot_geom\n",
    "FROM dcp.pluto202 p, dcp.bldg_footprints b\n",
    "WHERE \"ProxCode\" = '1'\n",
    "AND \"NumBldgs\" = 1\n",
    "AND CAST(p.\"BBL\" AS TEXT) = b.mpluto_bbl;\n",
    "CREATE INDEX lot_geom_idx_1\n",
    "  ON dcp.buildings_1\n",
    "  USING GIST (lot_geom);\n",
    "CREATE INDEX building_geom_idx_1\n",
    "  ON dcp.buildings_1\n",
    "  USING GIST (building_geom);''', cnx)\n",
    "buildings_1 = pd.read_sql_query('''SELECT * FROM dcp.buildings_1;''', cnx)\n",
    "buildings_1.shape[0]"
   ]
  },
  {
   "cell_type": "markdown",
   "metadata": {},
   "source": [
    "Get geometry for lot where ProxCode equals 1 but the building has an abutting building"
   ]
  },
  {
   "cell_type": "code",
   "execution_count": 18,
   "metadata": {},
   "outputs": [
    {
     "data": {
      "text/plain": [
       "13627"
      ]
     },
     "execution_count": 18,
     "metadata": {},
     "output_type": "execute_result"
    }
   ],
   "source": [
    "sql.execute('''CREATE TABLE dcp.lot1_bldg AS\n",
    "SELECT b1.bbl, b1.bin AS bldg1_bin, b1.building_geom, b2.bin AS footprints_bin\n",
    "FROM dcp.buildings_1 b1, dcp.bldg_footprints b2\n",
    "WHERE (b1.bin <> b2.bin)\n",
    "AND ST_DWithin(b1.building_geom, b2.geom, 0)\n",
    "AND NOT ST_Equals(b1.building_geom, b2.geom);''', cnx)\n",
    "lot1_bldg = pd.read_sql_query('''SELECT * FROM dcp.lot1_bldg;''', cnx)\n",
    "lot1_bldg.shape[0]"
   ]
  },
  {
   "cell_type": "markdown",
   "metadata": {},
   "source": [
    "Importing the geometry from the buildings characterized as standalone along with neighboring buildings shows that some actually abut other buildings (13627 of 162869 or 8.36%). Put the neighboring buildings in a table so you can import them into shapefiles and view them in ArcMap."
   ]
  },
  {
   "cell_type": "code",
   "execution_count": 19,
   "metadata": {},
   "outputs": [
    {
     "data": {
      "text/plain": [
       "13627"
      ]
     },
     "execution_count": 19,
     "metadata": {},
     "output_type": "execute_result"
    }
   ],
   "source": [
    "sql.execute('''CREATE TABLE dcp.lot1_neighboring_bldg AS\n",
    "SELECT b2.mpluto_bbl, b2.bin, b2.geom\n",
    "FROM dcp.buildings_1 b1, dcp.bldg_footprints b2\n",
    "WHERE (b1.bin <> b2.bin)\n",
    "AND ST_DWithin(b1.building_geom, b2.geom, 0)\n",
    "AND NOT ST_Equals(b1.building_geom, b2.geom);''', cnx)\n",
    "lot1_neighboring_bldg = pd.read_sql_query('''SELECT * FROM dcp.lot1_neighboring_bldg;''', cnx)\n",
    "lot1_neighboring_bldg.shape[0]"
   ]
  },
  {
   "cell_type": "markdown",
   "metadata": {},
   "source": [
    "Break out counts of records by borough"
   ]
  },
  {
   "cell_type": "code",
   "execution_count": 20,
   "metadata": {},
   "outputs": [
    {
     "data": {
      "text/html": [
       "<div>\n",
       "<style scoped>\n",
       "    .dataframe tbody tr th:only-of-type {\n",
       "        vertical-align: middle;\n",
       "    }\n",
       "\n",
       "    .dataframe tbody tr th {\n",
       "        vertical-align: top;\n",
       "    }\n",
       "\n",
       "    .dataframe thead th {\n",
       "        text-align: right;\n",
       "    }\n",
       "</style>\n",
       "<table border=\"1\" class=\"dataframe\">\n",
       "  <thead>\n",
       "    <tr style=\"text-align: right;\">\n",
       "      <th></th>\n",
       "      <th>Borough</th>\n",
       "      <th>count</th>\n",
       "    </tr>\n",
       "  </thead>\n",
       "  <tbody>\n",
       "    <tr>\n",
       "      <td>0</td>\n",
       "      <td>BK</td>\n",
       "      <td>4505</td>\n",
       "    </tr>\n",
       "    <tr>\n",
       "      <td>1</td>\n",
       "      <td>BX</td>\n",
       "      <td>2818</td>\n",
       "    </tr>\n",
       "    <tr>\n",
       "      <td>2</td>\n",
       "      <td>MN</td>\n",
       "      <td>1142</td>\n",
       "    </tr>\n",
       "    <tr>\n",
       "      <td>3</td>\n",
       "      <td>QN</td>\n",
       "      <td>3334</td>\n",
       "    </tr>\n",
       "    <tr>\n",
       "      <td>4</td>\n",
       "      <td>SI</td>\n",
       "      <td>1794</td>\n",
       "    </tr>\n",
       "  </tbody>\n",
       "</table>\n",
       "</div>"
      ],
      "text/plain": [
       "  Borough  count\n",
       "0      BK   4505\n",
       "1      BX   2818\n",
       "2      MN   1142\n",
       "3      QN   3334\n",
       "4      SI   1794"
      ]
     },
     "execution_count": 20,
     "metadata": {},
     "output_type": "execute_result"
    }
   ],
   "source": [
    "boro_breakout = pd.read_sql_query('''SELECT \"Borough\", COUNT(*)\n",
    "FROM dcp.lot1_neighboring_bldg l, dcp.pluto202 p\n",
    "WHERE l.mpluto_bbl = CAST(p.\"BBL\" AS TEXT)\n",
    "GROUP BY \"Borough\";''', cnx)\n",
    "boro_breakout"
   ]
  },
  {
   "cell_type": "code",
   "execution_count": 21,
   "metadata": {},
   "outputs": [
    {
     "data": {
      "image/png": "[encoded data removed]",
      "text/plain": [
       "<Figure size 432x288 with 1 Axes>"
      ]
     },
     "metadata": {},
     "output_type": "display_data"
    }
   ],
   "source": [
    "rcParams['figure.figsize'] = 6, 4\n",
    "xlist = boro_breakout['Borough'].to_list()\n",
    "ylist = boro_breakout['count'].to_list()\n",
    "barlist=plt.bar(xlist, ylist, width=.65)\n",
    "barlist[0].set_color('#ad1f3c')\n",
    "barlist[1].set_color('#f47912')\n",
    "barlist[2].set_color('#a2cc22')\n",
    "barlist[3].set_color('#0086a8')\n",
    "barlist[4].set_color('#832f8e')\n",
    "plt.show()"
   ]
  },
  {
   "cell_type": "markdown",
   "metadata": {},
   "source": [
    "Break out counts of records by land use code"
   ]
  },
  {
   "cell_type": "code",
   "execution_count": 22,
   "metadata": {},
   "outputs": [
    {
     "data": {
      "text/html": [
       "<div>\n",
       "<style scoped>\n",
       "    .dataframe tbody tr th:only-of-type {\n",
       "        vertical-align: middle;\n",
       "    }\n",
       "\n",
       "    .dataframe tbody tr th {\n",
       "        vertical-align: top;\n",
       "    }\n",
       "\n",
       "    .dataframe thead th {\n",
       "        text-align: right;\n",
       "    }\n",
       "</style>\n",
       "<table border=\"1\" class=\"dataframe\">\n",
       "  <thead>\n",
       "    <tr style=\"text-align: right;\">\n",
       "      <th></th>\n",
       "      <th>LandUse</th>\n",
       "      <th>def</th>\n",
       "      <th>count</th>\n",
       "    </tr>\n",
       "  </thead>\n",
       "  <tbody>\n",
       "    <tr>\n",
       "      <td>0</td>\n",
       "      <td>01</td>\n",
       "      <td>One and Two Family Buildings</td>\n",
       "      <td>5653</td>\n",
       "    </tr>\n",
       "    <tr>\n",
       "      <td>1</td>\n",
       "      <td>02</td>\n",
       "      <td>Multi-Family Walkup Buildings</td>\n",
       "      <td>2986</td>\n",
       "    </tr>\n",
       "    <tr>\n",
       "      <td>2</td>\n",
       "      <td>03</td>\n",
       "      <td>Multi-Family Elevator Buildings</td>\n",
       "      <td>506</td>\n",
       "    </tr>\n",
       "    <tr>\n",
       "      <td>3</td>\n",
       "      <td>04</td>\n",
       "      <td>Mixed Residential and Commercial</td>\n",
       "      <td>1554</td>\n",
       "    </tr>\n",
       "    <tr>\n",
       "      <td>4</td>\n",
       "      <td>05</td>\n",
       "      <td>Commercial and Office</td>\n",
       "      <td>1166</td>\n",
       "    </tr>\n",
       "    <tr>\n",
       "      <td>5</td>\n",
       "      <td>06</td>\n",
       "      <td>Industrial and Manufacturing</td>\n",
       "      <td>675</td>\n",
       "    </tr>\n",
       "    <tr>\n",
       "      <td>6</td>\n",
       "      <td>07</td>\n",
       "      <td>Transportation and Utility</td>\n",
       "      <td>250</td>\n",
       "    </tr>\n",
       "    <tr>\n",
       "      <td>7</td>\n",
       "      <td>08</td>\n",
       "      <td>Public Facilities and Institutions</td>\n",
       "      <td>467</td>\n",
       "    </tr>\n",
       "    <tr>\n",
       "      <td>8</td>\n",
       "      <td>09</td>\n",
       "      <td>Open Space and Outdoor Recreation</td>\n",
       "      <td>5</td>\n",
       "    </tr>\n",
       "    <tr>\n",
       "      <td>9</td>\n",
       "      <td>10</td>\n",
       "      <td>Parking Facilities</td>\n",
       "      <td>201</td>\n",
       "    </tr>\n",
       "    <tr>\n",
       "      <td>10</td>\n",
       "      <td>11</td>\n",
       "      <td>Vacant Land</td>\n",
       "      <td>90</td>\n",
       "    </tr>\n",
       "    <tr>\n",
       "      <td>11</td>\n",
       "      <td>None</td>\n",
       "      <td>NULL</td>\n",
       "      <td>40</td>\n",
       "    </tr>\n",
       "  </tbody>\n",
       "</table>\n",
       "</div>"
      ],
      "text/plain": [
       "   LandUse                                 def  count\n",
       "0       01        One and Two Family Buildings   5653\n",
       "1       02       Multi-Family Walkup Buildings   2986\n",
       "2       03     Multi-Family Elevator Buildings    506\n",
       "3       04    Mixed Residential and Commercial   1554\n",
       "4       05               Commercial and Office   1166\n",
       "5       06        Industrial and Manufacturing    675\n",
       "6       07          Transportation and Utility    250\n",
       "7       08  Public Facilities and Institutions    467\n",
       "8       09   Open Space and Outdoor Recreation      5\n",
       "9       10                  Parking Facilities    201\n",
       "10      11                         Vacant Land     90\n",
       "11    None                                NULL     40"
      ]
     },
     "execution_count": 22,
     "metadata": {},
     "output_type": "execute_result"
    }
   ],
   "source": [
    "rcParams['figure.figsize'] = 12, 8\n",
    "landuse_breakout = pd.read_sql_query('''SELECT \"LandUse\", COALESCE(def, 'NULL') AS def, COUNT(*)\n",
    "FROM dcp.lot1_neighboring_bldg l, dcp.pluto202 p\n",
    "LEFT JOIN dcp.landuse_definitions d\n",
    "ON p.\"LandUse\" = d.landuse\n",
    "WHERE l.mpluto_bbl = CAST(p.\"BBL\" AS TEXT)\n",
    "GROUP BY \"LandUse\", def''', cnx)\n",
    "landuse_breakout"
   ]
  },
  {
   "cell_type": "code",
   "execution_count": 23,
   "metadata": {},
   "outputs": [
    {
     "data": {
      "image/png": "[encoded data removed]",
      "text/plain": [
       "<Figure size 864x576 with 1 Axes>"
      ]
     },
     "metadata": {},
     "output_type": "display_data"
    }
   ],
   "source": [
    "xlist = landuse_breakout['def'].to_list()\n",
    "ylist = landuse_breakout['count'].to_list()\n",
    "barlist=plt.bar(xlist, ylist, width=.65)\n",
    "plt.xticks(rotation=-90)\n",
    "plt.show()"
   ]
  },
  {
   "cell_type": "markdown",
   "metadata": {},
   "source": [
    "Tax exempt or not?"
   ]
  },
  {
   "cell_type": "code",
   "execution_count": 24,
   "metadata": {},
   "outputs": [
    {
     "data": {
      "text/html": [
       "<div>\n",
       "<style scoped>\n",
       "    .dataframe tbody tr th:only-of-type {\n",
       "        vertical-align: middle;\n",
       "    }\n",
       "\n",
       "    .dataframe tbody tr th {\n",
       "        vertical-align: top;\n",
       "    }\n",
       "\n",
       "    .dataframe thead th {\n",
       "        text-align: right;\n",
       "    }\n",
       "</style>\n",
       "<table border=\"1\" class=\"dataframe\">\n",
       "  <thead>\n",
       "    <tr style=\"text-align: right;\">\n",
       "      <th></th>\n",
       "      <th>Exempt</th>\n",
       "      <th>count</th>\n",
       "    </tr>\n",
       "  </thead>\n",
       "  <tbody>\n",
       "    <tr>\n",
       "      <td>0</td>\n",
       "      <td>N</td>\n",
       "      <td>12943</td>\n",
       "    </tr>\n",
       "    <tr>\n",
       "      <td>1</td>\n",
       "      <td>Y</td>\n",
       "      <td>650</td>\n",
       "    </tr>\n",
       "  </tbody>\n",
       "</table>\n",
       "</div>"
      ],
      "text/plain": [
       "  Exempt  count\n",
       "0      N  12943\n",
       "1      Y    650"
      ]
     },
     "execution_count": 24,
     "metadata": {},
     "output_type": "execute_result"
    }
   ],
   "source": [
    "tax_exempt_breakout = pd.read_sql_query('''SELECT\n",
    "CASE \n",
    "\tWHEN \"ExemptTot\" = \"AssessTot\" THEN 'Y'\n",
    "\tELSE 'N'\n",
    "END AS \"Exempt\",\n",
    "COUNT(*)\n",
    "FROM dcp.lot1_neighboring_bldg l, dcp.pluto202 p\n",
    "WHERE l.mpluto_bbl = CAST(p.\"BBL\" AS TEXT)\n",
    "GROUP BY 1;''', cnx)\n",
    "tax_exempt_breakout"
   ]
  },
  {
   "cell_type": "code",
   "execution_count": 25,
   "metadata": {},
   "outputs": [
    {
     "data": {
      "image/png": "[encoded data removed]",
      "text/plain": [
       "<Figure size 432x144 with 1 Axes>"
      ]
     },
     "metadata": {},
     "output_type": "display_data"
    }
   ],
   "source": [
    "rcParams['figure.figsize'] = 6, 2\n",
    "xlist = tax_exempt_breakout['Exempt'].to_list()\n",
    "ylist = tax_exempt_breakout['count'].to_list()\n",
    "barlist=plt.barh(xlist, ylist, height=.45)\n",
    "barlist[0].set_color('#f47912')\n",
    "barlist[1].set_color('#0086a8')\n",
    "plt.show()"
   ]
  },
  {
   "cell_type": "code",
   "execution_count": null,
   "metadata": {},
   "outputs": [],
   "source": []
  }
 ],
 "metadata": {
  "kernelspec": {
   "display_name": "Python 3",
   "language": "python",
   "name": "python3"
  },
  "language_info": {
   "codemirror_mode": {
    "name": "ipython",
    "version": 3
   },
   "file_extension": ".py",
   "mimetype": "text/x-python",
   "name": "python",
   "nbconvert_exporter": "python",
   "pygments_lexer": "ipython3",
   "version": "3.7.5"
  }
 },
 "nbformat": 4,
 "nbformat_minor": 2
}
