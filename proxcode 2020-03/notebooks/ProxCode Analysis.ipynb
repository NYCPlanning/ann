{
 "cells": [
  {
   "cell_type": "code",
   "execution_count": 1,
   "metadata": {},
   "outputs": [],
   "source": [
    "import numpy as np\n",
    "import pandas as pd\n",
    "from pandas.io import sql\n",
    "from sqlalchemy import create_engine\n",
    "import os\n",
    "import matplotlib.pyplot as plt\n",
    "import seaborn as sns"
   ]
  },
  {
   "cell_type": "code",
   "execution_count": 2,
   "metadata": {},
   "outputs": [],
   "source": [
    "%load_ext dotenv\n",
    "%dotenv ../.env"
   ]
  },
  {
   "cell_type": "code",
   "execution_count": 3,
   "metadata": {},
   "outputs": [],
   "source": [
    "cnx = create_engine(os.getenv('EDMDB'))"
   ]
  },
  {
   "cell_type": "markdown",
   "metadata": {},
   "source": [
    "Are there any invalid proxcode values on PLUTO? There are some NULL values."
   ]
  },
  {
   "cell_type": "code",
   "execution_count": 4,
   "metadata": {},
   "outputs": [
    {
     "data": {
      "text/html": [
       "<div>\n",
       "<style scoped>\n",
       "    .dataframe tbody tr th:only-of-type {\n",
       "        vertical-align: middle;\n",
       "    }\n",
       "\n",
       "    .dataframe tbody tr th {\n",
       "        vertical-align: top;\n",
       "    }\n",
       "\n",
       "    .dataframe thead th {\n",
       "        text-align: right;\n",
       "    }\n",
       "</style>\n",
       "<table border=\"1\" class=\"dataframe\">\n",
       "  <thead>\n",
       "    <tr style=\"text-align: right;\">\n",
       "      <th></th>\n",
       "      <th>ProxCode</th>\n",
       "      <th>count</th>\n",
       "    </tr>\n",
       "  </thead>\n",
       "  <tbody>\n",
       "    <tr>\n",
       "      <td>0</td>\n",
       "      <td>0</td>\n",
       "      <td>141749</td>\n",
       "    </tr>\n",
       "    <tr>\n",
       "      <td>1</td>\n",
       "      <td>1</td>\n",
       "      <td>313774</td>\n",
       "    </tr>\n",
       "    <tr>\n",
       "      <td>2</td>\n",
       "      <td>2</td>\n",
       "      <td>200383</td>\n",
       "    </tr>\n",
       "    <tr>\n",
       "      <td>3</td>\n",
       "      <td>3</td>\n",
       "      <td>200940</td>\n",
       "    </tr>\n",
       "    <tr>\n",
       "      <td>4</td>\n",
       "      <td>None</td>\n",
       "      <td>375</td>\n",
       "    </tr>\n",
       "  </tbody>\n",
       "</table>\n",
       "</div>"
      ],
      "text/plain": [
       "  ProxCode   count\n",
       "0        0  141749\n",
       "1        1  313774\n",
       "2        2  200383\n",
       "3        3  200940\n",
       "4     None     375"
      ]
     },
     "execution_count": 4,
     "metadata": {},
     "output_type": "execute_result"
    }
   ],
   "source": [
    "proxcode_counts = pd.read_sql_query('''SELECT \"ProxCode\", COUNT(*)\n",
    "FROM dcp.pluto202\n",
    "GROUP BY \"ProxCode\";''', cnx)\n",
    "proxcode_counts"
   ]
  },
  {
   "cell_type": "code",
   "execution_count": 5,
   "metadata": {},
   "outputs": [
    {
     "data": {
      "text/plain": [
       "<sqlalchemy.engine.result.ResultProxy at 0x1201fbc90>"
      ]
     },
     "execution_count": 5,
     "metadata": {},
     "output_type": "execute_result"
    }
   ],
   "source": [
    "sql.execute('''DROP TABLE IF EXISTS dcp.buildings_23;\n",
    "DROP TABLE IF EXISTS dcp.attached_no_neighbor;\n",
    "DROP TABLE IF EXISTS dcp.buildings_1;\n",
    "DROP TABLE IF EXISTS dcp.standalone_building_with_neighbor;''', cnx)"
   ]
  },
  {
   "cell_type": "markdown",
   "metadata": {},
   "source": [
    "Get buildings and geometries for lots marked as attached or semi-attached. Limit analysis to those lots having only one building."
   ]
  },
  {
   "cell_type": "code",
   "execution_count": 6,
   "metadata": {},
   "outputs": [
    {
     "data": {
      "text/plain": [
       "<sqlalchemy.engine.result.ResultProxy at 0x106284310>"
      ]
     },
     "execution_count": 6,
     "metadata": {},
     "output_type": "execute_result"
    }
   ],
   "source": [
    "sql.execute('''CREATE TABLE dcp.buildings_23 AS\n",
    "    SELECT CAST(p.\"BBL\" AS TEXT) AS bbl, bin, f.geom as building_geom, p.geom as lot_geom\n",
    "    FROM dcp.bldg_footprints f, dcp.pluto202 p\n",
    "    WHERE f.mpluto_bbl = CAST(p.\"BBL\" AS TEXT)\n",
    "    AND \"ProxCode\" IN ('2', '3')\n",
    "    AND \"NumBldgs\" = 1;\n",
    "CREATE INDEX lot_geom_idx\n",
    "  ON dcp.buildings_23\n",
    "  USING GIST (lot_geom);\n",
    "CREATE INDEX building_geom_idx\n",
    "  ON dcp.buildings_23\n",
    "  USING GIST (building_geom);\n",
    "''', cnx)"
   ]
  },
  {
   "cell_type": "markdown",
   "metadata": {},
   "source": [
    "Get buildings whose ProxCode is either 'attached' or 'semi-attached', yet have no buildings abutting them.\n",
    "Note that ST_Intersects seemed to work better here than ST_Touches; I'm not sure why."
   ]
  },
  {
   "cell_type": "code",
   "execution_count": 7,
   "metadata": {},
   "outputs": [
    {
     "data": {
      "text/plain": [
       "<sqlalchemy.engine.result.ResultProxy at 0x1202a0b90>"
      ]
     },
     "execution_count": 7,
     "metadata": {},
     "output_type": "execute_result"
    }
   ],
   "source": [
    "sql.execute('''CREATE TABLE dcp.attached_no_neighbor AS\n",
    "SELECT b1.bbl, b1.bin, b1.building_geom, b1.lot_geom, COALESCE(x.count,0) AS count\n",
    "FROM dcp.buildings_23 b1\n",
    "LEFT JOIN (\n",
    "\tSELECT b1.bbl as bbl, COUNT(*) AS count\n",
    "\tFROM dcp.bldg_footprints b2, dcp.buildings_23 b1\n",
    "\tWHERE ST_Intersects(b2.geom, b1.building_geom)\n",
    "\tAND b2.mpluto_bbl <> b1.bbl\n",
    "\tAND b2.bin <> b1.bin\n",
    "\tGROUP BY b1.bbl\n",
    ") x\n",
    "ON b1.bbl = x.bbl\n",
    "WHERE COALESCE(x.count,0) = 0;''', cnx)"
   ]
  },
  {
   "cell_type": "markdown",
   "metadata": {},
   "source": [
    "5477 of 331926 buildings have no abutting building even if they are characterized as attached or semi attached. This is about 1.6%."
   ]
  },
  {
   "cell_type": "code",
   "execution_count": 8,
   "metadata": {},
   "outputs": [
    {
     "data": {
      "text/html": [
       "<div>\n",
       "<style scoped>\n",
       "    .dataframe tbody tr th:only-of-type {\n",
       "        vertical-align: middle;\n",
       "    }\n",
       "\n",
       "    .dataframe tbody tr th {\n",
       "        vertical-align: top;\n",
       "    }\n",
       "\n",
       "    .dataframe thead th {\n",
       "        text-align: right;\n",
       "    }\n",
       "</style>\n",
       "<table border=\"1\" class=\"dataframe\">\n",
       "  <thead>\n",
       "    <tr style=\"text-align: right;\">\n",
       "      <th></th>\n",
       "      <th>count</th>\n",
       "    </tr>\n",
       "  </thead>\n",
       "  <tbody>\n",
       "    <tr>\n",
       "      <td>0</td>\n",
       "      <td>5477</td>\n",
       "    </tr>\n",
       "  </tbody>\n",
       "</table>\n",
       "</div>"
      ],
      "text/plain": [
       "   count\n",
       "0   5477"
      ]
     },
     "execution_count": 8,
     "metadata": {},
     "output_type": "execute_result"
    }
   ],
   "source": [
    "no_abutting_buildings = pd.read_sql_query('''SELECT COUNT(*) FROM dcp.attached_no_neighbor;''', cnx)\n",
    "no_abutting_buildings"
   ]
  },
  {
   "cell_type": "markdown",
   "metadata": {},
   "source": [
    "Of these buildings who have no attached building, how many have a building within a foot? Of the 5477, 1503 have a building within a foot away."
   ]
  },
  {
   "cell_type": "code",
   "execution_count": 9,
   "metadata": {},
   "outputs": [
    {
     "data": {
      "text/html": [
       "<div>\n",
       "<style scoped>\n",
       "    .dataframe tbody tr th:only-of-type {\n",
       "        vertical-align: middle;\n",
       "    }\n",
       "\n",
       "    .dataframe tbody tr th {\n",
       "        vertical-align: top;\n",
       "    }\n",
       "\n",
       "    .dataframe thead th {\n",
       "        text-align: right;\n",
       "    }\n",
       "</style>\n",
       "<table border=\"1\" class=\"dataframe\">\n",
       "  <thead>\n",
       "    <tr style=\"text-align: right;\">\n",
       "      <th></th>\n",
       "      <th>bbl</th>\n",
       "      <th>bin</th>\n",
       "      <th>building_geom</th>\n",
       "      <th>lot_geom</th>\n",
       "      <th>count</th>\n",
       "      <th>distance</th>\n",
       "    </tr>\n",
       "  </thead>\n",
       "  <tbody>\n",
       "    <tr>\n",
       "      <td>0</td>\n",
       "      <td>1015790030</td>\n",
       "      <td>1089903.0</td>\n",
       "      <td>0106000020D70800000100000001030000000100000005...</td>\n",
       "      <td>0106000020D70800000100000001030000000100000009...</td>\n",
       "      <td>0</td>\n",
       "      <td>9.996955e-01</td>\n",
       "    </tr>\n",
       "    <tr>\n",
       "      <td>1</td>\n",
       "      <td>2031860078</td>\n",
       "      <td>2014075.0</td>\n",
       "      <td>0106000020D70800000100000001030000000100000009...</td>\n",
       "      <td>0106000020D70800000100000001030000000100000005...</td>\n",
       "      <td>0</td>\n",
       "      <td>9.996546e-01</td>\n",
       "    </tr>\n",
       "    <tr>\n",
       "      <td>2</td>\n",
       "      <td>4010050003</td>\n",
       "      <td>4616467.0</td>\n",
       "      <td>0106000020D70800000100000001030000000100000005...</td>\n",
       "      <td>0106000020D70800000100000001030000000100000005...</td>\n",
       "      <td>0</td>\n",
       "      <td>9.985120e-01</td>\n",
       "    </tr>\n",
       "    <tr>\n",
       "      <td>3</td>\n",
       "      <td>4101090020</td>\n",
       "      <td>4215653.0</td>\n",
       "      <td>0106000020D70800000100000001030000000100000007...</td>\n",
       "      <td>0106000020D70800000100000001030000000100000005...</td>\n",
       "      <td>0</td>\n",
       "      <td>9.983993e-01</td>\n",
       "    </tr>\n",
       "    <tr>\n",
       "      <td>4</td>\n",
       "      <td>2029940013</td>\n",
       "      <td>2120167.0</td>\n",
       "      <td>0106000020D70800000100000001030000000100000008...</td>\n",
       "      <td>0106000020D70800000100000001030000000100000006...</td>\n",
       "      <td>0</td>\n",
       "      <td>9.973484e-01</td>\n",
       "    </tr>\n",
       "    <tr>\n",
       "      <td>...</td>\n",
       "      <td>...</td>\n",
       "      <td>...</td>\n",
       "      <td>...</td>\n",
       "      <td>...</td>\n",
       "      <td>...</td>\n",
       "      <td>...</td>\n",
       "    </tr>\n",
       "    <tr>\n",
       "      <td>1498</td>\n",
       "      <td>3023770012</td>\n",
       "      <td>3251740.0</td>\n",
       "      <td>0106000020D70800000100000001030000000100000013...</td>\n",
       "      <td>0106000020D70800000100000001030000000100000005...</td>\n",
       "      <td>0</td>\n",
       "      <td>1.401444e-05</td>\n",
       "    </tr>\n",
       "    <tr>\n",
       "      <td>1499</td>\n",
       "      <td>3034327502</td>\n",
       "      <td>3403057.0</td>\n",
       "      <td>0106000020D7080000010000000103000000010000000B...</td>\n",
       "      <td>0106000020D7080000010000000103000000010000000B...</td>\n",
       "      <td>0</td>\n",
       "      <td>1.136166e-05</td>\n",
       "    </tr>\n",
       "    <tr>\n",
       "      <td>1500</td>\n",
       "      <td>2048250005</td>\n",
       "      <td>2062933.0</td>\n",
       "      <td>0106000020D70800000100000001030000000100000007...</td>\n",
       "      <td>0106000020D70800000100000001030000000100000005...</td>\n",
       "      <td>0</td>\n",
       "      <td>6.411072e-06</td>\n",
       "    </tr>\n",
       "    <tr>\n",
       "      <td>1501</td>\n",
       "      <td>4006910041</td>\n",
       "      <td>4011729.0</td>\n",
       "      <td>0106000020D7080000010000000103000000010000000C...</td>\n",
       "      <td>0106000020D70800000100000001030000000100000005...</td>\n",
       "      <td>0</td>\n",
       "      <td>5.629593e-06</td>\n",
       "    </tr>\n",
       "    <tr>\n",
       "      <td>1502</td>\n",
       "      <td>3056307501</td>\n",
       "      <td>3424788.0</td>\n",
       "      <td>0106000020D70800000100000001030000000100000005...</td>\n",
       "      <td>0106000020D70800000100000001030000000100000007...</td>\n",
       "      <td>0</td>\n",
       "      <td>7.151875e-07</td>\n",
       "    </tr>\n",
       "  </tbody>\n",
       "</table>\n",
       "<p>1503 rows × 6 columns</p>\n",
       "</div>"
      ],
      "text/plain": [
       "             bbl        bin  \\\n",
       "0     1015790030  1089903.0   \n",
       "1     2031860078  2014075.0   \n",
       "2     4010050003  4616467.0   \n",
       "3     4101090020  4215653.0   \n",
       "4     2029940013  2120167.0   \n",
       "...          ...        ...   \n",
       "1498  3023770012  3251740.0   \n",
       "1499  3034327502  3403057.0   \n",
       "1500  2048250005  2062933.0   \n",
       "1501  4006910041  4011729.0   \n",
       "1502  3056307501  3424788.0   \n",
       "\n",
       "                                          building_geom  \\\n",
       "0     0106000020D70800000100000001030000000100000005...   \n",
       "1     0106000020D70800000100000001030000000100000009...   \n",
       "2     0106000020D70800000100000001030000000100000005...   \n",
       "3     0106000020D70800000100000001030000000100000007...   \n",
       "4     0106000020D70800000100000001030000000100000008...   \n",
       "...                                                 ...   \n",
       "1498  0106000020D70800000100000001030000000100000013...   \n",
       "1499  0106000020D7080000010000000103000000010000000B...   \n",
       "1500  0106000020D70800000100000001030000000100000007...   \n",
       "1501  0106000020D7080000010000000103000000010000000C...   \n",
       "1502  0106000020D70800000100000001030000000100000005...   \n",
       "\n",
       "                                               lot_geom  count      distance  \n",
       "0     0106000020D70800000100000001030000000100000009...      0  9.996955e-01  \n",
       "1     0106000020D70800000100000001030000000100000005...      0  9.996546e-01  \n",
       "2     0106000020D70800000100000001030000000100000005...      0  9.985120e-01  \n",
       "3     0106000020D70800000100000001030000000100000005...      0  9.983993e-01  \n",
       "4     0106000020D70800000100000001030000000100000006...      0  9.973484e-01  \n",
       "...                                                 ...    ...           ...  \n",
       "1498  0106000020D70800000100000001030000000100000005...      0  1.401444e-05  \n",
       "1499  0106000020D7080000010000000103000000010000000B...      0  1.136166e-05  \n",
       "1500  0106000020D70800000100000001030000000100000005...      0  6.411072e-06  \n",
       "1501  0106000020D70800000100000001030000000100000005...      0  5.629593e-06  \n",
       "1502  0106000020D70800000100000001030000000100000007...      0  7.151875e-07  \n",
       "\n",
       "[1503 rows x 6 columns]"
      ]
     },
     "execution_count": 9,
     "metadata": {},
     "output_type": "execute_result"
    }
   ],
   "source": [
    "with_onefoot_neighbors = pd.read_sql_query('''SELECT a.*, ST_Distance(a.building_geom, b.geom) AS distance\n",
    "FROM dcp.attached_no_neighbor a, dcp.bldg_footprints b\n",
    "WHERE ST_DWithin(a.building_geom, b.geom, 1)\n",
    "AND a.bin <> b.bin\n",
    "AND ST_Distance(a.building_geom, b.geom) > 0\n",
    "ORDER BY 6 desc;''', cnx)\n",
    "with_onefoot_neighbors"
   ]
  },
  {
   "cell_type": "markdown",
   "metadata": {},
   "source": [
    "Now create a table holding only those lots/buildings where the ProxCode = 1 (non-attached buildings)."
   ]
  },
  {
   "cell_type": "code",
   "execution_count": 10,
   "metadata": {},
   "outputs": [
    {
     "data": {
      "text/plain": [
       "<sqlalchemy.engine.result.ResultProxy at 0x1202a3450>"
      ]
     },
     "execution_count": 10,
     "metadata": {},
     "output_type": "execute_result"
    }
   ],
   "source": [
    "sql.execute('''CREATE TABLE dcp.buildings_1 AS\n",
    "SELECT CAST(\"BBL\" AS TEXT) AS bbl, \n",
    "b.bin, \n",
    "b.geom as building_geom, \n",
    "p.geom as lot_geom\n",
    "FROM dcp.pluto202 p, dcp.bldg_footprints b\n",
    "WHERE \"ProxCode\" = '1'\n",
    "AND \"NumBldgs\" = 1\n",
    "AND CAST(p.\"BBL\" AS TEXT) = b.mpluto_bbl;\n",
    "CREATE INDEX lot_geom_idx_1\n",
    "  ON dcp.buildings_1\n",
    "  USING GIST (lot_geom);\n",
    "CREATE INDEX building_geom_idx_1\n",
    "  ON dcp.buildings_1\n",
    "  USING GIST (building_geom);''', cnx)"
   ]
  },
  {
   "cell_type": "code",
   "execution_count": 11,
   "metadata": {},
   "outputs": [
    {
     "data": {
      "text/plain": [
       "<sqlalchemy.engine.result.ResultProxy at 0x1202a37d0>"
      ]
     },
     "execution_count": 11,
     "metadata": {},
     "output_type": "execute_result"
    }
   ],
   "source": [
    "sql.execute('''CREATE TABLE dcp.standalone_with_neighbor AS\n",
    "SELECT b1.bbl, b1.bin AS bldg1_bin, b1.building_geom, b2.bin AS footprints_bin\n",
    "FROM dcp.buildings_1 b1, dcp.bldg_footprints b2\n",
    "WHERE (b1.bin <> b2.bin)\n",
    "AND ST_Intersects(b1.building_geom, b2.geom);''', cnx)"
   ]
  },
  {
   "cell_type": "markdown",
   "metadata": {},
   "source": [
    "Importing the geometry from the buildings characterized as standalone along with neighboring buildings shows that quite a few actually abut other buildings (13627 of 162869 or 8.36%)."
   ]
  },
  {
   "cell_type": "code",
   "execution_count": null,
   "metadata": {},
   "outputs": [],
   "source": [
    "sql.execute('''CREATE TABLE dcp.standalone_with_neighbor_bf AS\n",
    "SELECT b2.bin, b2.geom AS footprints_bin\n",
    "FROM dcp.buildings_1 b1, dcp.bldg_footprints b2\n",
    "WHERE (b1.bin <> b2.bin)\n",
    "AND ST_Intersects(b1.building_geom, b2.geom);''', cnx)"
   ]
  }
 ],
 "metadata": {
  "kernelspec": {
   "display_name": "Python 3",
   "language": "python",
   "name": "python3"
  },
  "language_info": {
   "codemirror_mode": {
    "name": "ipython",
    "version": 3
   },
   "file_extension": ".py",
   "mimetype": "text/x-python",
   "name": "python",
   "nbconvert_exporter": "python",
   "pygments_lexer": "ipython3",
   "version": "3.7.5"
  }
 },
 "nbformat": 4,
 "nbformat_minor": 2
}
