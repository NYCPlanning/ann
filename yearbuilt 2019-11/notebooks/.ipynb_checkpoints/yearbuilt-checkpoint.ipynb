{
 "cells": [
  {
   "cell_type": "code",
   "execution_count": 35,
   "metadata": {},
   "outputs": [],
   "source": [
    "import pandas as pd\n",
    "from pandas.io import sql\n",
    "import geopandas as gpd\n",
    "import numpy as np\n",
    "import psycopg2\n",
    "import sqlalchemy\n",
    "from sqlalchemy import create_engine\n",
    "import os\n",
    "import dotenv\n",
    "import csv\n",
    "import seaborn as sns\n",
    "from matplotlib import rcParams\n",
    "import matplotlib.pyplot as plt\n",
    "import matplotlib.ticker as tick\n",
    "\n",
    "%matplotlib inline\n",
    "pd.set_option('display.max_rows', None)"
   ]
  },
  {
   "cell_type": "code",
   "execution_count": 3,
   "metadata": {},
   "outputs": [],
   "source": [
    "%load_ext dotenv\n",
    "%dotenv ../.env"
   ]
  },
  {
   "cell_type": "code",
   "execution_count": 4,
   "metadata": {},
   "outputs": [],
   "source": [
    "cnx = create_engine(os.getenv('EDMDB'))"
   ]
  },
  {
   "cell_type": "code",
   "execution_count": 5,
   "metadata": {},
   "outputs": [
    {
     "data": {
      "text/plain": [
       "<sqlalchemy.engine.result.ResultProxy at 0x10bd81cd0>"
      ]
     },
     "execution_count": 5,
     "metadata": {},
     "output_type": "execute_result"
    }
   ],
   "source": [
    "sql.execute('''\n",
    "DROP TABLE IF EXISTS dcp.lpc_yrbuilt;\n",
    "''', cnx)"
   ]
  },
  {
   "cell_type": "code",
   "execution_count": 6,
   "metadata": {},
   "outputs": [
    {
     "data": {
      "text/plain": [
       "<sqlalchemy.engine.result.ResultProxy at 0x10ce1c2d0>"
      ]
     },
     "execution_count": 6,
     "metadata": {},
     "output_type": "execute_result"
    }
   ],
   "source": [
    "sql.execute('''\n",
    "CREATE TABLE dcp.lpc_yrbuilt AS\n",
    "SELECT *\n",
    "FROM dcp.lpc;\n",
    "''', cnx)"
   ]
  },
  {
   "cell_type": "code",
   "execution_count": 7,
   "metadata": {},
   "outputs": [
    {
     "data": {
      "text/plain": [
       "<sqlalchemy.engine.result.ResultProxy at 0x1290cf250>"
      ]
     },
     "execution_count": 7,
     "metadata": {},
     "output_type": "execute_result"
    }
   ],
   "source": [
    "sql.execute('''\n",
    "ALTER TABLE dcp.lpc_yrbuilt\n",
    "ADD COLUMN no_pluto_bbl character(1) COLLATE pg_catalog.\"default\",\n",
    "ADD COLUMN yrbuilt_eq_date_high character(1) COLLATE pg_catalog.\"default\",\n",
    "ADD COLUMN date_high_eq_0 character(1) COLLATE pg_catalog.\"default\",\n",
    "ADD COLUMN numbldgs_pluto smallint,\n",
    "ADD COLUMN appdate_pluto date,\n",
    "ADD COLUMN cnstrct_yr_footprints bigint,\n",
    "ADD COLUMN job_type character varying(12) COLLATE pg_catalog.\"default\",\n",
    "ADD COLUMN job_number integer,\n",
    "ADD COLUMN status character varying(21) COLLATE pg_catalog.\"default\",\n",
    "ADD COLUMN status_dat character varying(22) COLLATE pg_catalog.\"default\",\n",
    "ADD COLUMN year_built_date_high_diff integer,\n",
    "ADD COLUMN yearbuilt_pluto smallint,\n",
    "ADD COLUMN year_desig varchar;\n",
    "''', cnx)"
   ]
  },
  {
   "cell_type": "code",
   "execution_count": 8,
   "metadata": {},
   "outputs": [
    {
     "data": {
      "text/plain": [
       "<sqlalchemy.engine.result.ResultProxy at 0x1290cf510>"
      ]
     },
     "execution_count": 8,
     "metadata": {},
     "output_type": "execute_result"
    }
   ],
   "source": [
    "sql.execute('''\n",
    "CREATE INDEX index_lpc_yrbuilt_bbl\n",
    "    ON dcp.lpc_yrbuilt USING btree\n",
    "    (bbl COLLATE pg_catalog.\"default\")\n",
    "    TABLESPACE pg_default;\n",
    "''', cnx)"
   ]
  },
  {
   "cell_type": "code",
   "execution_count": 9,
   "metadata": {},
   "outputs": [
    {
     "data": {
      "text/plain": [
       "<sqlalchemy.engine.result.ResultProxy at 0x1290f6f50>"
      ]
     },
     "execution_count": 9,
     "metadata": {},
     "output_type": "execute_result"
    }
   ],
   "source": [
    "sql.execute('''\n",
    "CREATE INDEX index_lpc_yrbuilt_bbl_num\n",
    "    ON dcp.lpc_yrbuilt USING btree\n",
    "    (bbl COLLATE pg_catalog.\"default\")\n",
    "    TABLESPACE pg_default;\n",
    "''', cnx)"
   ]
  },
  {
   "cell_type": "code",
   "execution_count": 10,
   "metadata": {},
   "outputs": [
    {
     "data": {
      "text/plain": [
       "<sqlalchemy.engine.result.ResultProxy at 0x1290f6c50>"
      ]
     },
     "execution_count": 10,
     "metadata": {},
     "output_type": "execute_result"
    }
   ],
   "source": [
    "sql.execute('''\n",
    "CREATE INDEX index_lpc_yrbuilt_bin\n",
    "    ON dcp.lpc_yrbuilt USING btree\n",
    "    (bin)\n",
    "    TABLESPACE pg_default;\n",
    "''', cnx)"
   ]
  },
  {
   "cell_type": "markdown",
   "metadata": {},
   "source": [
    "Default the \"no BBL on PLUTO\" flag to \"Y.\""
   ]
  },
  {
   "cell_type": "code",
   "execution_count": 11,
   "metadata": {},
   "outputs": [
    {
     "data": {
      "text/plain": [
       "<sqlalchemy.engine.result.ResultProxy at 0x1290f69d0>"
      ]
     },
     "execution_count": 11,
     "metadata": {},
     "output_type": "execute_result"
    }
   ],
   "source": [
    "sql.execute('''\n",
    "UPDATE dcp.lpc_yrbuilt\n",
    "SET no_pluto_bbl = 'Y';\n",
    "''', cnx)"
   ]
  },
  {
   "cell_type": "markdown",
   "metadata": {},
   "source": [
    "Then set the flag to \"N\" if the BBL is found on PLUTO."
   ]
  },
  {
   "cell_type": "code",
   "execution_count": 12,
   "metadata": {},
   "outputs": [
    {
     "data": {
      "text/plain": [
       "<sqlalchemy.engine.result.ResultProxy at 0x1290ff910>"
      ]
     },
     "execution_count": 12,
     "metadata": {},
     "output_type": "execute_result"
    }
   ],
   "source": [
    "sql.execute('''\n",
    "UPDATE dcp.lpc_yrbuilt l\n",
    "SET no_pluto_bbl = 'N'\n",
    "FROM dcp.pluto192 p\n",
    "WHERE l.bbl_num = p.\"BBL\";\n",
    "''', cnx)"
   ]
  },
  {
   "cell_type": "markdown",
   "metadata": {},
   "source": [
    "Get the YearBuilt field from PLUTO."
   ]
  },
  {
   "cell_type": "code",
   "execution_count": 13,
   "metadata": {},
   "outputs": [
    {
     "data": {
      "text/plain": [
       "<sqlalchemy.engine.result.ResultProxy at 0x1290ff810>"
      ]
     },
     "execution_count": 13,
     "metadata": {},
     "output_type": "execute_result"
    }
   ],
   "source": [
    "sql.execute('''\n",
    "UPDATE dcp.lpc_yrbuilt l\n",
    "SET yearbuilt_pluto = p.\"YearBuilt\"\n",
    "FROM dcp.pluto192 p\n",
    "WHERE p.\"BBL\" = l.bbl_num;\n",
    "''', cnx)"
   ]
  },
  {
   "cell_type": "markdown",
   "metadata": {},
   "source": [
    "Give the \"YearBuilt Equal to Date_High\" flag a default value of \"N\"..."
   ]
  },
  {
   "cell_type": "code",
   "execution_count": 14,
   "metadata": {},
   "outputs": [
    {
     "data": {
      "text/plain": [
       "<sqlalchemy.engine.result.ResultProxy at 0x129102d90>"
      ]
     },
     "execution_count": 14,
     "metadata": {},
     "output_type": "execute_result"
    }
   ],
   "source": [
    "sql.execute('''\n",
    "UPDATE dcp.lpc_yrbuilt\n",
    "SET yrbuilt_eq_date_high = 'N';\n",
    "''', cnx)"
   ]
  },
  {
   "cell_type": "markdown",
   "metadata": {},
   "source": [
    "...Then set it to \"Y\" if YearBuilt is the same as LPC's Date_High."
   ]
  },
  {
   "cell_type": "code",
   "execution_count": 15,
   "metadata": {},
   "outputs": [
    {
     "data": {
      "text/plain": [
       "<sqlalchemy.engine.result.ResultProxy at 0x129102b50>"
      ]
     },
     "execution_count": 15,
     "metadata": {},
     "output_type": "execute_result"
    }
   ],
   "source": [
    "sql.execute('''\n",
    "UPDATE dcp.lpc_yrbuilt\n",
    "SET yrbuilt_eq_date_high = 'Y'\n",
    "WHERE yearbuilt_pluto = date_high;\n",
    "''', cnx)"
   ]
  },
  {
   "cell_type": "markdown",
   "metadata": {},
   "source": [
    "Give the \"Date_High Equals Zero\" flag a default value of \"N\"..."
   ]
  },
  {
   "cell_type": "code",
   "execution_count": 16,
   "metadata": {},
   "outputs": [
    {
     "data": {
      "text/plain": [
       "<sqlalchemy.engine.result.ResultProxy at 0x1290ff850>"
      ]
     },
     "execution_count": 16,
     "metadata": {},
     "output_type": "execute_result"
    }
   ],
   "source": [
    "sql.execute('''\n",
    "UPDATE dcp.lpc_yrbuilt\n",
    "SET date_high_eq_0 = 'N';\n",
    "''', cnx)"
   ]
  },
  {
   "cell_type": "markdown",
   "metadata": {},
   "source": [
    "...Then set it to \"Y\" if Date_High equals zero."
   ]
  },
  {
   "cell_type": "code",
   "execution_count": 17,
   "metadata": {},
   "outputs": [
    {
     "data": {
      "text/plain": [
       "<sqlalchemy.engine.result.ResultProxy at 0x129102390>"
      ]
     },
     "execution_count": 17,
     "metadata": {},
     "output_type": "execute_result"
    }
   ],
   "source": [
    "sql.execute('''\n",
    "UPDATE dcp.lpc_yrbuilt\n",
    "SET date_high_eq_0 = 'Y'\n",
    "WHERE date_high = 0;\n",
    "''', cnx)"
   ]
  },
  {
   "cell_type": "markdown",
   "metadata": {},
   "source": [
    "Add NumBldgs and AppDate from PLUTO if (1) There is a PLUTO record, and (2) YearBuilt is not equal to Date_High, and (3) Date_High is not equal to zero."
   ]
  },
  {
   "cell_type": "code",
   "execution_count": 18,
   "metadata": {},
   "outputs": [
    {
     "data": {
      "text/plain": [
       "<sqlalchemy.engine.result.ResultProxy at 0x129102a10>"
      ]
     },
     "execution_count": 18,
     "metadata": {},
     "output_type": "execute_result"
    }
   ],
   "source": [
    "sql.execute('''\n",
    "UPDATE dcp.lpc_yrbuilt l\n",
    "SET numbldgs_pluto = p.\"NumBldgs\",\n",
    "appdate_pluto = CAST(p.\"APPDate\" AS DATE)\n",
    "FROM dcp.pluto192 p\n",
    "WHERE p.\"BBL\" = l.bbl_num\n",
    "AND l.no_pluto_bbl = 'N'\n",
    "AND l.yrbuilt_eq_date_high = 'N'\n",
    "AND l.date_high_eq_0 = 'N';\n",
    "''', cnx)"
   ]
  },
  {
   "cell_type": "markdown",
   "metadata": {},
   "source": [
    "Get the construction year from DOB's Footprints table, provided it is greater than equal to 1965 (the first year a district was Landmarked)."
   ]
  },
  {
   "cell_type": "code",
   "execution_count": 19,
   "metadata": {},
   "outputs": [
    {
     "data": {
      "text/plain": [
       "<sqlalchemy.engine.result.ResultProxy at 0x1290f65d0>"
      ]
     },
     "execution_count": 19,
     "metadata": {},
     "output_type": "execute_result"
    }
   ],
   "source": [
    "sql.execute('''\n",
    "UPDATE dcp.lpc_yrbuilt l\n",
    "SET cnstrct_yr_footprints = f.cnstrct_yr\n",
    "FROM dcp.bldg_footprints f\n",
    "WHERE f.bin = l.bin\n",
    "AND f.base_bbl = l.bbl\n",
    "AND f.cnstrct_yr >= 1965\n",
    "AND no_pluto_bbl = 'N'\n",
    "AND yrbuilt_eq_date_high = 'N'\n",
    "AND date_high_eq_0 = 'N';\n",
    "''', cnx)"
   ]
  },
  {
   "cell_type": "markdown",
   "metadata": {},
   "source": [
    "Now get the job type, job number, status, and status date from the housing database. Prior to this, you will need to have downloaded only demolition and new construction records from the Capital Planning site."
   ]
  },
  {
   "cell_type": "code",
   "execution_count": 20,
   "metadata": {},
   "outputs": [
    {
     "data": {
      "text/plain": [
       "<sqlalchemy.engine.result.ResultProxy at 0x1290f6310>"
      ]
     },
     "execution_count": 20,
     "metadata": {},
     "output_type": "execute_result"
    }
   ],
   "source": [
    "sql.execute('''\n",
    "UPDATE dcp.lpc_yrbuilt l\n",
    "SET job_type = h.job_type,\n",
    "job_number = h.job_number,\n",
    "status = h.status,\n",
    "status_dat = h.status_dat\n",
    "FROM dcp.housing_development h\n",
    "WHERE l.no_pluto_bbl = 'N'\n",
    "AND l.yrbuilt_eq_date_high = 'N'\n",
    "AND l.date_high_eq_0 = 'N'\n",
    "AND h.bin = l.bin\n",
    "AND h.status_dat = (SELECT MAX(h2.status_dat) FROM dcp.housing_development h2 WHERE h2.bin = l.bin);\n",
    "''', cnx)"
   ]
  },
  {
   "cell_type": "markdown",
   "metadata": {},
   "source": [
    "Calculate the difference between YearBuilt and Date_High"
   ]
  },
  {
   "cell_type": "code",
   "execution_count": 23,
   "metadata": {},
   "outputs": [
    {
     "data": {
      "text/plain": [
       "<sqlalchemy.engine.result.ResultProxy at 0x129107610>"
      ]
     },
     "execution_count": 23,
     "metadata": {},
     "output_type": "execute_result"
    }
   ],
   "source": [
    "sql.execute('''\n",
    "UPDATE dcp.lpc_yrbuilt l\n",
    "SET year_built_date_high_diff = yearbuilt_pluto - date_high\n",
    "WHERE no_pluto_bbl = 'N'\n",
    "AND yrbuilt_eq_date_high = 'N'\n",
    "AND date_high_eq_0 = 'N';\n",
    "''', cnx)"
   ]
  },
  {
   "cell_type": "markdown",
   "metadata": {},
   "source": [
    "We are presently getting the Landmarks designation date in preference order. Here we get all designation dates where there is only a single match on the \"Designated and Calendared\" table."
   ]
  },
  {
   "cell_type": "code",
   "execution_count": 22,
   "metadata": {},
   "outputs": [
    {
     "data": {
      "text/plain": [
       "<sqlalchemy.engine.result.ResultProxy at 0x1290f6490>"
      ]
     },
     "execution_count": 22,
     "metadata": {},
     "output_type": "execute_result"
    }
   ],
   "source": [
    "sql.execute('''\n",
    "UPDATE dcp.lpc_yrbuilt l\n",
    "SET year_desig = CAST(EXTRACT(YEAR FROM b.date_desda) AS VARCHAR)\n",
    "FROM dcp.lpc_dc_buildings_sites b\n",
    "WHERE b.bbl IN\n",
    "(SELECT b.bbl\n",
    "FROM dcp.lpc_dc_buildings_sites b\n",
    "GROUP BY b.bbl\n",
    "HAVING COUNT(*) = 1)\n",
    "AND l.bbl = b.bbl\n",
    "AND l.no_pluto_bbl = 'N'\n",
    "AND l.yrbuilt_eq_date_high = 'N'\n",
    "AND l.date_high_eq_0 = 'N';\n",
    "''', cnx)"
   ]
  },
  {
   "cell_type": "markdown",
   "metadata": {},
   "source": [
    "For lots that have been landmarked more than once, we take the dates in preference order: (1) Individual Landmark, (2) Historic District, (3) Scenic Landmark, (4) Interior Landmark. See the next several cells. Note that this may have to change, it may be that we are only interested in Historic Districts."
   ]
  },
  {
   "cell_type": "code",
   "execution_count": 26,
   "metadata": {},
   "outputs": [
    {
     "data": {
      "text/plain": [
       "<sqlalchemy.engine.result.ResultProxy at 0x12df38e10>"
      ]
     },
     "execution_count": 26,
     "metadata": {},
     "output_type": "execute_result"
    }
   ],
   "source": [
    "sql.execute('''\n",
    "UPDATE dcp.lpc_yrbuilt l\n",
    "SET year_desig = CAST(EXTRACT(YEAR FROM b.date_desda) AS VARCHAR)\n",
    "FROM dcp.lpc_dc_buildings_sites b\n",
    "WHERE year_desig IS NULL\n",
    "AND b.bbl = l.bbl\n",
    "AND l.numbldgs_pluto = 1\n",
    "AND b.lm_type = 'Individual Landmark'\n",
    "AND l.no_pluto_bbl = 'N'\n",
    "AND l.yrbuilt_eq_date_high = 'N'\n",
    "AND l.date_high_eq_0 = 'N';\n",
    "''', cnx)"
   ]
  },
  {
   "cell_type": "code",
   "execution_count": 27,
   "metadata": {},
   "outputs": [
    {
     "data": {
      "text/plain": [
       "<sqlalchemy.engine.result.ResultProxy at 0x12df382d0>"
      ]
     },
     "execution_count": 27,
     "metadata": {},
     "output_type": "execute_result"
    }
   ],
   "source": [
    "sql.execute('''\n",
    "UPDATE dcp.lpc_yrbuilt l\n",
    "SET year_desig = CAST(EXTRACT(YEAR FROM b.date_desda) AS VARCHAR)\n",
    "FROM dcp.lpc_dc_buildings_sites b\n",
    "WHERE year_desig IS NULL\n",
    "AND b.bbl = l.bbl\n",
    "AND l.numbldgs_pluto = 1\n",
    "AND b.lm_type = 'Historic District'\n",
    "AND l.no_pluto_bbl = 'N'\n",
    "AND l.yrbuilt_eq_date_high = 'N'\n",
    "AND l.date_high_eq_0 = 'N';\n",
    "''', cnx)"
   ]
  },
  {
   "cell_type": "code",
   "execution_count": 28,
   "metadata": {},
   "outputs": [
    {
     "data": {
      "text/plain": [
       "<sqlalchemy.engine.result.ResultProxy at 0x12df38fd0>"
      ]
     },
     "execution_count": 28,
     "metadata": {},
     "output_type": "execute_result"
    }
   ],
   "source": [
    "sql.execute('''\n",
    "UPDATE dcp.lpc_yrbuilt l\n",
    "SET year_desig = CAST(EXTRACT(YEAR FROM b.date_desda) AS VARCHAR)\n",
    "FROM dcp.lpc_dc_buildings_sites b\n",
    "WHERE year_desig IS NULL\n",
    "AND b.bbl = l.bbl\n",
    "AND l.numbldgs_pluto = 1\n",
    "AND b.lm_type = 'Scenic Landmark'\n",
    "AND l.no_pluto_bbl = 'N'\n",
    "AND l.yrbuilt_eq_date_high = 'N'\n",
    "AND l.date_high_eq_0 = 'N';\n",
    "''', cnx)"
   ]
  },
  {
   "cell_type": "code",
   "execution_count": 29,
   "metadata": {},
   "outputs": [
    {
     "data": {
      "text/plain": [
       "<sqlalchemy.engine.result.ResultProxy at 0x12df44f10>"
      ]
     },
     "execution_count": 29,
     "metadata": {},
     "output_type": "execute_result"
    }
   ],
   "source": [
    "sql.execute('''\n",
    "UPDATE dcp.lpc_yrbuilt l\n",
    "SET year_desig = CAST(EXTRACT(YEAR FROM b.date_desda) AS VARCHAR)\n",
    "FROM dcp.lpc_dc_buildings_sites b\n",
    "WHERE year_desig IS NULL\n",
    "AND b.bbl = l.bbl\n",
    "AND l.numbldgs_pluto = 1\n",
    "AND b.lm_type = 'Interior Landmark'\n",
    "AND l.no_pluto_bbl = 'N'\n",
    "AND l.yrbuilt_eq_date_high = 'N'\n",
    "AND l.date_high_eq_0 = 'N';\n",
    "''', cnx)"
   ]
  },
  {
   "cell_type": "markdown",
   "metadata": {},
   "source": [
    "Create a dataframe from the lpc_yrbuilt table"
   ]
  },
  {
   "cell_type": "code",
   "execution_count": null,
   "metadata": {},
   "outputs": [],
   "source": [
    "df_lpc_yrbuilt = pd.read_sql_query('''\n",
    "SELECT *\n",
    "FROM dcp.lpc_yrbuilt;\n",
    "''', cnx)"
   ]
  },
  {
   "cell_type": "markdown",
   "metadata": {},
   "source": [
    "Create a CSV file from the final dataframe. Freeze the header in Excel, make any other desired formatting changes, and give this to Lynn."
   ]
  },
  {
   "cell_type": "code",
   "execution_count": null,
   "metadata": {},
   "outputs": [],
   "source": [
    "df_lpc_yrbuilt.to_csv(\"../output/YearBuilt_LPC_Enhanced_File.csv\", index=False)"
   ]
  },
  {
   "cell_type": "markdown",
   "metadata": {},
   "source": [
    "Set your background color, fonts, and font sizes for the histogram. This histogram will have to be modified once we have before and after values. The idea will be to have two YearBuilt distributions in the plot."
   ]
  },
  {
   "cell_type": "code",
   "execution_count": null,
   "metadata": {},
   "outputs": [],
   "source": [
    "sns.set(rc={'axes.facecolor':'#dddddd'})\n",
    "SMALL_SIZE = 8\n",
    "MEDIUM_SMALL_SIZE = 10\n",
    "MEDIUM_SIZE = 12\n",
    "MEDIUM_LARGE_SIZE = 14\n",
    "BIGGER_SIZE = 16\n",
    "rcParams['font.family'] = 'sans-serif'\n",
    "rcParams['font.sans-serif'] = ['Inconsolata']\n",
    "plt.rc('font', size=SMALL_SIZE)\n",
    "plt.rc('axes', titlesize=BIGGER_SIZE)     # fontsize of the axes title\n",
    "plt.rc('axes', labelsize=MEDIUM_LARGE_SIZE)    # fontsize of the x and y labels\n",
    "plt.rc('xtick', labelsize=MEDIUM_SIZE)    # fontsize of the tick labels\n",
    "plt.rc('ytick', labelsize=MEDIUM_SIZE)    # fontsize of the tick labels\n",
    "plt.rc('legend', fontsize=MEDIUM_SIZE)    # legend fontsize\n",
    "plt.rc('figure', titlesize=BIGGER_SIZE)  # fontsize of the figure title\n",
    "plt.rcParams[\"figure.figsize\"] = [16, 10]"
   ]
  },
  {
   "cell_type": "markdown",
   "metadata": {},
   "source": [
    "Get full range of decades for histogram."
   ]
  },
  {
   "cell_type": "code",
   "execution_count": null,
   "metadata": {},
   "outputs": [],
   "source": [
    "df_decades = pd.read_sql_query('''\n",
    "SELECT CAST(\"YearBuilt\" / 10 AS VARCHAR) || '0s' AS decade\n",
    "FROM dcp.pluto192\n",
    "WHERE \"YearBuilt\" <> 0\n",
    "AND \"YearBuilt\" > 1659\n",
    "ORDER BY 1;\n",
    "''', cnx)\n",
    "df_decades.to_csv(\"../data/decades_19v2.csv\", index=False)"
   ]
  },
  {
   "cell_type": "code",
   "execution_count": 60,
   "metadata": {},
   "outputs": [
    {
     "data": {
      "image/png": "[encoded data removed]",
      "text/plain": [
       "<Figure size 1152x720 with 1 Axes>"
      ]
     },
     "metadata": {},
     "output_type": "display_data"
    }
   ],
   "source": [
    "with open('../data/decades_19v2.csv') as csv_file:\n",
    "    csv_reader = csv.reader(csv_file, delimiter=',')\n",
    "    next(csv_reader)\n",
    "    decade_hold = ''\n",
    "    read_count = 0\n",
    "    decades = []\n",
    "\n",
    "    for row in csv_reader:\n",
    "        decades.append(row[0])\n",
    "\n",
    "df = pd.DataFrame({'Decade': decades})\n",
    "df.groupby('Decade', as_index=False).size().plot(kind='bar', color=\"#d01c8b\", width=1)\n",
    "plt.xlabel('Decade', fontweight='bold', labelpad=10)\n",
    "plt.ylabel('Frequency', fontweight='bold', labelpad=10)\n",
    "plt.title('Year Built by Decade', fontweight='bold', pad=10)\n",
    "plt.show()"
   ]
  },
  {
   "cell_type": "markdown",
   "metadata": {},
   "source": [
    "Weird years."
   ]
  },
  {
   "cell_type": "code",
   "execution_count": 40,
   "metadata": {
    "scrolled": true
   },
   "outputs": [
    {
     "data": {
      "text/html": [
       "<div>\n",
       "<style scoped>\n",
       "    .dataframe tbody tr th:only-of-type {\n",
       "        vertical-align: middle;\n",
       "    }\n",
       "\n",
       "    .dataframe tbody tr th {\n",
       "        vertical-align: top;\n",
       "    }\n",
       "\n",
       "    .dataframe thead th {\n",
       "        text-align: right;\n",
       "    }\n",
       "</style>\n",
       "<table border=\"1\" class=\"dataframe\">\n",
       "  <thead>\n",
       "    <tr style=\"text-align: right;\">\n",
       "      <th></th>\n",
       "      <th>BBL</th>\n",
       "      <th>Address</th>\n",
       "      <th>YearBuilt</th>\n",
       "    </tr>\n",
       "  </thead>\n",
       "  <tbody>\n",
       "    <tr>\n",
       "      <td>0</td>\n",
       "      <td>1013730003</td>\n",
       "      <td>465 MAIN STREET</td>\n",
       "      <td>103</td>\n",
       "    </tr>\n",
       "    <tr>\n",
       "      <td>1</td>\n",
       "      <td>1013730002</td>\n",
       "      <td>475 MAIN STREET</td>\n",
       "      <td>103</td>\n",
       "    </tr>\n",
       "    <tr>\n",
       "      <td>2</td>\n",
       "      <td>1013730065</td>\n",
       "      <td>8 NORTH LOOP ROAD</td>\n",
       "      <td>115</td>\n",
       "    </tr>\n",
       "    <tr>\n",
       "      <td>3</td>\n",
       "      <td>1013730035</td>\n",
       "      <td>2 WEST LOOP ROAD</td>\n",
       "      <td>115</td>\n",
       "    </tr>\n",
       "    <tr>\n",
       "      <td>4</td>\n",
       "      <td>2041690018</td>\n",
       "      <td>1765 CROSBY AVENUE</td>\n",
       "      <td>116</td>\n",
       "    </tr>\n",
       "    <tr>\n",
       "      <td>5</td>\n",
       "      <td>1013730050</td>\n",
       "      <td>900 MAIN STREET</td>\n",
       "      <td>900</td>\n",
       "    </tr>\n",
       "    <tr>\n",
       "      <td>6</td>\n",
       "      <td>1012600004</td>\n",
       "      <td>1150 AVENUE OF THE AMER</td>\n",
       "      <td>914</td>\n",
       "    </tr>\n",
       "    <tr>\n",
       "      <td>7</td>\n",
       "      <td>1012620034</td>\n",
       "      <td>562 5 AVENUE</td>\n",
       "      <td>920</td>\n",
       "    </tr>\n",
       "    <tr>\n",
       "      <td>8</td>\n",
       "      <td>2048490082</td>\n",
       "      <td>3973 BRONXWOOD AVENUE</td>\n",
       "      <td>925</td>\n",
       "    </tr>\n",
       "    <tr>\n",
       "      <td>9</td>\n",
       "      <td>1018190002</td>\n",
       "      <td>FDR DRIVE</td>\n",
       "      <td>925</td>\n",
       "    </tr>\n",
       "    <tr>\n",
       "      <td>10</td>\n",
       "      <td>1018190010</td>\n",
       "      <td>1 WARDS ISLAND</td>\n",
       "      <td>961</td>\n",
       "    </tr>\n",
       "    <tr>\n",
       "      <td>11</td>\n",
       "      <td>1018190040</td>\n",
       "      <td>8 RANDALLS ISLAND</td>\n",
       "      <td>965</td>\n",
       "    </tr>\n",
       "    <tr>\n",
       "      <td>12</td>\n",
       "      <td>1013730030</td>\n",
       "      <td>510 MAIN STREET</td>\n",
       "      <td>969</td>\n",
       "    </tr>\n",
       "    <tr>\n",
       "      <td>13</td>\n",
       "      <td>1013730001</td>\n",
       "      <td>40 RIVER ROAD</td>\n",
       "      <td>975</td>\n",
       "    </tr>\n",
       "    <tr>\n",
       "      <td>14</td>\n",
       "      <td>1013730040</td>\n",
       "      <td>531 MAIN STREET</td>\n",
       "      <td>975</td>\n",
       "    </tr>\n",
       "    <tr>\n",
       "      <td>15</td>\n",
       "      <td>1007990070</td>\n",
       "      <td>7 AVENUE</td>\n",
       "      <td>1111</td>\n",
       "    </tr>\n",
       "    <tr>\n",
       "      <td>16</td>\n",
       "      <td>4011940001</td>\n",
       "      <td>55-15 37 AVENUE</td>\n",
       "      <td>1194</td>\n",
       "    </tr>\n",
       "    <tr>\n",
       "      <td>17</td>\n",
       "      <td>1007607501</td>\n",
       "      <td>315 WEST 36 STREET</td>\n",
       "      <td>1226</td>\n",
       "    </tr>\n",
       "    <tr>\n",
       "      <td>18</td>\n",
       "      <td>4024020031</td>\n",
       "      <td>68-07 54 AVENUE</td>\n",
       "      <td>1271</td>\n",
       "    </tr>\n",
       "    <tr>\n",
       "      <td>19</td>\n",
       "      <td>3022217502</td>\n",
       "      <td>59 HARRISON AVENUE</td>\n",
       "      <td>1391</td>\n",
       "    </tr>\n",
       "    <tr>\n",
       "      <td>20</td>\n",
       "      <td>1003037502</td>\n",
       "      <td>77 BOWERY</td>\n",
       "      <td>1540</td>\n",
       "    </tr>\n",
       "    <tr>\n",
       "      <td>21</td>\n",
       "      <td>4112180084</td>\n",
       "      <td>221-23 112 ROAD</td>\n",
       "      <td>1590</td>\n",
       "    </tr>\n",
       "  </tbody>\n",
       "</table>\n",
       "</div>"
      ],
      "text/plain": [
       "           BBL                  Address  YearBuilt\n",
       "0   1013730003          465 MAIN STREET        103\n",
       "1   1013730002          475 MAIN STREET        103\n",
       "2   1013730065        8 NORTH LOOP ROAD        115\n",
       "3   1013730035         2 WEST LOOP ROAD        115\n",
       "4   2041690018       1765 CROSBY AVENUE        116\n",
       "5   1013730050          900 MAIN STREET        900\n",
       "6   1012600004  1150 AVENUE OF THE AMER        914\n",
       "7   1012620034             562 5 AVENUE        920\n",
       "8   2048490082    3973 BRONXWOOD AVENUE        925\n",
       "9   1018190002                FDR DRIVE        925\n",
       "10  1018190010           1 WARDS ISLAND        961\n",
       "11  1018190040        8 RANDALLS ISLAND        965\n",
       "12  1013730030          510 MAIN STREET        969\n",
       "13  1013730001            40 RIVER ROAD        975\n",
       "14  1013730040          531 MAIN STREET        975\n",
       "15  1007990070                 7 AVENUE       1111\n",
       "16  4011940001          55-15 37 AVENUE       1194\n",
       "17  1007607501       315 WEST 36 STREET       1226\n",
       "18  4024020031          68-07 54 AVENUE       1271\n",
       "19  3022217502       59 HARRISON AVENUE       1391\n",
       "20  1003037502                77 BOWERY       1540\n",
       "21  4112180084          221-23 112 ROAD       1590"
      ]
     },
     "execution_count": 40,
     "metadata": {},
     "output_type": "execute_result"
    }
   ],
   "source": [
    "strange_years = pd.read_sql_query('''\n",
    "SELECT CAST(\"BBL\" AS VARCHAR),\n",
    "\"Address\",\n",
    "\"YearBuilt\"\n",
    "FROM dcp.pluto192\n",
    "WHERE (\"YearBuilt\" < 1650 OR \"YearBuilt\" > 2020)\n",
    "AND \"YearBuilt\" <> 0\n",
    "ORDER BY \"YearBuilt\";\n",
    "''', cnx)\n",
    "strange_years"
   ]
  },
  {
   "cell_type": "code",
   "execution_count": null,
   "metadata": {},
   "outputs": [],
   "source": []
  }
 ],
 "metadata": {
  "kernelspec": {
   "display_name": "Python 3",
   "language": "python",
   "name": "python3"
  },
  "language_info": {
   "codemirror_mode": {
    "name": "ipython",
    "version": 3
   },
   "file_extension": ".py",
   "mimetype": "text/x-python",
   "name": "python",
   "nbconvert_exporter": "python",
   "pygments_lexer": "ipython3",
   "version": "3.7.5"
  }
 },
 "nbformat": 4,
 "nbformat_minor": 2
}
