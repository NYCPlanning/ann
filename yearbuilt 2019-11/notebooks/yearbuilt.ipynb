{
 "cells": [
  {
   "cell_type": "code",
   "execution_count": 37,
   "metadata": {},
   "outputs": [],
   "source": [
    "import pandas as pd\n",
    "from pandas.io import sql\n",
    "import geopandas as gpd\n",
    "import numpy as np\n",
    "import psycopg2\n",
    "import sqlalchemy\n",
    "from sqlalchemy import create_engine\n",
    "import os\n",
    "import dotenv\n",
    "import csv\n",
    "import seaborn as sns\n",
    "from matplotlib import rcParams\n",
    "import matplotlib.pyplot as plt\n",
    "import matplotlib.ticker as tick\n",
    "\n",
    "%matplotlib inline"
   ]
  },
  {
   "cell_type": "code",
   "execution_count": 3,
   "metadata": {},
   "outputs": [],
   "source": [
    "%load_ext dotenv\n",
    "%dotenv ../.env"
   ]
  },
  {
   "cell_type": "code",
   "execution_count": 4,
   "metadata": {},
   "outputs": [],
   "source": [
    "cnx = create_engine(os.getenv('EDMDB'))"
   ]
  },
  {
   "cell_type": "code",
   "execution_count": 5,
   "metadata": {},
   "outputs": [
    {
     "data": {
      "text/plain": [
       "<sqlalchemy.engine.result.ResultProxy at 0x12dbbff10>"
      ]
     },
     "execution_count": 5,
     "metadata": {},
     "output_type": "execute_result"
    }
   ],
   "source": [
    "sql.execute('''\n",
    "DROP TABLE IF EXISTS dcp.lpc_yrbuilt;\n",
    "''', cnx)"
   ]
  },
  {
   "cell_type": "code",
   "execution_count": 6,
   "metadata": {},
   "outputs": [
    {
     "data": {
      "text/plain": [
       "<sqlalchemy.engine.result.ResultProxy at 0x12ddf2bd0>"
      ]
     },
     "execution_count": 6,
     "metadata": {},
     "output_type": "execute_result"
    }
   ],
   "source": [
    "sql.execute('''\n",
    "CREATE TABLE dcp.lpc_yrbuilt AS\n",
    "SELECT *\n",
    "FROM dcp.lpc;\n",
    "''', cnx)"
   ]
  },
  {
   "cell_type": "code",
   "execution_count": 7,
   "metadata": {},
   "outputs": [
    {
     "data": {
      "text/plain": [
       "<sqlalchemy.engine.result.ResultProxy at 0x12de92a50>"
      ]
     },
     "execution_count": 7,
     "metadata": {},
     "output_type": "execute_result"
    }
   ],
   "source": [
    "sql.execute('''\n",
    "ALTER TABLE dcp.lpc_yrbuilt\n",
    "ADD COLUMN no_pluto_bbl character(1) COLLATE pg_catalog.\"default\",\n",
    "ADD COLUMN yrbuilt_eq_date_high character(1) COLLATE pg_catalog.\"default\",\n",
    "ADD COLUMN date_high_eq_0 character(1) COLLATE pg_catalog.\"default\",\n",
    "ADD COLUMN numbldgs_pluto smallint,\n",
    "ADD COLUMN appdate_pluto date,\n",
    "ADD COLUMN cnstrct_yr_footprints bigint,\n",
    "ADD COLUMN job_type character varying(12) COLLATE pg_catalog.\"default\",\n",
    "ADD COLUMN job_number integer,\n",
    "ADD COLUMN status character varying(21) COLLATE pg_catalog.\"default\",\n",
    "ADD COLUMN status_dat character varying(22) COLLATE pg_catalog.\"default\",\n",
    "ADD COLUMN year_built_date_high_diff integer,\n",
    "ADD COLUMN yearbuilt_pluto smallint,\n",
    "ADD COLUMN year_desig varchar;\n",
    "''', cnx)"
   ]
  },
  {
   "cell_type": "code",
   "execution_count": 8,
   "metadata": {},
   "outputs": [
    {
     "data": {
      "text/plain": [
       "<sqlalchemy.engine.result.ResultProxy at 0x12debc950>"
      ]
     },
     "execution_count": 8,
     "metadata": {},
     "output_type": "execute_result"
    }
   ],
   "source": [
    "sql.execute('''\n",
    "CREATE INDEX index_lpc_yrbuilt_bbl\n",
    "    ON dcp.lpc_yrbuilt USING btree\n",
    "    (bbl COLLATE pg_catalog.\"default\")\n",
    "    TABLESPACE pg_default;\n",
    "''', cnx)"
   ]
  },
  {
   "cell_type": "code",
   "execution_count": 9,
   "metadata": {},
   "outputs": [
    {
     "data": {
      "text/plain": [
       "<sqlalchemy.engine.result.ResultProxy at 0x12debc990>"
      ]
     },
     "execution_count": 9,
     "metadata": {},
     "output_type": "execute_result"
    }
   ],
   "source": [
    "sql.execute('''\n",
    "CREATE INDEX index_lpc_yrbuilt_bbl_num\n",
    "    ON dcp.lpc_yrbuilt USING btree\n",
    "    (bbl COLLATE pg_catalog.\"default\")\n",
    "    TABLESPACE pg_default;\n",
    "''', cnx)"
   ]
  },
  {
   "cell_type": "code",
   "execution_count": 10,
   "metadata": {},
   "outputs": [
    {
     "data": {
      "text/plain": [
       "<sqlalchemy.engine.result.ResultProxy at 0x12debc510>"
      ]
     },
     "execution_count": 10,
     "metadata": {},
     "output_type": "execute_result"
    }
   ],
   "source": [
    "sql.execute('''\n",
    "CREATE INDEX index_lpc_yrbuilt_bin\n",
    "    ON dcp.lpc_yrbuilt USING btree\n",
    "    (bin)\n",
    "    TABLESPACE pg_default;\n",
    "''', cnx)"
   ]
  },
  {
   "cell_type": "markdown",
   "metadata": {},
   "source": [
    "Default the \"no BBL on PLUTO\" flag to \"Y.\""
   ]
  },
  {
   "cell_type": "code",
   "execution_count": 11,
   "metadata": {},
   "outputs": [
    {
     "data": {
      "text/plain": [
       "<sqlalchemy.engine.result.ResultProxy at 0x12ded9a90>"
      ]
     },
     "execution_count": 11,
     "metadata": {},
     "output_type": "execute_result"
    }
   ],
   "source": [
    "sql.execute('''\n",
    "UPDATE dcp.lpc_yrbuilt\n",
    "SET no_pluto_bbl = 'Y';\n",
    "''', cnx)"
   ]
  },
  {
   "cell_type": "markdown",
   "metadata": {},
   "source": [
    "Then set the flag to \"N\" if the BBL is found on PLUTO."
   ]
  },
  {
   "cell_type": "code",
   "execution_count": 12,
   "metadata": {},
   "outputs": [
    {
     "data": {
      "text/plain": [
       "<sqlalchemy.engine.result.ResultProxy at 0x12ded98d0>"
      ]
     },
     "execution_count": 12,
     "metadata": {},
     "output_type": "execute_result"
    }
   ],
   "source": [
    "sql.execute('''\n",
    "UPDATE dcp.lpc_yrbuilt l\n",
    "SET no_pluto_bbl = 'N'\n",
    "FROM dcp.pluto192 p\n",
    "WHERE l.bbl_num = p.\"BBL\";\n",
    "''', cnx)"
   ]
  },
  {
   "cell_type": "markdown",
   "metadata": {},
   "source": [
    "Get the YearBuilt field from PLUTO."
   ]
  },
  {
   "cell_type": "code",
   "execution_count": 13,
   "metadata": {},
   "outputs": [
    {
     "data": {
      "text/plain": [
       "<sqlalchemy.engine.result.ResultProxy at 0x12dee27d0>"
      ]
     },
     "execution_count": 13,
     "metadata": {},
     "output_type": "execute_result"
    }
   ],
   "source": [
    "sql.execute('''\n",
    "UPDATE dcp.lpc_yrbuilt l\n",
    "SET yearbuilt_pluto = p.\"YearBuilt\"\n",
    "FROM dcp.pluto192 p\n",
    "WHERE p.\"BBL\" = l.bbl_num;\n",
    "''', cnx)"
   ]
  },
  {
   "cell_type": "markdown",
   "metadata": {},
   "source": [
    "Give the \"YearBuilt Equal to Date_High\" flag a default value of \"N\"..."
   ]
  },
  {
   "cell_type": "code",
   "execution_count": 14,
   "metadata": {},
   "outputs": [
    {
     "data": {
      "text/plain": [
       "<sqlalchemy.engine.result.ResultProxy at 0x12dee2090>"
      ]
     },
     "execution_count": 14,
     "metadata": {},
     "output_type": "execute_result"
    }
   ],
   "source": [
    "sql.execute('''\n",
    "UPDATE dcp.lpc_yrbuilt\n",
    "SET yrbuilt_eq_date_high = 'N';\n",
    "''', cnx)"
   ]
  },
  {
   "cell_type": "markdown",
   "metadata": {},
   "source": [
    "...Then set it to \"Y\" if YearBuilt is the same as LPC's Date_High."
   ]
  },
  {
   "cell_type": "code",
   "execution_count": 15,
   "metadata": {},
   "outputs": [
    {
     "data": {
      "text/plain": [
       "<sqlalchemy.engine.result.ResultProxy at 0x12ded9790>"
      ]
     },
     "execution_count": 15,
     "metadata": {},
     "output_type": "execute_result"
    }
   ],
   "source": [
    "sql.execute('''\n",
    "UPDATE dcp.lpc_yrbuilt\n",
    "SET yrbuilt_eq_date_high = 'Y'\n",
    "WHERE yearbuilt_pluto = date_high;\n",
    "''', cnx)"
   ]
  },
  {
   "cell_type": "markdown",
   "metadata": {},
   "source": [
    "Give the \"Date_High Equals Zero\" flag a default value of \"N\"..."
   ]
  },
  {
   "cell_type": "code",
   "execution_count": 16,
   "metadata": {},
   "outputs": [
    {
     "data": {
      "text/plain": [
       "<sqlalchemy.engine.result.ResultProxy at 0x12db882d0>"
      ]
     },
     "execution_count": 16,
     "metadata": {},
     "output_type": "execute_result"
    }
   ],
   "source": [
    "sql.execute('''\n",
    "UPDATE dcp.lpc_yrbuilt\n",
    "SET date_high_eq_0 = 'N';\n",
    "''', cnx)"
   ]
  },
  {
   "cell_type": "markdown",
   "metadata": {},
   "source": [
    "...Then set it to \"Y\" if Date_High equals zero."
   ]
  },
  {
   "cell_type": "code",
   "execution_count": 17,
   "metadata": {},
   "outputs": [
    {
     "data": {
      "text/plain": [
       "<sqlalchemy.engine.result.ResultProxy at 0x12ddf2c50>"
      ]
     },
     "execution_count": 17,
     "metadata": {},
     "output_type": "execute_result"
    }
   ],
   "source": [
    "sql.execute('''\n",
    "UPDATE dcp.lpc_yrbuilt\n",
    "SET date_high_eq_0 = 'Y'\n",
    "WHERE date_high = 0;\n",
    "''', cnx)"
   ]
  },
  {
   "cell_type": "markdown",
   "metadata": {},
   "source": [
    "Add NumBldgs and AppDate from PLUTO if (1) There is a PLUTO record, and (2) YearBuilt is not equal to Date_High, and (3) Date_High is not equal to zero."
   ]
  },
  {
   "cell_type": "code",
   "execution_count": 18,
   "metadata": {},
   "outputs": [
    {
     "data": {
      "text/plain": [
       "<sqlalchemy.engine.result.ResultProxy at 0x12db88390>"
      ]
     },
     "execution_count": 18,
     "metadata": {},
     "output_type": "execute_result"
    }
   ],
   "source": [
    "sql.execute('''\n",
    "UPDATE dcp.lpc_yrbuilt l\n",
    "SET numbldgs_pluto = p.\"NumBldgs\",\n",
    "appdate_pluto = CAST(p.\"APPDate\" AS DATE)\n",
    "FROM dcp.pluto192 p\n",
    "WHERE p.\"BBL\" = l.bbl_num\n",
    "AND l.no_pluto_bbl = 'N'\n",
    "AND l.yrbuilt_eq_date_high = 'N'\n",
    "AND l.date_high_eq_0 = 'N';\n",
    "''', cnx)"
   ]
  },
  {
   "cell_type": "markdown",
   "metadata": {},
   "source": [
    "Get the construction year from DOB's Footprints table, provided it is greater than equal to 1965 (the first year a district was Landmarked)."
   ]
  },
  {
   "cell_type": "code",
   "execution_count": 19,
   "metadata": {},
   "outputs": [
    {
     "data": {
      "text/plain": [
       "<sqlalchemy.engine.result.ResultProxy at 0x12debc3d0>"
      ]
     },
     "execution_count": 19,
     "metadata": {},
     "output_type": "execute_result"
    }
   ],
   "source": [
    "sql.execute('''\n",
    "UPDATE dcp.lpc_yrbuilt l\n",
    "SET cnstrct_yr_footprints = f.cnstrct_yr\n",
    "FROM dcp.bldg_footprints f\n",
    "WHERE f.bin = l.bin\n",
    "AND f.base_bbl = l.bbl\n",
    "AND f.cnstrct_yr >= 1965\n",
    "AND no_pluto_bbl = 'N'\n",
    "AND yrbuilt_eq_date_high = 'N'\n",
    "AND date_high_eq_0 = 'N';\n",
    "''', cnx)"
   ]
  },
  {
   "cell_type": "markdown",
   "metadata": {},
   "source": [
    "Now get the job type, job number, status, and status date from the housing database. Prior to this, you will need to have downloaded only demolition and new construction records from the Capital Planning site."
   ]
  },
  {
   "cell_type": "code",
   "execution_count": 31,
   "metadata": {},
   "outputs": [
    {
     "data": {
      "text/plain": [
       "<sqlalchemy.engine.result.ResultProxy at 0x12df4ad50>"
      ]
     },
     "execution_count": 31,
     "metadata": {},
     "output_type": "execute_result"
    }
   ],
   "source": [
    "sql.execute('''\n",
    "UPDATE dcp.lpc_yrbuilt l\n",
    "SET job_type = h.job_type,\n",
    "job_number = h.job_number,\n",
    "status = h.status,\n",
    "status_dat = h.status_dat\n",
    "FROM dcp.housing_development h\n",
    "WHERE l.no_pluto_bbl = 'N'\n",
    "AND l.yrbuilt_eq_date_high = 'N'\n",
    "AND l.date_high_eq_0 = 'N'\n",
    "AND h.bin = l.bin\n",
    "AND h.status_dat = (SELECT MAX(h2.status_dat) FROM dcp.housing_development h2 WHERE h2.bin = l.bin);\n",
    "''', cnx)"
   ]
  },
  {
   "cell_type": "markdown",
   "metadata": {},
   "source": [
    "Calculate the difference between YearBuilt and Date_High"
   ]
  },
  {
   "cell_type": "code",
   "execution_count": 24,
   "metadata": {},
   "outputs": [
    {
     "data": {
      "text/plain": [
       "<sqlalchemy.engine.result.ResultProxy at 0x12df38250>"
      ]
     },
     "execution_count": 24,
     "metadata": {},
     "output_type": "execute_result"
    }
   ],
   "source": [
    "sql.execute('''\n",
    "UPDATE dcp.lpc_yrbuilt l\n",
    "SET year_built_date_high_diff = yearbuilt_pluto - date_high\n",
    "WHERE no_pluto_bbl = 'N'\n",
    "AND yrbuilt_eq_date_high = 'N'\n",
    "AND date_high_eq_0 = 'N';\n",
    "''', cnx)"
   ]
  },
  {
   "cell_type": "markdown",
   "metadata": {},
   "source": [
    "We are presently getting the Landmarks designation date in preference order. Here we get all designation dates where there is only a single match on the \"Designated and Calendared\" table."
   ]
  },
  {
   "cell_type": "code",
   "execution_count": 25,
   "metadata": {},
   "outputs": [
    {
     "data": {
      "text/plain": [
       "<sqlalchemy.engine.result.ResultProxy at 0x12df3d890>"
      ]
     },
     "execution_count": 25,
     "metadata": {},
     "output_type": "execute_result"
    }
   ],
   "source": [
    "sql.execute('''\n",
    "UPDATE dcp.lpc_yrbuilt l\n",
    "SET year_desig = CAST(EXTRACT(YEAR FROM b.date_desda) AS VARCHAR)\n",
    "FROM dcp.lpc_dc_buildings_sites b\n",
    "WHERE b.bbl IN\n",
    "(SELECT b.bbl\n",
    "FROM dcp.lpc_dc_buildings_sites b\n",
    "GROUP BY b.bbl\n",
    "HAVING COUNT(*) = 1)\n",
    "AND l.bbl = b.bbl\n",
    "AND l.no_pluto_bbl = 'N'\n",
    "AND l.yrbuilt_eq_date_high = 'N'\n",
    "AND l.date_high_eq_0 = 'N';\n",
    "''', cnx)"
   ]
  },
  {
   "cell_type": "markdown",
   "metadata": {},
   "source": [
    "For lots that have been landmarked more than once, we take the dates in preference order: (1) Individual Landmark, (2) Historic District, (3) Scenic Landmark, (4) Interior Landmark. See the next several cells. Note that this may have to change, it may be that we are only interested in Historic Districts."
   ]
  },
  {
   "cell_type": "code",
   "execution_count": 26,
   "metadata": {},
   "outputs": [
    {
     "data": {
      "text/plain": [
       "<sqlalchemy.engine.result.ResultProxy at 0x12df38e10>"
      ]
     },
     "execution_count": 26,
     "metadata": {},
     "output_type": "execute_result"
    }
   ],
   "source": [
    "sql.execute('''\n",
    "UPDATE dcp.lpc_yrbuilt l\n",
    "SET year_desig = CAST(EXTRACT(YEAR FROM b.date_desda) AS VARCHAR)\n",
    "FROM dcp.lpc_dc_buildings_sites b\n",
    "WHERE year_desig IS NULL\n",
    "AND b.bbl = l.bbl\n",
    "AND l.numbldgs_pluto = 1\n",
    "AND b.lm_type = 'Individual Landmark'\n",
    "AND l.no_pluto_bbl = 'N'\n",
    "AND l.yrbuilt_eq_date_high = 'N'\n",
    "AND l.date_high_eq_0 = 'N';\n",
    "''', cnx)"
   ]
  },
  {
   "cell_type": "code",
   "execution_count": 27,
   "metadata": {},
   "outputs": [
    {
     "data": {
      "text/plain": [
       "<sqlalchemy.engine.result.ResultProxy at 0x12df382d0>"
      ]
     },
     "execution_count": 27,
     "metadata": {},
     "output_type": "execute_result"
    }
   ],
   "source": [
    "sql.execute('''\n",
    "UPDATE dcp.lpc_yrbuilt l\n",
    "SET year_desig = CAST(EXTRACT(YEAR FROM b.date_desda) AS VARCHAR)\n",
    "FROM dcp.lpc_dc_buildings_sites b\n",
    "WHERE year_desig IS NULL\n",
    "AND b.bbl = l.bbl\n",
    "AND l.numbldgs_pluto = 1\n",
    "AND b.lm_type = 'Historic District'\n",
    "AND l.no_pluto_bbl = 'N'\n",
    "AND l.yrbuilt_eq_date_high = 'N'\n",
    "AND l.date_high_eq_0 = 'N';\n",
    "''', cnx)"
   ]
  },
  {
   "cell_type": "code",
   "execution_count": 28,
   "metadata": {},
   "outputs": [
    {
     "data": {
      "text/plain": [
       "<sqlalchemy.engine.result.ResultProxy at 0x12df38fd0>"
      ]
     },
     "execution_count": 28,
     "metadata": {},
     "output_type": "execute_result"
    }
   ],
   "source": [
    "sql.execute('''\n",
    "UPDATE dcp.lpc_yrbuilt l\n",
    "SET year_desig = CAST(EXTRACT(YEAR FROM b.date_desda) AS VARCHAR)\n",
    "FROM dcp.lpc_dc_buildings_sites b\n",
    "WHERE year_desig IS NULL\n",
    "AND b.bbl = l.bbl\n",
    "AND l.numbldgs_pluto = 1\n",
    "AND b.lm_type = 'Scenic Landmark'\n",
    "AND l.no_pluto_bbl = 'N'\n",
    "AND l.yrbuilt_eq_date_high = 'N'\n",
    "AND l.date_high_eq_0 = 'N';\n",
    "''', cnx)"
   ]
  },
  {
   "cell_type": "code",
   "execution_count": 29,
   "metadata": {},
   "outputs": [
    {
     "data": {
      "text/plain": [
       "<sqlalchemy.engine.result.ResultProxy at 0x12df44f10>"
      ]
     },
     "execution_count": 29,
     "metadata": {},
     "output_type": "execute_result"
    }
   ],
   "source": [
    "sql.execute('''\n",
    "UPDATE dcp.lpc_yrbuilt l\n",
    "SET year_desig = CAST(EXTRACT(YEAR FROM b.date_desda) AS VARCHAR)\n",
    "FROM dcp.lpc_dc_buildings_sites b\n",
    "WHERE year_desig IS NULL\n",
    "AND b.bbl = l.bbl\n",
    "AND l.numbldgs_pluto = 1\n",
    "AND b.lm_type = 'Interior Landmark'\n",
    "AND l.no_pluto_bbl = 'N'\n",
    "AND l.yrbuilt_eq_date_high = 'N'\n",
    "AND l.date_high_eq_0 = 'N';\n",
    "''', cnx)"
   ]
  },
  {
   "cell_type": "markdown",
   "metadata": {},
   "source": [
    "Create a dataframe from the lpc_yrbuilt table"
   ]
  },
  {
   "cell_type": "code",
   "execution_count": 32,
   "metadata": {},
   "outputs": [],
   "source": [
    "df_lpc_yrbuilt = pd.read_sql_query('''\n",
    "SELECT *\n",
    "FROM dcp.lpc_yrbuilt;\n",
    "''', cnx)"
   ]
  },
  {
   "cell_type": "markdown",
   "metadata": {},
   "source": [
    "Create a CSV file from the final dataframe. Freeze the header in Excel, make any other desired formatting changes, and give this to Lynn."
   ]
  },
  {
   "cell_type": "code",
   "execution_count": 36,
   "metadata": {},
   "outputs": [],
   "source": [
    "df_lpc_yrbuilt.to_csv(\"../output/YearBuilt_LPC_Enhanced_File.csv\")"
   ]
  },
  {
   "cell_type": "code",
   "execution_count": null,
   "metadata": {},
   "outputs": [],
   "source": []
  }
 ],
 "metadata": {
  "kernelspec": {
   "display_name": "Python 3",
   "language": "python",
   "name": "python3"
  },
  "language_info": {
   "codemirror_mode": {
    "name": "ipython",
    "version": 3
   },
   "file_extension": ".py",
   "mimetype": "text/x-python",
   "name": "python",
   "nbconvert_exporter": "python",
   "pygments_lexer": "ipython3",
   "version": "3.7.5"
  }
 },
 "nbformat": 4,
 "nbformat_minor": 2
}
