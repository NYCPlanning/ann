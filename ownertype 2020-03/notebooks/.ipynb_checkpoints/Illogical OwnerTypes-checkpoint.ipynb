{
 "cells": [
  {
   "cell_type": "code",
   "execution_count": 2,
   "metadata": {},
   "outputs": [],
   "source": [
    "import numpy as np\n",
    "import pandas as pd\n",
    "from sqlalchemy import create_engine\n",
    "import os"
   ]
  },
  {
   "cell_type": "code",
   "execution_count": 3,
   "metadata": {},
   "outputs": [],
   "source": [
    "%load_ext dotenv\n",
    "%dotenv ../.env"
   ]
  },
  {
   "cell_type": "code",
   "execution_count": 4,
   "metadata": {},
   "outputs": [],
   "source": [
    "cnx = create_engine(os.getenv('EDMDB'))"
   ]
  },
  {
   "cell_type": "code",
   "execution_count": 37,
   "metadata": {},
   "outputs": [
    {
     "data": {
      "text/html": [
       "<div>\n",
       "<style scoped>\n",
       "    .dataframe tbody tr th:only-of-type {\n",
       "        vertical-align: middle;\n",
       "    }\n",
       "\n",
       "    .dataframe tbody tr th {\n",
       "        vertical-align: top;\n",
       "    }\n",
       "\n",
       "    .dataframe thead th {\n",
       "        text-align: right;\n",
       "    }\n",
       "</style>\n",
       "<table border=\"1\" class=\"dataframe\">\n",
       "  <thead>\n",
       "    <tr style=\"text-align: right;\">\n",
       "      <th></th>\n",
       "      <th>bbl</th>\n",
       "      <th>ownertype</th>\n",
       "      <th>ownername</th>\n",
       "      <th>geom</th>\n",
       "    </tr>\n",
       "  </thead>\n",
       "  <tbody>\n",
       "    <tr>\n",
       "      <td>0</td>\n",
       "      <td>2.029180e+09</td>\n",
       "      <td>X</td>\n",
       "      <td>1887 BATHGATE PROPERTIES LLC</td>\n",
       "      <td>0106000020D70800000100000001030000000100000008...</td>\n",
       "    </tr>\n",
       "    <tr>\n",
       "      <td>1</td>\n",
       "      <td>4.047580e+09</td>\n",
       "      <td>X</td>\n",
       "      <td>VILLAS AT WHITESTONENEWS HOMEOWNERS ASSO CIATES</td>\n",
       "      <td>0106000020D70800000100000001030000000100000007...</td>\n",
       "    </tr>\n",
       "    <tr>\n",
       "      <td>2</td>\n",
       "      <td>1.009670e+09</td>\n",
       "      <td>X</td>\n",
       "      <td>NEW YORK CITY SCHOOL CONSTRUCTION AUTHOR ITY</td>\n",
       "      <td>0106000020D70800000100000001030000000100000005...</td>\n",
       "    </tr>\n",
       "    <tr>\n",
       "      <td>3</td>\n",
       "      <td>3.017940e+09</td>\n",
       "      <td>O</td>\n",
       "      <td>NYC HOUSING AUTHORITY</td>\n",
       "      <td>0106000020D70800000100000001030000000100000006...</td>\n",
       "    </tr>\n",
       "    <tr>\n",
       "      <td>4</td>\n",
       "      <td>3.069790e+09</td>\n",
       "      <td>X</td>\n",
       "      <td>SEA RISE I DEVELOPMENT COMPANY LLC</td>\n",
       "      <td>0106000020D70800000100000001030000000100000007...</td>\n",
       "    </tr>\n",
       "  </tbody>\n",
       "</table>\n",
       "</div>"
      ],
      "text/plain": [
       "            bbl ownertype                                        ownername  \\\n",
       "0  2.029180e+09         X                     1887 BATHGATE PROPERTIES LLC   \n",
       "1  4.047580e+09         X  VILLAS AT WHITESTONENEWS HOMEOWNERS ASSO CIATES   \n",
       "2  1.009670e+09         X     NEW YORK CITY SCHOOL CONSTRUCTION AUTHOR ITY   \n",
       "3  3.017940e+09         O                            NYC HOUSING AUTHORITY   \n",
       "4  3.069790e+09         X               SEA RISE I DEVELOPMENT COMPANY LLC   \n",
       "\n",
       "                                                geom  \n",
       "0  0106000020D70800000100000001030000000100000008...  \n",
       "1  0106000020D70800000100000001030000000100000007...  \n",
       "2  0106000020D70800000100000001030000000100000005...  \n",
       "3  0106000020D70800000100000001030000000100000006...  \n",
       "4  0106000020D70800000100000001030000000100000007...  "
      ]
     },
     "execution_count": 37,
     "metadata": {},
     "output_type": "execute_result"
    }
   ],
   "source": [
    "df = pd.read_sql_query('''SELECT * FROM dcp.pluto201 WHERE ownertype > ' ';''', cnx)\n",
    "df = df[[\"bbl\", \"ownertype\", \"ownername\", \"geom\"]]\n",
    "df.head()"
   ]
  },
  {
   "cell_type": "code",
   "execution_count": 42,
   "metadata": {},
   "outputs": [
    {
     "data": {
      "text/html": [
       "<div>\n",
       "<style scoped>\n",
       "    .dataframe tbody tr th:only-of-type {\n",
       "        vertical-align: middle;\n",
       "    }\n",
       "\n",
       "    .dataframe tbody tr th {\n",
       "        vertical-align: top;\n",
       "    }\n",
       "\n",
       "    .dataframe thead th {\n",
       "        text-align: right;\n",
       "    }\n",
       "</style>\n",
       "<table border=\"1\" class=\"dataframe\">\n",
       "  <thead>\n",
       "    <tr style=\"text-align: right;\">\n",
       "      <th></th>\n",
       "      <th>ownertype</th>\n",
       "      <th>count</th>\n",
       "    </tr>\n",
       "  </thead>\n",
       "  <tbody>\n",
       "    <tr>\n",
       "      <td>0</td>\n",
       "      <td>X</td>\n",
       "      <td>17299</td>\n",
       "    </tr>\n",
       "    <tr>\n",
       "      <td>1</td>\n",
       "      <td>C</td>\n",
       "      <td>11505</td>\n",
       "    </tr>\n",
       "    <tr>\n",
       "      <td>2</td>\n",
       "      <td>O</td>\n",
       "      <td>1356</td>\n",
       "    </tr>\n",
       "    <tr>\n",
       "      <td>3</td>\n",
       "      <td>P</td>\n",
       "      <td>513</td>\n",
       "    </tr>\n",
       "    <tr>\n",
       "      <td>4</td>\n",
       "      <td>M</td>\n",
       "      <td>78</td>\n",
       "    </tr>\n",
       "  </tbody>\n",
       "</table>\n",
       "</div>"
      ],
      "text/plain": [
       "  ownertype  count\n",
       "0         X  17299\n",
       "1         C  11505\n",
       "2         O   1356\n",
       "3         P    513\n",
       "4         M     78"
      ]
     },
     "execution_count": 42,
     "metadata": {},
     "output_type": "execute_result"
    }
   ],
   "source": [
    "type_counts = df['ownertype'].value_counts()\n",
    "type(type_counts)\n",
    "type_counts\n",
    "df_dist = pd.DataFrame({'ownertype':type_counts.index, 'count':type_counts.values})\n",
    "df_dist"
   ]
  },
  {
   "cell_type": "code",
   "execution_count": 43,
   "metadata": {},
   "outputs": [
    {
     "data": {
      "image/png": "[encoded data removed]",
      "text/plain": [
       "<Figure size 432x288 with 1 Axes>"
      ]
     },
     "metadata": {
      "needs_background": "light"
     },
     "output_type": "display_data"
    }
   ],
   "source": [
    "ax = df_dist.plot.bar(x='ownertype', y='count', rot=0)"
   ]
  },
  {
   "cell_type": "code",
   "execution_count": 69,
   "metadata": {},
   "outputs": [],
   "source": [
    "city = df['ownertype'] == \"C\"\n",
    "df_city = df[city]\n",
    "all_city = df[city]\n",
    "df_city = df_city[~df_city[\"ownername\"].str.contains('CITY OF NEW YORK')]\n",
    "df_city = df_city[~df_city[\"ownername\"].str.contains('MTA - STATEN ISLAND RAILWAY')]\n",
    "df_city = df_city[~df_city[\"ownername\"].str.contains('FIRE DEPARTMENT OF NEW YORK')]\n",
    "df_city = df_city[~df_city[\"ownername\"].str.contains('NEW YORK PUBLIC LIBRARY')]\n",
    "df_city = df_city[~df_city[\"ownername\"].str.contains('BROOKLYN PUBLIC LIBRARY')]\n",
    "df_city = df_city[~df_city[\"ownername\"].str.contains('QUEENS PUBLIC LIBRARY')]\n",
    "df_city = df_city[~df_city[\"ownername\"].str.contains('CITY UNIVERSITY OF NEW YORK')]\n",
    "df_city = df_city[~df_city[\"ownername\"].str.contains('OFFICE OF THE CHIEF MEDICAL')]\n",
    "df_city = df_city[~df_city[\"ownername\"].str.contains('HIGHBRIDGE PRESERVATION LLC')]\n",
    "df_city = df_city[~df_city[\"ownername\"].str.contains('TAXI & LIMOUSINE COMMISSION')]\n",
    "df_city = df_city[~df_city[\"ownername\"].str.startswith('NYC')]\n",
    "df_city = df_city[~df_city[\"ownername\"].str.startswith('NEW YORK CITY')]\n",
    "df_city = df_city[~df_city[\"ownername\"].str.startswith('EAST HARLEM')]\n",
    "df_city = df_city[~df_city[\"ownername\"].str.startswith('RESTORING COMMUNITIES')]\n",
    "df_city = df_city[~df_city[\"ownername\"].str.startswith('BROOKLYN BRIDGE PARK')]\n",
    "df_city = df_city[~df_city[\"ownername\"].str.startswith('BROOKLYN NAVY')]\n",
    "df_city = df_city[~df_city[\"ownername\"].str.startswith('SO BX')]\n",
    "df_city = df_city[~df_city[\"ownername\"].str.startswith('IPIS')]\n",
    "df_city = df_city[~df_city[\"ownername\"].str.startswith('FULTON PK')]\n",
    "df_city = df_city[[\"ownername\"]]\n",
    "df_city = df_city.drop_duplicates()\n",
    "city_results = pd.merge(all_city, df_city, how='inner', on=['ownername'])\n",
    "city_results.to_csv('../output/city_illogical_ownernames.csv')"
   ]
  },
  {
   "cell_type": "code",
   "execution_count": null,
   "metadata": {},
   "outputs": [],
   "source": []
  },
  {
   "cell_type": "code",
   "execution_count": null,
   "metadata": {},
   "outputs": [],
   "source": []
  }
 ],
 "metadata": {
  "kernelspec": {
   "display_name": "Python 3",
   "language": "python",
   "name": "python3"
  },
  "language_info": {
   "codemirror_mode": {
    "name": "ipython",
    "version": 3
   },
   "file_extension": ".py",
   "mimetype": "text/x-python",
   "name": "python",
   "nbconvert_exporter": "python",
   "pygments_lexer": "ipython3",
   "version": "3.7.5"
  }
 },
 "nbformat": 4,
 "nbformat_minor": 2
}
