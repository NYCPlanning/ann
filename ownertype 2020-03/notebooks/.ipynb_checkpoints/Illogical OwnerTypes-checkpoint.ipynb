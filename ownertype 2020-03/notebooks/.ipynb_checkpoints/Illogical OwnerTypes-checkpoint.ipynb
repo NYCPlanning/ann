{
 "cells": [
  {
   "cell_type": "code",
   "execution_count": 2,
   "metadata": {},
   "outputs": [],
   "source": [
    "import numpy as np\n",
    "import pandas as pd\n",
    "from sqlalchemy import create_engine\n",
    "import os"
   ]
  },
  {
   "cell_type": "code",
   "execution_count": 3,
   "metadata": {},
   "outputs": [],
   "source": [
    "%load_ext dotenv\n",
    "%dotenv ../.env"
   ]
  },
  {
   "cell_type": "code",
   "execution_count": 4,
   "metadata": {},
   "outputs": [],
   "source": [
    "cnx = create_engine(os.getenv('EDMDB'))"
   ]
  },
  {
   "cell_type": "code",
   "execution_count": 5,
   "metadata": {},
   "outputs": [
    {
     "data": {
      "text/html": [
       "<div>\n",
       "<style scoped>\n",
       "    .dataframe tbody tr th:only-of-type {\n",
       "        vertical-align: middle;\n",
       "    }\n",
       "\n",
       "    .dataframe tbody tr th {\n",
       "        vertical-align: top;\n",
       "    }\n",
       "\n",
       "    .dataframe thead th {\n",
       "        text-align: right;\n",
       "    }\n",
       "</style>\n",
       "<table border=\"1\" class=\"dataframe\">\n",
       "  <thead>\n",
       "    <tr style=\"text-align: right;\">\n",
       "      <th></th>\n",
       "      <th>bbl</th>\n",
       "      <th>ownertype</th>\n",
       "      <th>ownername</th>\n",
       "      <th>geom</th>\n",
       "      <th>assesstot</th>\n",
       "      <th>exempttot</th>\n",
       "    </tr>\n",
       "  </thead>\n",
       "  <tbody>\n",
       "    <tr>\n",
       "      <td>0</td>\n",
       "      <td>2.029180e+09</td>\n",
       "      <td>X</td>\n",
       "      <td>1887 BATHGATE PROPERTIES LLC</td>\n",
       "      <td>0106000020D70800000100000001030000000100000008...</td>\n",
       "      <td>1845450.0</td>\n",
       "      <td>1845450.0</td>\n",
       "    </tr>\n",
       "    <tr>\n",
       "      <td>1</td>\n",
       "      <td>1.009670e+09</td>\n",
       "      <td>X</td>\n",
       "      <td>NEW YORK CITY SCHOOL CONSTRUCTION AUTHOR ITY</td>\n",
       "      <td>0106000020D70800000100000001030000000100000005...</td>\n",
       "      <td>17922600.0</td>\n",
       "      <td>17922600.0</td>\n",
       "    </tr>\n",
       "    <tr>\n",
       "      <td>2</td>\n",
       "      <td>3.017940e+09</td>\n",
       "      <td>O</td>\n",
       "      <td>NYC HOUSING AUTHORITY</td>\n",
       "      <td>0106000020D70800000100000001030000000100000006...</td>\n",
       "      <td>103740.0</td>\n",
       "      <td>31518.0</td>\n",
       "    </tr>\n",
       "    <tr>\n",
       "      <td>3</td>\n",
       "      <td>3.069790e+09</td>\n",
       "      <td>X</td>\n",
       "      <td>SEA RISE I DEVELOPMENT COMPANY LLC</td>\n",
       "      <td>0106000020D70800000100000001030000000100000007...</td>\n",
       "      <td>1102950.0</td>\n",
       "      <td>1102950.0</td>\n",
       "    </tr>\n",
       "    <tr>\n",
       "      <td>4</td>\n",
       "      <td>1.016040e+09</td>\n",
       "      <td>X</td>\n",
       "      <td>MOUNT SINAI HOSPITAL</td>\n",
       "      <td>0106000020D70800000100000001030000000100000005...</td>\n",
       "      <td>4765050.0</td>\n",
       "      <td>4765050.0</td>\n",
       "    </tr>\n",
       "  </tbody>\n",
       "</table>\n",
       "</div>"
      ],
      "text/plain": [
       "            bbl ownertype                                     ownername  \\\n",
       "0  2.029180e+09         X                  1887 BATHGATE PROPERTIES LLC   \n",
       "1  1.009670e+09         X  NEW YORK CITY SCHOOL CONSTRUCTION AUTHOR ITY   \n",
       "2  3.017940e+09         O                         NYC HOUSING AUTHORITY   \n",
       "3  3.069790e+09         X            SEA RISE I DEVELOPMENT COMPANY LLC   \n",
       "4  1.016040e+09         X                          MOUNT SINAI HOSPITAL   \n",
       "\n",
       "                                                geom   assesstot   exempttot  \n",
       "0  0106000020D70800000100000001030000000100000008...   1845450.0   1845450.0  \n",
       "1  0106000020D70800000100000001030000000100000005...  17922600.0  17922600.0  \n",
       "2  0106000020D70800000100000001030000000100000006...    103740.0     31518.0  \n",
       "3  0106000020D70800000100000001030000000100000007...   1102950.0   1102950.0  \n",
       "4  0106000020D70800000100000001030000000100000005...   4765050.0   4765050.0  "
      ]
     },
     "execution_count": 5,
     "metadata": {},
     "output_type": "execute_result"
    }
   ],
   "source": [
    "df = pd.read_sql_query('''SELECT * FROM dcp.pluto201 WHERE ownertype > ' ';''', cnx)\n",
    "df = df[[\"bbl\", \"ownertype\", \"ownername\", \"geom\", \"assesstot\", \"exempttot\"]]\n",
    "df.head()"
   ]
  },
  {
   "cell_type": "markdown",
   "metadata": {},
   "source": [
    "Distribution by owner type, including bar chart"
   ]
  },
  {
   "cell_type": "code",
   "execution_count": 6,
   "metadata": {},
   "outputs": [
    {
     "data": {
      "text/html": [
       "<div>\n",
       "<style scoped>\n",
       "    .dataframe tbody tr th:only-of-type {\n",
       "        vertical-align: middle;\n",
       "    }\n",
       "\n",
       "    .dataframe tbody tr th {\n",
       "        vertical-align: top;\n",
       "    }\n",
       "\n",
       "    .dataframe thead th {\n",
       "        text-align: right;\n",
       "    }\n",
       "</style>\n",
       "<table border=\"1\" class=\"dataframe\">\n",
       "  <thead>\n",
       "    <tr style=\"text-align: right;\">\n",
       "      <th></th>\n",
       "      <th>ownertype</th>\n",
       "      <th>count</th>\n",
       "    </tr>\n",
       "  </thead>\n",
       "  <tbody>\n",
       "    <tr>\n",
       "      <td>0</td>\n",
       "      <td>X</td>\n",
       "      <td>17299</td>\n",
       "    </tr>\n",
       "    <tr>\n",
       "      <td>1</td>\n",
       "      <td>C</td>\n",
       "      <td>11505</td>\n",
       "    </tr>\n",
       "    <tr>\n",
       "      <td>2</td>\n",
       "      <td>O</td>\n",
       "      <td>1356</td>\n",
       "    </tr>\n",
       "    <tr>\n",
       "      <td>3</td>\n",
       "      <td>P</td>\n",
       "      <td>513</td>\n",
       "    </tr>\n",
       "    <tr>\n",
       "      <td>4</td>\n",
       "      <td>M</td>\n",
       "      <td>78</td>\n",
       "    </tr>\n",
       "  </tbody>\n",
       "</table>\n",
       "</div>"
      ],
      "text/plain": [
       "  ownertype  count\n",
       "0         X  17299\n",
       "1         C  11505\n",
       "2         O   1356\n",
       "3         P    513\n",
       "4         M     78"
      ]
     },
     "execution_count": 6,
     "metadata": {},
     "output_type": "execute_result"
    }
   ],
   "source": [
    "type_counts = df['ownertype'].value_counts()\n",
    "type(type_counts)\n",
    "type_counts\n",
    "df_dist = pd.DataFrame({'ownertype':type_counts.index, 'count':type_counts.values})\n",
    "df_dist"
   ]
  },
  {
   "cell_type": "code",
   "execution_count": 7,
   "metadata": {},
   "outputs": [
    {
     "data": {
      "image/png": "[encoded data removed]",
      "text/plain": [
       "<Figure size 432x288 with 1 Axes>"
      ]
     },
     "metadata": {
      "needs_background": "light"
     },
     "output_type": "display_data"
    }
   ],
   "source": [
    "ax = df_dist.plot.bar(x='ownertype', y='count', rot=0)"
   ]
  },
  {
   "cell_type": "markdown",
   "metadata": {},
   "source": [
    "Ownertype of 'C' indicates city ownership. Strip off the owners that look city-related, and produce a CSV of records with an owner type of 'C' where the owner does not appear to be the city."
   ]
  },
  {
   "cell_type": "code",
   "execution_count": 8,
   "metadata": {},
   "outputs": [],
   "source": [
    "city = df['ownertype'] == \"C\"\n",
    "df_city = df[city]\n",
    "all_city = df[city]\n",
    "df_city = df_city[~df_city[\"ownername\"].str.contains('CITY OF NEW YORK')]\n",
    "df_city = df_city[~df_city[\"ownername\"].str.contains('MTA - STATEN ISLAND RAILWAY')]\n",
    "df_city = df_city[~df_city[\"ownername\"].str.contains('FIRE DEPARTMENT OF NEW YORK')]\n",
    "df_city = df_city[~df_city[\"ownername\"].str.contains('NEW YORK PUBLIC LIBRARY')]\n",
    "df_city = df_city[~df_city[\"ownername\"].str.contains('BROOKLYN PUBLIC LIBRARY')]\n",
    "df_city = df_city[~df_city[\"ownername\"].str.contains('QUEENS PUBLIC LIBRARY')]\n",
    "df_city = df_city[~df_city[\"ownername\"].str.contains('CITY UNIVERSITY OF NEW YORK')]\n",
    "df_city = df_city[~df_city[\"ownername\"].str.contains('OFFICE OF THE CHIEF MEDICAL')]\n",
    "df_city = df_city[~df_city[\"ownername\"].str.contains('HIGHBRIDGE PRESERVATION LLC')]\n",
    "df_city = df_city[~df_city[\"ownername\"].str.contains('TAXI & LIMOUSINE COMMISSION')]\n",
    "df_city = df_city[~df_city[\"ownername\"].str.startswith('NYC')]\n",
    "df_city = df_city[~df_city[\"ownername\"].str.startswith('NEW YORK CITY')]\n",
    "df_city = df_city[~df_city[\"ownername\"].str.startswith('EAST HARLEM')]\n",
    "df_city = df_city[~df_city[\"ownername\"].str.startswith('RESTORING COMMUNITIES')]\n",
    "df_city = df_city[~df_city[\"ownername\"].str.startswith('BROOKLYN BRIDGE PARK')]\n",
    "df_city = df_city[~df_city[\"ownername\"].str.startswith('BROOKLYN NAVY')]\n",
    "df_city = df_city[~df_city[\"ownername\"].str.startswith('SO BX')]\n",
    "df_city = df_city[~df_city[\"ownername\"].str.startswith('IPIS')]\n",
    "df_city = df_city[~df_city[\"ownername\"].str.startswith('FULTON PK')]\n",
    "df_city = df_city[[\"ownername\"]]\n",
    "df_city = df_city.drop_duplicates()\n",
    "city_results = pd.merge(all_city, df_city, how='inner', on=['ownername'])\n",
    "city_results.to_csv('../output/city_illogical_ownernames.csv')"
   ]
  },
  {
   "cell_type": "markdown",
   "metadata": {},
   "source": [
    "Owner type of 'X' refers to a property has any owner type, private or public, but is fully tax-exempt. Look for situations where the exempt value does not equal the assessed value."
   ]
  },
  {
   "cell_type": "code",
   "execution_count": 13,
   "metadata": {},
   "outputs": [
    {
     "data": {
      "text/html": [
       "<div>\n",
       "<style scoped>\n",
       "    .dataframe tbody tr th:only-of-type {\n",
       "        vertical-align: middle;\n",
       "    }\n",
       "\n",
       "    .dataframe tbody tr th {\n",
       "        vertical-align: top;\n",
       "    }\n",
       "\n",
       "    .dataframe thead th {\n",
       "        text-align: right;\n",
       "    }\n",
       "</style>\n",
       "<table border=\"1\" class=\"dataframe\">\n",
       "  <thead>\n",
       "    <tr style=\"text-align: right;\">\n",
       "      <th></th>\n",
       "      <th>bbl</th>\n",
       "      <th>ownertype</th>\n",
       "      <th>ownername</th>\n",
       "      <th>geom</th>\n",
       "      <th>assesstot</th>\n",
       "      <th>exempttot</th>\n",
       "    </tr>\n",
       "  </thead>\n",
       "  <tbody>\n",
       "  </tbody>\n",
       "</table>\n",
       "</div>"
      ],
      "text/plain": [
       "Empty DataFrame\n",
       "Columns: [bbl, ownertype, ownername, geom, assesstot, exempttot]\n",
       "Index: []"
      ]
     },
     "execution_count": 13,
     "metadata": {},
     "output_type": "execute_result"
    }
   ],
   "source": [
    "not_fully_tax_exempt = df[(df['ownertype'] == 'X') & (df['assesstot'] != df['exempttot'])]\n",
    "not_fully_tax_exempt"
   ]
  },
  {
   "cell_type": "markdown",
   "metadata": {},
   "source": [
    "Are there any records where the property appears to be fully tax exempt, but the owner type is not 'X'? Does this matter?"
   ]
  },
  {
   "cell_type": "code",
   "execution_count": 14,
   "metadata": {},
   "outputs": [
    {
     "data": {
      "text/html": [
       "<div>\n",
       "<style scoped>\n",
       "    .dataframe tbody tr th:only-of-type {\n",
       "        vertical-align: middle;\n",
       "    }\n",
       "\n",
       "    .dataframe tbody tr th {\n",
       "        vertical-align: top;\n",
       "    }\n",
       "\n",
       "    .dataframe thead th {\n",
       "        text-align: right;\n",
       "    }\n",
       "</style>\n",
       "<table border=\"1\" class=\"dataframe\">\n",
       "  <thead>\n",
       "    <tr style=\"text-align: right;\">\n",
       "      <th></th>\n",
       "      <th>bbl</th>\n",
       "      <th>ownertype</th>\n",
       "      <th>ownername</th>\n",
       "      <th>geom</th>\n",
       "      <th>assesstot</th>\n",
       "      <th>exempttot</th>\n",
       "    </tr>\n",
       "  </thead>\n",
       "  <tbody>\n",
       "    <tr>\n",
       "      <td>5</td>\n",
       "      <td>1.012210e+09</td>\n",
       "      <td>O</td>\n",
       "      <td>NYC HOUSING AUTHORITY</td>\n",
       "      <td>0106000020D70800000100000001030000000100000008...</td>\n",
       "      <td>33284700.0</td>\n",
       "      <td>33284700.0</td>\n",
       "    </tr>\n",
       "    <tr>\n",
       "      <td>7</td>\n",
       "      <td>3.015490e+09</td>\n",
       "      <td>C</td>\n",
       "      <td>NYC HOUSING PRESERVATION AND DEVELOPMENT</td>\n",
       "      <td>0106000020D70800000100000001030000000100000006...</td>\n",
       "      <td>78300.0</td>\n",
       "      <td>78300.0</td>\n",
       "    </tr>\n",
       "    <tr>\n",
       "      <td>12</td>\n",
       "      <td>2.048390e+09</td>\n",
       "      <td>C</td>\n",
       "      <td>NYC DEPARTMENT OF PARKS AND RECREATION</td>\n",
       "      <td>0106000020D70800000100000001030000000100000006...</td>\n",
       "      <td>682200.0</td>\n",
       "      <td>682200.0</td>\n",
       "    </tr>\n",
       "    <tr>\n",
       "      <td>19</td>\n",
       "      <td>5.064580e+09</td>\n",
       "      <td>C</td>\n",
       "      <td>NYC DEPARTMENT OF PARKS AND RECREATION</td>\n",
       "      <td>0106000020D70800000100000001030000000100000006...</td>\n",
       "      <td>36000.0</td>\n",
       "      <td>36000.0</td>\n",
       "    </tr>\n",
       "    <tr>\n",
       "      <td>24</td>\n",
       "      <td>5.066080e+09</td>\n",
       "      <td>C</td>\n",
       "      <td>NYC DEPARTMENT OF ENVIRONMENTAL PROTECTION</td>\n",
       "      <td>0106000020D70800000100000001030000000100000012...</td>\n",
       "      <td>78180.0</td>\n",
       "      <td>78180.0</td>\n",
       "    </tr>\n",
       "    <tr>\n",
       "      <td>...</td>\n",
       "      <td>...</td>\n",
       "      <td>...</td>\n",
       "      <td>...</td>\n",
       "      <td>...</td>\n",
       "      <td>...</td>\n",
       "      <td>...</td>\n",
       "    </tr>\n",
       "    <tr>\n",
       "      <td>30734</td>\n",
       "      <td>3.078380e+09</td>\n",
       "      <td>C</td>\n",
       "      <td>NYC DEPARTMENT OF PARKS AND RECREATION</td>\n",
       "      <td>0106000020D7080000010000000103000000010000000E...</td>\n",
       "      <td>2542950.0</td>\n",
       "      <td>2542950.0</td>\n",
       "    </tr>\n",
       "    <tr>\n",
       "      <td>30736</td>\n",
       "      <td>3.069550e+09</td>\n",
       "      <td>C</td>\n",
       "      <td>NYC DEPARTMENT OF PARKS AND RECREATION</td>\n",
       "      <td>0106000020D708000001000000010300000001000000A2...</td>\n",
       "      <td>13140.0</td>\n",
       "      <td>13140.0</td>\n",
       "    </tr>\n",
       "    <tr>\n",
       "      <td>30744</td>\n",
       "      <td>1.016320e+09</td>\n",
       "      <td>O</td>\n",
       "      <td>NYC HOUSING AUTHORITY</td>\n",
       "      <td>0106000020D70800000100000001030000000100000005...</td>\n",
       "      <td>8082450.0</td>\n",
       "      <td>8082450.0</td>\n",
       "    </tr>\n",
       "    <tr>\n",
       "      <td>30748</td>\n",
       "      <td>3.014740e+09</td>\n",
       "      <td>C</td>\n",
       "      <td>NYC HOUSING PRESERVATION AND DEVELOPMENT</td>\n",
       "      <td>0106000020D70800000100000001030000000100000006...</td>\n",
       "      <td>9780.0</td>\n",
       "      <td>9780.0</td>\n",
       "    </tr>\n",
       "    <tr>\n",
       "      <td>30750</td>\n",
       "      <td>3.015490e+09</td>\n",
       "      <td>C</td>\n",
       "      <td>NYC HOUSING PRESERVATION AND DEVELOPMENT</td>\n",
       "      <td>0106000020D70800000100000001030000000100000007...</td>\n",
       "      <td>78300.0</td>\n",
       "      <td>78300.0</td>\n",
       "    </tr>\n",
       "  </tbody>\n",
       "</table>\n",
       "<p>9036 rows × 6 columns</p>\n",
       "</div>"
      ],
      "text/plain": [
       "                bbl ownertype                                   ownername  \\\n",
       "5      1.012210e+09         O                       NYC HOUSING AUTHORITY   \n",
       "7      3.015490e+09         C    NYC HOUSING PRESERVATION AND DEVELOPMENT   \n",
       "12     2.048390e+09         C      NYC DEPARTMENT OF PARKS AND RECREATION   \n",
       "19     5.064580e+09         C      NYC DEPARTMENT OF PARKS AND RECREATION   \n",
       "24     5.066080e+09         C  NYC DEPARTMENT OF ENVIRONMENTAL PROTECTION   \n",
       "...             ...       ...                                         ...   \n",
       "30734  3.078380e+09         C      NYC DEPARTMENT OF PARKS AND RECREATION   \n",
       "30736  3.069550e+09         C      NYC DEPARTMENT OF PARKS AND RECREATION   \n",
       "30744  1.016320e+09         O                       NYC HOUSING AUTHORITY   \n",
       "30748  3.014740e+09         C    NYC HOUSING PRESERVATION AND DEVELOPMENT   \n",
       "30750  3.015490e+09         C    NYC HOUSING PRESERVATION AND DEVELOPMENT   \n",
       "\n",
       "                                                    geom   assesstot  \\\n",
       "5      0106000020D70800000100000001030000000100000008...  33284700.0   \n",
       "7      0106000020D70800000100000001030000000100000006...     78300.0   \n",
       "12     0106000020D70800000100000001030000000100000006...    682200.0   \n",
       "19     0106000020D70800000100000001030000000100000006...     36000.0   \n",
       "24     0106000020D70800000100000001030000000100000012...     78180.0   \n",
       "...                                                  ...         ...   \n",
       "30734  0106000020D7080000010000000103000000010000000E...   2542950.0   \n",
       "30736  0106000020D708000001000000010300000001000000A2...     13140.0   \n",
       "30744  0106000020D70800000100000001030000000100000005...   8082450.0   \n",
       "30748  0106000020D70800000100000001030000000100000006...      9780.0   \n",
       "30750  0106000020D70800000100000001030000000100000007...     78300.0   \n",
       "\n",
       "        exempttot  \n",
       "5      33284700.0  \n",
       "7         78300.0  \n",
       "12       682200.0  \n",
       "19        36000.0  \n",
       "24        78180.0  \n",
       "...           ...  \n",
       "30734   2542950.0  \n",
       "30736     13140.0  \n",
       "30744   8082450.0  \n",
       "30748      9780.0  \n",
       "30750     78300.0  \n",
       "\n",
       "[9036 rows x 6 columns]"
      ]
     },
     "execution_count": 14,
     "metadata": {},
     "output_type": "execute_result"
    }
   ],
   "source": [
    "fully_tax_exempt = df[(df['ownertype'] != 'X') & (df['assesstot'] == df['exempttot']) & (df['exempttot'] > 0)]\n",
    "fully_tax_exempt"
   ]
  },
  {
   "cell_type": "markdown",
   "metadata": {},
   "source": [
    "Get a distribution of tax exempt properties where the owner type is not 'X'"
   ]
  },
  {
   "cell_type": "code",
   "execution_count": 16,
   "metadata": {},
   "outputs": [
    {
     "data": {
      "text/html": [
       "<div>\n",
       "<style scoped>\n",
       "    .dataframe tbody tr th:only-of-type {\n",
       "        vertical-align: middle;\n",
       "    }\n",
       "\n",
       "    .dataframe tbody tr th {\n",
       "        vertical-align: top;\n",
       "    }\n",
       "\n",
       "    .dataframe thead th {\n",
       "        text-align: right;\n",
       "    }\n",
       "</style>\n",
       "<table border=\"1\" class=\"dataframe\">\n",
       "  <thead>\n",
       "    <tr style=\"text-align: right;\">\n",
       "      <th></th>\n",
       "      <th>ownertype</th>\n",
       "      <th>count</th>\n",
       "    </tr>\n",
       "  </thead>\n",
       "  <tbody>\n",
       "    <tr>\n",
       "      <td>0</td>\n",
       "      <td>C</td>\n",
       "      <td>7995</td>\n",
       "    </tr>\n",
       "    <tr>\n",
       "      <td>1</td>\n",
       "      <td>O</td>\n",
       "      <td>906</td>\n",
       "    </tr>\n",
       "    <tr>\n",
       "      <td>2</td>\n",
       "      <td>P</td>\n",
       "      <td>95</td>\n",
       "    </tr>\n",
       "    <tr>\n",
       "      <td>3</td>\n",
       "      <td>M</td>\n",
       "      <td>40</td>\n",
       "    </tr>\n",
       "  </tbody>\n",
       "</table>\n",
       "</div>"
      ],
      "text/plain": [
       "  ownertype  count\n",
       "0         C   7995\n",
       "1         O    906\n",
       "2         P     95\n",
       "3         M     40"
      ]
     },
     "execution_count": 16,
     "metadata": {},
     "output_type": "execute_result"
    }
   ],
   "source": [
    "fte_counts = fully_tax_exempt['ownertype'].value_counts()\n",
    "fte_counts\n",
    "fte_dist = pd.DataFrame({'ownertype':fte_counts.index, 'count':fte_counts.values})\n",
    "fte_dist"
   ]
  },
  {
   "cell_type": "code",
   "execution_count": null,
   "metadata": {},
   "outputs": [],
   "source": []
  }
 ],
 "metadata": {
  "kernelspec": {
   "display_name": "Python 3",
   "language": "python",
   "name": "python3"
  },
  "language_info": {
   "codemirror_mode": {
    "name": "ipython",
    "version": 3
   },
   "file_extension": ".py",
   "mimetype": "text/x-python",
   "name": "python",
   "nbconvert_exporter": "python",
   "pygments_lexer": "ipython3",
   "version": "3.7.5"
  }
 },
 "nbformat": 4,
 "nbformat_minor": 2
}
