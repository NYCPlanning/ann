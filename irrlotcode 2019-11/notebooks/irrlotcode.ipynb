{
 "cells": [
  {
   "cell_type": "code",
   "execution_count": 1,
   "metadata": {},
   "outputs": [],
   "source": [
    "import pandas as pd\n",
    "from pandas.io import sql\n",
    "import geopandas as gpd\n",
    "import numpy as np\n",
    "import psycopg2\n",
    "import sqlalchemy\n",
    "from sqlalchemy import create_engine\n",
    "from matplotlib import rcParams\n",
    "import matplotlib.pyplot as plt\n",
    "import matplotlib.ticker as tick\n",
    "import os\n",
    "import dotenv\n",
    "import csv\n",
    "import seaborn as sns\n",
    "\n",
    "%matplotlib inline"
   ]
  },
  {
   "cell_type": "code",
   "execution_count": 2,
   "metadata": {},
   "outputs": [],
   "source": [
    "%reload_ext dotenv\n",
    "%dotenv ../.env"
   ]
  },
  {
   "cell_type": "code",
   "execution_count": 3,
   "metadata": {},
   "outputs": [],
   "source": [
    "cnx = create_engine(os.getenv('EDMDB'))"
   ]
  },
  {
   "cell_type": "markdown",
   "metadata": {},
   "source": [
    "Drop intermediate tables used by this process."
   ]
  },
  {
   "cell_type": "code",
   "execution_count": 4,
   "metadata": {},
   "outputs": [
    {
     "data": {
      "text/plain": [
       "<sqlalchemy.engine.result.ResultProxy at 0x1106cc190>"
      ]
     },
     "execution_count": 4,
     "metadata": {},
     "output_type": "execute_result"
    }
   ],
   "source": [
    "sql.execute('''\n",
    "DROP TABLE IF EXISTS dcp.pluto_points, \n",
    "dcp.irrlot_regular, dcp.irrlot_irregular\n",
    "''', cnx)"
   ]
  },
  {
   "cell_type": "markdown",
   "metadata": {},
   "source": [
    "Disaggregate the geometry of potential irregular lots to points."
   ]
  },
  {
   "cell_type": "code",
   "execution_count": 5,
   "metadata": {},
   "outputs": [
    {
     "data": {
      "text/plain": [
       "<sqlalchemy.engine.result.ResultProxy at 0x12c8e2550>"
      ]
     },
     "execution_count": 5,
     "metadata": {},
     "output_type": "execute_result"
    }
   ],
   "source": [
    "sql.execute('''\n",
    "CREATE TABLE dcp.pluto_points AS\n",
    "SELECT \"BBL\" as bbl,\n",
    "(ST_DumpPoints(geom)).path AS path,\n",
    "(ST_DumpPoints(geom)).geom AS geom,\n",
    "\"Borough\" as borough,\n",
    "(ST_DumpPoints(geom)).path[1] AS path_1,\n",
    "(ST_DumpPoints(geom)).path[2] AS path_2,\n",
    "(ST_DumpPoints(geom)).path[3] AS path_3\n",
    "FROM dcp.pluto202\n",
    "WHERE geom IS NOT NULL\n",
    "AND \"LotArea\" > 15000\n",
    "AND (ST_Area(ST_OrientedEnvelope(geom)) - ST_Area(geom)) / ST_Area(geom) * 100 > 15;\n",
    "''', cnx)"
   ]
  },
  {
   "cell_type": "code",
   "execution_count": 6,
   "metadata": {},
   "outputs": [
    {
     "data": {
      "text/plain": [
       "<sqlalchemy.engine.result.ResultProxy at 0x12ca03790>"
      ]
     },
     "execution_count": 6,
     "metadata": {},
     "output_type": "execute_result"
    }
   ],
   "source": [
    "sql.execute('''\n",
    "ALTER TABLE dcp.pluto_points\n",
    "ADD PRIMARY KEY (bbl, path_1, path_2, path_3);\n",
    "''', cnx)"
   ]
  },
  {
   "cell_type": "code",
   "execution_count": 7,
   "metadata": {},
   "outputs": [
    {
     "data": {
      "text/plain": [
       "<sqlalchemy.engine.result.ResultProxy at 0x12ca034d0>"
      ]
     },
     "execution_count": 7,
     "metadata": {},
     "output_type": "execute_result"
    }
   ],
   "source": [
    "sql.execute('''\n",
    "CREATE INDEX pluto_points_geom_idx ON dcp.pluto_points USING GIST (geom);\n",
    "''', cnx)"
   ]
  },
  {
   "cell_type": "markdown",
   "metadata": {},
   "source": [
    "Run the script to measure and count the angles in each polygon."
   ]
  },
  {
   "cell_type": "code",
   "execution_count": 8,
   "metadata": {},
   "outputs": [
    {
     "name": "stdout",
     "output_type": "stream",
     "text": [
      "Selecting points from pluto 19.1 table using cursor.fetchall\n",
      "Records read:  1000\n",
      "Records read:  2000\n",
      "Records read:  3000\n",
      "Records read:  4000\n",
      "Records read:  5000\n",
      "Records read:  6000\n",
      "Records read:  7000\n",
      "Records read:  8000\n",
      "Records read:  9000\n",
      "Records read:  10000\n",
      "Records read:  11000\n",
      "Records read:  12000\n",
      "Records read:  13000\n",
      "Records read:  14000\n",
      "Records read:  15000\n",
      "Records read:  16000\n",
      "Records read:  17000\n",
      "Records read:  18000\n",
      "Records read:  19000\n",
      "Records read:  20000\n",
      "Records read:  21000\n",
      "Records read:  22000\n",
      "Records read:  23000\n",
      "Records read:  24000\n",
      "Records read:  25000\n",
      "Records read:  26000\n",
      "Records read:  27000\n",
      "Records read:  28000\n",
      "Records read:  29000\n",
      "Records read:  30000\n",
      "Records read:  31000\n",
      "Records read:  32000\n",
      "Records read:  33000\n",
      "Records read:  34000\n",
      "Records read:  35000\n",
      "Records read:  36000\n",
      "Records read:  37000\n",
      "Records read:  38000\n",
      "Records read:  39000\n",
      "Records read:  40000\n",
      "Records read:  41000\n",
      "Records read:  42000\n",
      "Records read:  43000\n",
      "Records read:  44000\n",
      "Records read:  45000\n",
      "Records read:  46000\n",
      "Records read:  47000\n",
      "Records read:  48000\n",
      "Records read:  49000\n",
      "Records read:  50000\n",
      "Records read:  51000\n",
      "Records read:  52000\n",
      "Records read:  53000\n",
      "Records read:  54000\n",
      "Records read:  55000\n",
      "Records read:  56000\n",
      "Records read:  57000\n",
      "Records read:  58000\n",
      "Records read:  59000\n",
      "Records read:  60000\n",
      "Records read:  61000\n",
      "Records read:  62000\n",
      "Records read:  63000\n",
      "Records read:  64000\n",
      "Records read:  65000\n",
      "Records read:  66000\n",
      "Records read:  67000\n",
      "Records read:  68000\n",
      "Records read:  69000\n",
      "Records read:  70000\n",
      "Records read:  71000\n",
      "Records read:  72000\n",
      "Records read:  73000\n",
      "Records read:  74000\n",
      "Records read:  75000\n",
      "Records read:  76000\n",
      "Records read:  77000\n",
      "Records read:  78000\n",
      "Records read:  79000\n",
      "Records read:  80000\n",
      "Records read:  81000\n",
      "Records read:  82000\n",
      "Records read:  83000\n",
      "Records read:  84000\n",
      "Records read:  85000\n",
      "Records read:  86000\n",
      "Records read:  87000\n",
      "Records read:  88000\n",
      "Records read:  89000\n",
      "Records read:  90000\n",
      "Records read:  91000\n",
      "Records read:  92000\n",
      "Records read:  93000\n",
      "Records read:  94000\n",
      "Records read:  95000\n",
      "Records read:  96000\n",
      "Records read:  97000\n",
      "Records read:  98000\n",
      "Records read:  99000\n",
      "Records read:  100000\n",
      "Records read:  101000\n",
      "Records read:  102000\n",
      "Records read:  103000\n",
      "Records read:  104000\n",
      "Records read:  105000\n",
      "Records read:  106000\n",
      "Records read:  107000\n",
      "Records read:  108000\n",
      "Records read:  109000\n",
      "Records read:  110000\n",
      "Records read:  111000\n",
      "Records read:  112000\n",
      "Records read:  113000\n",
      "Records read:  114000\n",
      "Records read:  115000\n",
      "Records read:  116000\n",
      "Records read:  117000\n",
      "Records read:  118000\n",
      "Records read:  119000\n",
      "Records read:  120000\n",
      "Records read:  121000\n",
      "Records read:  122000\n",
      "Records read:  123000\n",
      "Records read:  124000\n",
      "Records read:  125000\n",
      "Records read:  126000\n",
      "Records read:  127000\n",
      "Records read:  128000\n",
      "Records read:  129000\n",
      "Records read:  130000\n",
      "Records read:  131000\n",
      "Records read:  132000\n",
      "Records read:  133000\n",
      "Records read:  134000\n",
      "Records read:  135000\n",
      "Records read:  136000\n",
      "Records read:  137000\n",
      "Records read:  138000\n",
      "Records read:  139000\n",
      "Records read:  140000\n",
      "Records read:  141000\n",
      "Records read:  142000\n",
      "Records read:  143000\n",
      "Records read:  144000\n",
      "Records read:  145000\n",
      "Records read:  146000\n",
      "Records read:  147000\n",
      "Records read:  148000\n",
      "Records read:  149000\n",
      "Records read:  150000\n",
      "Records read:  151000\n",
      "Records read:  152000\n",
      "Records read:  153000\n",
      "Records read:  154000\n",
      "Records read:  155000\n",
      "Records read:  156000\n",
      "Records read:  157000\n",
      "Records read:  158000\n",
      "Records read:  159000\n",
      "Records read:  160000\n",
      "Records read:  161000\n",
      "Records read:  162000\n",
      "Records read:  163000\n",
      "Records read:  164000\n",
      "Records read:  165000\n",
      "Records read:  166000\n",
      "Records read:  167000\n",
      "Records read:  168000\n",
      "Records read:  169000\n",
      "Records read:  170000\n",
      "Records read:  171000\n",
      "Records read:  172000\n",
      "Records read:  173000\n",
      "Records read:  174000\n",
      "Records read:  175000\n",
      "Records read:  176000\n",
      "Records read:  177000\n",
      "Records read:  178000\n",
      "Records read:  179000\n",
      "Records read:  180000\n",
      "Records read:  181000\n",
      "Records read:  182000\n",
      "Records read:  183000\n",
      "Records read:  184000\n",
      "Records read:  185000\n",
      "Records read:  186000\n",
      "Records read:  187000\n",
      "Records read:  188000\n",
      "Records read:  189000\n",
      "Records read:  190000\n",
      "Records read:  191000\n",
      "Records read:  192000\n",
      "Records read:  193000\n",
      "Records read:  194000\n",
      "Records read:  195000\n",
      "Records read:  196000\n",
      "Records read:  197000\n",
      "Records read:  198000\n",
      "Records read:  199000\n",
      "Records read:  200000\n",
      "Records read:  201000\n",
      "Records read:  202000\n",
      "Records read:  203000\n",
      "Records read:  204000\n",
      "Records read:  205000\n",
      "Records read:  206000\n",
      "Records read:  207000\n",
      "Records read:  208000\n",
      "Records read:  209000\n",
      "Records read:  210000\n",
      "Records read:  211000\n",
      "Records read:  212000\n",
      "Records read:  213000\n",
      "Records read:  214000\n",
      "Records read:  215000\n",
      "Records read:  216000\n",
      "Records read:  217000\n",
      "Records read:  218000\n",
      "Records read:  219000\n",
      "Records read:  220000\n",
      "Records read:  221000\n",
      "Records read:  222000\n",
      "Records read:  223000\n",
      "Records read:  224000\n",
      "Records read:  225000\n",
      "Records read:  226000\n",
      "Records read:  227000\n",
      "Records read:  228000\n",
      "Records read:  229000\n",
      "Records read:  230000\n",
      "Records read:  231000\n",
      "Records read:  232000\n",
      "Records read:  233000\n",
      "Records read:  234000\n",
      "Records read:  235000\n",
      "Records read:  236000\n",
      "Records read:  237000\n",
      "Records read:  238000\n",
      "Records read:  239000\n",
      "Records read:  240000\n",
      "Records read:  241000\n",
      "Records read:  242000\n",
      "Records read:  243000\n",
      "Records read:  244000\n",
      "Records read:  245000\n",
      "Records read:  246000\n",
      "Records read:  247000\n",
      "Records read:  248000\n",
      "Records read:  249000\n",
      "Records read:  250000\n",
      "Records read:  251000\n",
      "Records read:  252000\n",
      "Records read:  253000\n",
      "Records read:  254000\n",
      "Records read:  255000\n",
      "Records read:  256000\n",
      "Records read:  257000\n",
      "Records read:  258000\n",
      "Records read:  259000\n",
      "Records read:  260000\n",
      "Records read:  261000\n",
      "Records read:  262000\n",
      "Records read:  263000\n",
      "Records read:  264000\n",
      "Records read:  265000\n",
      "Records read:  266000\n",
      "Records read:  267000\n",
      "Records read:  268000\n",
      "Records read:  269000\n",
      "Records read:  270000\n",
      "Records read:  271000\n",
      "Records read:  272000\n",
      "Records read:  273000\n",
      "Records read:  274000\n",
      "Records read:  275000\n",
      "Records read:  276000\n",
      "Records read:  277000\n",
      "Records read:  278000\n",
      "Records read:  279000\n",
      "Records read:  280000\n",
      "Records read:  281000\n",
      "Records read:  282000\n",
      "Records read:  283000\n",
      "Records read:  284000\n",
      "Records read:  285000\n",
      "Records read:  286000\n",
      "Records read:  287000\n",
      "Records read:  288000\n",
      "Records read:  289000\n",
      "Records read:  290000\n",
      "Records read:  291000\n",
      "Records read:  292000\n",
      "Records read:  293000\n",
      "Records read:  294000\n",
      "Records read:  295000\n",
      "Records read:  296000\n",
      "Records read:  297000\n",
      "Records read:  298000\n",
      "Records read:  299000\n",
      "Records read:  300000\n",
      "Records read:  301000\n",
      "Records read:  302000\n",
      "Records read:  303000\n",
      "Records read:  304000\n",
      "Records read:  305000\n",
      "Records read:  306000\n",
      "Records read:  307000\n",
      "Records read:  308000\n",
      "Records read:  309000\n",
      "Records read:  310000\n",
      "Records read:  311000\n",
      "Records read:  312000\n",
      "Records read:  313000\n",
      "Records read:  314000\n",
      "Records read:  315000\n",
      "Records read:  316000\n",
      "Records read:  317000\n",
      "Records read:  318000\n",
      "Records read:  319000\n",
      "Records read:  320000\n",
      "Records read:  321000\n",
      "Records read:  322000\n",
      "Records read:  323000\n",
      "Records read:  324000\n",
      "Records read:  325000\n",
      "Records read:  326000\n",
      "Records read:  327000\n",
      "Records read:  328000\n",
      "Records read:  329000\n",
      "Records read:  330000\n",
      "Records read:  331000\n",
      "Records read:  332000\n",
      "Records read:  333000\n",
      "Records read:  334000\n",
      "Records read:  335000\n",
      "Records read:  336000\n",
      "Records read:  337000\n",
      "Records read:  338000\n",
      "Records read:  339000\n",
      "Records read:  340000\n",
      "Records read:  341000\n",
      "Records read:  342000\n",
      "Records read:  343000\n",
      "Records read:  344000\n",
      "Records read:  345000\n",
      "Records read:  346000\n",
      "Records read:  347000\n",
      "Records read:  348000\n",
      "Records read:  349000\n",
      "Records read:  350000\n",
      "Records read:  351000\n",
      "Records read:  352000\n",
      "Records read:  353000\n",
      "Records read:  354000\n",
      "Records read:  355000\n",
      "Pluto 19.1 point records read  355826\n",
      "Regular polygons:  3562\n",
      "Irregular polygons:  10603\n",
      "PostgreSQL connection is closed\n"
     ]
    }
   ],
   "source": [
    "%run -i '../python/IrrLot.py'"
   ]
  },
  {
   "cell_type": "markdown",
   "metadata": {},
   "source": [
    "Create and load a table of BBLs flagged as irregular"
   ]
  },
  {
   "cell_type": "code",
   "execution_count": 9,
   "metadata": {},
   "outputs": [
    {
     "data": {
      "text/plain": [
       "<sqlalchemy.engine.result.ResultProxy at 0x12c996710>"
      ]
     },
     "execution_count": 9,
     "metadata": {},
     "output_type": "execute_result"
    }
   ],
   "source": [
    "sql.execute('''\n",
    "CREATE TABLE dcp.irrlot_irregular (\n",
    "\tbbl NUMERIC,\n",
    "\tirrlotcode VARCHAR(1),\n",
    "\tlotarea INTEGER,\n",
    "\tlotfront NUMERIC,\n",
    "\tlotdepth NUMERIC,\n",
    "\tfront_depth_product NUMERIC,\n",
    "\tpluto_shape_area NUMERIC,\n",
    "\tgeom GEOMETRY(MULTIPOLYGON, 2263),\n",
    "\tPRIMARY KEY (bbl)\n",
    ");\n",
    "''', cnx)"
   ]
  },
  {
   "cell_type": "code",
   "execution_count": 10,
   "metadata": {},
   "outputs": [],
   "source": [
    "conn = psycopg2.connect(os.getenv('EDMCONN'))\n",
    "cur = conn.cursor()\n",
    "with open('../output/irregular_lots.csv', 'r') as f:\n",
    "    reader = csv.reader(f)\n",
    "    for row in reader:\n",
    "        cur.execute(\n",
    "            \"INSERT INTO dcp.irrlot_irregular VALUES ('{0}')\".format(row[0])\n",
    "        )\n",
    "conn.commit()"
   ]
  },
  {
   "cell_type": "markdown",
   "metadata": {},
   "source": [
    "Enhance the table with additional PLUTO fields that might be useful"
   ]
  },
  {
   "cell_type": "code",
   "execution_count": 11,
   "metadata": {},
   "outputs": [
    {
     "data": {
      "text/plain": [
       "<sqlalchemy.engine.result.ResultProxy at 0x1106cc1d0>"
      ]
     },
     "execution_count": 11,
     "metadata": {},
     "output_type": "execute_result"
    }
   ],
   "source": [
    "sql.execute('''\n",
    "UPDATE dcp.irrlot_irregular i\n",
    "SET geom = p.geom,\n",
    "irrlotcode = p.\"IrrLotCode\",\n",
    "lotarea = p.\"LotArea\",\n",
    "lotfront = p.\"LotFront\",\n",
    "lotdepth = p.\"LotDepth\",\n",
    "front_depth_product = p.\"LotFront\" * p.\"LotDepth\",\n",
    "pluto_shape_area = p.\"Shape_Area\"\n",
    "FROM dcp.pluto192 p\n",
    "WHERE i.bbl = p.\"BBL\";\n",
    "''', cnx)"
   ]
  },
  {
   "cell_type": "markdown",
   "metadata": {},
   "source": [
    "This gets the total count of lots determined to be irregular that are currently classified as regular."
   ]
  },
  {
   "cell_type": "code",
   "execution_count": 12,
   "metadata": {},
   "outputs": [
    {
     "data": {
      "text/html": [
       "<div>\n",
       "<style scoped>\n",
       "    .dataframe tbody tr th:only-of-type {\n",
       "        vertical-align: middle;\n",
       "    }\n",
       "\n",
       "    .dataframe tbody tr th {\n",
       "        vertical-align: top;\n",
       "    }\n",
       "\n",
       "    .dataframe thead th {\n",
       "        text-align: right;\n",
       "    }\n",
       "</style>\n",
       "<table border=\"1\" class=\"dataframe\">\n",
       "  <thead>\n",
       "    <tr style=\"text-align: right;\">\n",
       "      <th></th>\n",
       "      <th>irregular_lot_count</th>\n",
       "    </tr>\n",
       "  </thead>\n",
       "  <tbody>\n",
       "    <tr>\n",
       "      <td>0</td>\n",
       "      <td>1138</td>\n",
       "    </tr>\n",
       "  </tbody>\n",
       "</table>\n",
       "</div>"
      ],
      "text/plain": [
       "   irregular_lot_count\n",
       "0                 1138"
      ]
     },
     "execution_count": 12,
     "metadata": {},
     "output_type": "execute_result"
    }
   ],
   "source": [
    "pd.read_sql_query('''\n",
    "SELECT COUNT(*) AS irregular_lot_count\n",
    "FROM dcp.irrlot_irregular\n",
    "WHERE irrlotcode = 'N'\n",
    "''', cnx)"
   ]
  },
  {
   "cell_type": "markdown",
   "metadata": {},
   "source": [
    "Sum the lotarea, shape_area, and differences for all records that were misclassified. Converting shape_area and difference totals to integer for readability."
   ]
  },
  {
   "cell_type": "code",
   "execution_count": 13,
   "metadata": {},
   "outputs": [
    {
     "data": {
      "text/html": [
       "<div>\n",
       "<style scoped>\n",
       "    .dataframe tbody tr th:only-of-type {\n",
       "        vertical-align: middle;\n",
       "    }\n",
       "\n",
       "    .dataframe tbody tr th {\n",
       "        vertical-align: top;\n",
       "    }\n",
       "\n",
       "    .dataframe thead th {\n",
       "        text-align: right;\n",
       "    }\n",
       "</style>\n",
       "<table border=\"1\" class=\"dataframe\">\n",
       "  <thead>\n",
       "    <tr style=\"text-align: right;\">\n",
       "      <th></th>\n",
       "      <th>summed_lotarea</th>\n",
       "      <th>summed_shape_area</th>\n",
       "      <th>summed_shape_area_lotarea_difference</th>\n",
       "    </tr>\n",
       "  </thead>\n",
       "  <tbody>\n",
       "    <tr>\n",
       "      <td>0</td>\n",
       "      <td>177169688</td>\n",
       "      <td>166673823</td>\n",
       "      <td>-10495865</td>\n",
       "    </tr>\n",
       "  </tbody>\n",
       "</table>\n",
       "</div>"
      ],
      "text/plain": [
       "   summed_lotarea  summed_shape_area  summed_shape_area_lotarea_difference\n",
       "0       177169688          166673823                             -10495865"
      ]
     },
     "execution_count": 13,
     "metadata": {},
     "output_type": "execute_result"
    }
   ],
   "source": [
    "pd.read_sql_query('''\n",
    "SELECT SUM(lotarea) AS summed_lotarea,\n",
    "CAST(SUM(pluto_shape_area) AS INTEGER) AS summed_shape_area,\n",
    "CAST(SUM(pluto_shape_area - lotarea) AS INTEGER) AS summed_shape_area_lotarea_difference\n",
    "FROM dcp.irrlot_irregular\n",
    "WHERE irrlotcode = 'N'\n",
    "''', cnx)"
   ]
  },
  {
   "cell_type": "markdown",
   "metadata": {},
   "source": [
    "Breakout by landuse code"
   ]
  },
  {
   "cell_type": "code",
   "execution_count": 14,
   "metadata": {},
   "outputs": [],
   "source": [
    "landuse_breakout = pd.read_sql_query('''\n",
    "SELECT p.\"LandUse\",\n",
    "d.def AS landuse_definition,\n",
    "SUM(lotarea) AS lotarea,\n",
    "CAST(SUM(front_depth_product) AS INTEGER) AS frontxdepth,\n",
    "CAST(SUM(pluto_shape_area) AS INTEGER) AS shape_area,\n",
    "CAST(SUM(pluto_shape_area - lotarea) AS INTEGER) AS shape_area_lotarea_difference\n",
    "FROM dcp.irrlot_irregular i,\n",
    "dcp.landuse_definitions d,\n",
    "dcp.pluto192 p\n",
    "WHERE i.bbl = p.\"BBL\"\n",
    "AND p.\"LandUse\" = d.landuse\n",
    "AND i.irrlotcode = 'N'\n",
    "GROUP BY p.\"LandUse\", d.def\n",
    "''', cnx)"
   ]
  },
  {
   "cell_type": "code",
   "execution_count": 15,
   "metadata": {
    "scrolled": true
   },
   "outputs": [
    {
     "data": {
      "text/html": [
       "<div>\n",
       "<style scoped>\n",
       "    .dataframe tbody tr th:only-of-type {\n",
       "        vertical-align: middle;\n",
       "    }\n",
       "\n",
       "    .dataframe tbody tr th {\n",
       "        vertical-align: top;\n",
       "    }\n",
       "\n",
       "    .dataframe thead th {\n",
       "        text-align: right;\n",
       "    }\n",
       "</style>\n",
       "<table border=\"1\" class=\"dataframe\">\n",
       "  <thead>\n",
       "    <tr style=\"text-align: right;\">\n",
       "      <th></th>\n",
       "      <th>LandUse</th>\n",
       "      <th>landuse_definition</th>\n",
       "      <th>lotarea</th>\n",
       "      <th>frontxdepth</th>\n",
       "      <th>shape_area</th>\n",
       "      <th>shape_area_lotarea_difference</th>\n",
       "    </tr>\n",
       "  </thead>\n",
       "  <tbody>\n",
       "    <tr>\n",
       "      <td>0</td>\n",
       "      <td>01</td>\n",
       "      <td>One and Two Family Buildings</td>\n",
       "      <td>3832394</td>\n",
       "      <td>3537132</td>\n",
       "      <td>3598883</td>\n",
       "      <td>-233511</td>\n",
       "    </tr>\n",
       "    <tr>\n",
       "      <td>1</td>\n",
       "      <td>02</td>\n",
       "      <td>Multi-Family Walkup Buildings</td>\n",
       "      <td>10298882</td>\n",
       "      <td>2564905</td>\n",
       "      <td>9584671</td>\n",
       "      <td>-714211</td>\n",
       "    </tr>\n",
       "    <tr>\n",
       "      <td>2</td>\n",
       "      <td>03</td>\n",
       "      <td>Multi-Family Elevator Buildings</td>\n",
       "      <td>6923245</td>\n",
       "      <td>4294434</td>\n",
       "      <td>6937812</td>\n",
       "      <td>14567</td>\n",
       "    </tr>\n",
       "    <tr>\n",
       "      <td>3</td>\n",
       "      <td>04</td>\n",
       "      <td>Mixed Residential and Commercial</td>\n",
       "      <td>3875593</td>\n",
       "      <td>1738453</td>\n",
       "      <td>3839539</td>\n",
       "      <td>-36054</td>\n",
       "    </tr>\n",
       "    <tr>\n",
       "      <td>4</td>\n",
       "      <td>05</td>\n",
       "      <td>Commercial and Office</td>\n",
       "      <td>3383295</td>\n",
       "      <td>2701819</td>\n",
       "      <td>3412548</td>\n",
       "      <td>29253</td>\n",
       "    </tr>\n",
       "    <tr>\n",
       "      <td>5</td>\n",
       "      <td>06</td>\n",
       "      <td>Industrial and Manufacturing</td>\n",
       "      <td>1886110</td>\n",
       "      <td>1516577</td>\n",
       "      <td>1848874</td>\n",
       "      <td>-37236</td>\n",
       "    </tr>\n",
       "    <tr>\n",
       "      <td>6</td>\n",
       "      <td>07</td>\n",
       "      <td>Transportation and Utility</td>\n",
       "      <td>71574803</td>\n",
       "      <td>22109996</td>\n",
       "      <td>63542226</td>\n",
       "      <td>-8032577</td>\n",
       "    </tr>\n",
       "    <tr>\n",
       "      <td>7</td>\n",
       "      <td>08</td>\n",
       "      <td>Public Facilities and Institutions</td>\n",
       "      <td>12732775</td>\n",
       "      <td>4788692</td>\n",
       "      <td>13062910</td>\n",
       "      <td>330135</td>\n",
       "    </tr>\n",
       "    <tr>\n",
       "      <td>8</td>\n",
       "      <td>09</td>\n",
       "      <td>Open Space and Outdoor Recreation</td>\n",
       "      <td>34361257</td>\n",
       "      <td>41265194</td>\n",
       "      <td>50917632</td>\n",
       "      <td>16556375</td>\n",
       "    </tr>\n",
       "    <tr>\n",
       "      <td>9</td>\n",
       "      <td>10</td>\n",
       "      <td>Parking Facilities</td>\n",
       "      <td>1602393</td>\n",
       "      <td>1718748</td>\n",
       "      <td>1595007</td>\n",
       "      <td>-7386</td>\n",
       "    </tr>\n",
       "    <tr>\n",
       "      <td>10</td>\n",
       "      <td>11</td>\n",
       "      <td>Vacant Land</td>\n",
       "      <td>19860819</td>\n",
       "      <td>19202757</td>\n",
       "      <td>5124918</td>\n",
       "      <td>-14735901</td>\n",
       "    </tr>\n",
       "  </tbody>\n",
       "</table>\n",
       "</div>"
      ],
      "text/plain": [
       "   LandUse                  landuse_definition   lotarea  frontxdepth  \\\n",
       "0       01        One and Two Family Buildings   3832394      3537132   \n",
       "1       02       Multi-Family Walkup Buildings  10298882      2564905   \n",
       "2       03     Multi-Family Elevator Buildings   6923245      4294434   \n",
       "3       04    Mixed Residential and Commercial   3875593      1738453   \n",
       "4       05               Commercial and Office   3383295      2701819   \n",
       "5       06        Industrial and Manufacturing   1886110      1516577   \n",
       "6       07          Transportation and Utility  71574803     22109996   \n",
       "7       08  Public Facilities and Institutions  12732775      4788692   \n",
       "8       09   Open Space and Outdoor Recreation  34361257     41265194   \n",
       "9       10                  Parking Facilities   1602393      1718748   \n",
       "10      11                         Vacant Land  19860819     19202757   \n",
       "\n",
       "    shape_area  shape_area_lotarea_difference  \n",
       "0      3598883                        -233511  \n",
       "1      9584671                        -714211  \n",
       "2      6937812                          14567  \n",
       "3      3839539                         -36054  \n",
       "4      3412548                          29253  \n",
       "5      1848874                         -37236  \n",
       "6     63542226                       -8032577  \n",
       "7     13062910                         330135  \n",
       "8     50917632                       16556375  \n",
       "9      1595007                          -7386  \n",
       "10     5124918                      -14735901  "
      ]
     },
     "execution_count": 15,
     "metadata": {},
     "output_type": "execute_result"
    }
   ],
   "source": [
    "df = pd.DataFrame(landuse_breakout, columns=['LandUse', 'landuse_definition', 'lotarea', 'frontxdepth', 'shape_area', 'shape_area_lotarea_difference'])\n",
    "df"
   ]
  },
  {
   "cell_type": "markdown",
   "metadata": {},
   "source": [
    "Bar chart preparation; set font and font sizes"
   ]
  },
  {
   "cell_type": "code",
   "execution_count": 16,
   "metadata": {},
   "outputs": [],
   "source": [
    "lotarea_list = df['lotarea'].tolist()\n",
    "shape_area_list = df['shape_area'].tolist()\n",
    "landuse_list = df['landuse_definition'].tolist()\n",
    "front_depth_list = df['frontxdepth'].tolist()\n",
    "y_axis_list = lotarea_list + shape_area_list\n",
    "y_axis_list.sort()"
   ]
  },
  {
   "cell_type": "code",
   "execution_count": 17,
   "metadata": {},
   "outputs": [],
   "source": [
    "sns.set()\n",
    "SMALL_SIZE = 8\n",
    "MEDIUM_SMALL_SIZE = 10\n",
    "MEDIUM_SIZE = 11\n",
    "MEDIUM_LARGE_SIZE = 14\n",
    "BIGGER_SIZE = 16\n",
    "\n",
    "rcParams['font.family'] = 'sans-serif'\n",
    "rcParams['font.sans-serif'] = ['Inconsolata']\n",
    "rcParams[\"legend.borderpad\"] = .5\n",
    "plt.rc('font', size=SMALL_SIZE)\n",
    "plt.rc('axes', titlesize=BIGGER_SIZE)     # fontsize of the axes title\n",
    "plt.rc('axes', labelsize=MEDIUM_LARGE_SIZE)    # fontsize of the x and y labels\n",
    "plt.rc('xtick', labelsize=MEDIUM_SIZE)    # fontsize of the tick labels\n",
    "plt.rc('ytick', labelsize=MEDIUM_SIZE)    # fontsize of the tick labels\n",
    "plt.rc('legend', fontsize=MEDIUM_LARGE_SIZE)    # legend fontsize\n",
    "plt.rc('figure', titlesize=BIGGER_SIZE)  # fontsize of the figure title"
   ]
  },
  {
   "cell_type": "markdown",
   "metadata": {},
   "source": [
    "Produce bar chart"
   ]
  },
  {
   "cell_type": "code",
   "execution_count": 18,
   "metadata": {},
   "outputs": [
    {
     "data": {
      "image/png": "[encoded data removed]",
      "text/plain": [
       "<Figure size 1152x720 with 1 Axes>"
      ]
     },
     "metadata": {},
     "output_type": "display_data"
    }
   ],
   "source": [
    "def y_fmt(tick_val, pos):\n",
    "    if tick_val > 1000000000:\n",
    "        val = round(int(tick_val) /1000000000, 1)\n",
    "        return '{}B'.format(val)\n",
    "    elif tick_val > 1000000:\n",
    "        val = round(int(tick_val) /1000000)\n",
    "        return '{}M'.format(val)\n",
    "    elif tick_val > 1000:\n",
    "        val = int(tick_val) / 1000\n",
    "        return '{}k'.format(val)\n",
    "    else:\n",
    "        return tick_val\n",
    "\n",
    "dfplot = pd.DataFrame({'lotarea': lotarea_list, 'shape_area': shape_area_list, 'frontxdepth': front_depth_list, }, index=landuse_list)\n",
    "ax = dfplot.plot.bar(rot=90, figsize=(16, 10), color=['#e88f39', '#8cbf41', '#5c447c'])\n",
    "#ax = dfplot.plot.barh(figsize=(16, 10), color=['#e88f39', '#8cbf41', '#5c447c'])\n",
    "ax.set_xlabel(\"Land Use\", fontweight=\"bold\")\n",
    "ax.set_ylabel(\"Area\", fontweight=\"bold\")\n",
    "ax.tick_params(left=True, bottom=True)\n",
    "ax.ticklabel_format(useOffset=False, style='plain', axis='y')\n",
    "ax.yaxis.set_major_formatter(tick.FuncFormatter(y_fmt))\n",
    "plt.legend(loc='upper right', shadow='bool')\n",
    "plt.title('LotArea v. Front x Depth v. ShapeArea for Irregular Lots Misclassified as Regular', pad=10, fontsize=16, fontweight='bold')\n",
    "legend = plt.legend()\n",
    "frame = legend.get_frame()\n",
    "frame.set_facecolor('white')\n",
    "plt.show()"
   ]
  },
  {
   "cell_type": "markdown",
   "metadata": {},
   "source": [
    "Set up and produce leaflet.js map. You may need to rerun cells to see it."
   ]
  },
  {
   "cell_type": "code",
   "execution_count": 19,
   "metadata": {},
   "outputs": [],
   "source": [
    "from ipyleaflet import Map, basemaps, GeoData, basemap_to_tiles, LayersControl, FullScreenControl, Popup, Marker\n",
    "from ipywidgets import HTML\n",
    "\n",
    "m = Map(center=(40.730610, -73.935242), zoom=11)\n",
    "\n",
    "dark_matter_layer = basemap_to_tiles(basemaps.CartoDB.DarkMatter, close_popup_on_click=True)\n",
    "m.add_layer(dark_matter_layer)"
   ]
  },
  {
   "cell_type": "code",
   "execution_count": 20,
   "metadata": {},
   "outputs": [
    {
     "data": {
      "text/plain": [
       "\"SELECT bbl, ST_Transform(geom, 4326) AS geom FROM dcp.irrlot_irregular WHERE irrlotcode = 'N';\""
      ]
     },
     "execution_count": 20,
     "metadata": {},
     "output_type": "execute_result"
    }
   ],
   "source": [
    "query = '''SELECT bbl, ST_Transform(geom, 4326) AS geom FROM dcp.irrlot_irregular WHERE irrlotcode = 'N';'''\n",
    "query"
   ]
  },
  {
   "cell_type": "code",
   "execution_count": 21,
   "metadata": {},
   "outputs": [
    {
     "data": {
      "text/html": [
       "<div>\n",
       "<style scoped>\n",
       "    .dataframe tbody tr th:only-of-type {\n",
       "        vertical-align: middle;\n",
       "    }\n",
       "\n",
       "    .dataframe tbody tr th {\n",
       "        vertical-align: top;\n",
       "    }\n",
       "\n",
       "    .dataframe thead th {\n",
       "        text-align: right;\n",
       "    }\n",
       "</style>\n",
       "<table border=\"1\" class=\"dataframe\">\n",
       "  <thead>\n",
       "    <tr style=\"text-align: right;\">\n",
       "      <th></th>\n",
       "      <th>bbl</th>\n",
       "      <th>geom</th>\n",
       "    </tr>\n",
       "  </thead>\n",
       "  <tbody>\n",
       "    <tr>\n",
       "      <td>0</td>\n",
       "      <td>1.006620e+09</td>\n",
       "      <td>MULTIPOLYGON (((-74.00842 40.74806, -74.00848 ...</td>\n",
       "    </tr>\n",
       "    <tr>\n",
       "      <td>1</td>\n",
       "      <td>1.007588e+09</td>\n",
       "      <td>MULTIPOLYGON (((-73.99446 40.75340, -73.99483 ...</td>\n",
       "    </tr>\n",
       "    <tr>\n",
       "      <td>2</td>\n",
       "      <td>1.015240e+09</td>\n",
       "      <td>MULTIPOLYGON (((-73.95056 40.78524, -73.95035 ...</td>\n",
       "    </tr>\n",
       "    <tr>\n",
       "      <td>3</td>\n",
       "      <td>2.023870e+09</td>\n",
       "      <td>MULTIPOLYGON (((-73.90886 40.82800, -73.90918 ...</td>\n",
       "    </tr>\n",
       "    <tr>\n",
       "      <td>4</td>\n",
       "      <td>2.039040e+09</td>\n",
       "      <td>MULTIPOLYGON (((-73.87650 40.83799, -73.87725 ...</td>\n",
       "    </tr>\n",
       "    <tr>\n",
       "      <td>...</td>\n",
       "      <td>...</td>\n",
       "      <td>...</td>\n",
       "    </tr>\n",
       "    <tr>\n",
       "      <td>1133</td>\n",
       "      <td>4.038720e+09</td>\n",
       "      <td>MULTIPOLYGON (((-73.86046 40.71187, -73.86053 ...</td>\n",
       "    </tr>\n",
       "    <tr>\n",
       "      <td>1134</td>\n",
       "      <td>4.139310e+09</td>\n",
       "      <td>MULTIPOLYGON (((-73.85835 40.65925, -73.85835 ...</td>\n",
       "    </tr>\n",
       "    <tr>\n",
       "      <td>1135</td>\n",
       "      <td>4.142411e+09</td>\n",
       "      <td>MULTIPOLYGON (((-73.82637 40.64936, -73.82637 ...</td>\n",
       "    </tr>\n",
       "    <tr>\n",
       "      <td>1136</td>\n",
       "      <td>4.158470e+09</td>\n",
       "      <td>MULTIPOLYGON (((-73.77027 40.59405, -73.77034 ...</td>\n",
       "    </tr>\n",
       "    <tr>\n",
       "      <td>1137</td>\n",
       "      <td>4.159338e+09</td>\n",
       "      <td>MULTIPOLYGON (((-73.79081 40.59065, -73.79080 ...</td>\n",
       "    </tr>\n",
       "  </tbody>\n",
       "</table>\n",
       "<p>1138 rows × 2 columns</p>\n",
       "</div>"
      ],
      "text/plain": [
       "               bbl                                               geom\n",
       "0     1.006620e+09  MULTIPOLYGON (((-74.00842 40.74806, -74.00848 ...\n",
       "1     1.007588e+09  MULTIPOLYGON (((-73.99446 40.75340, -73.99483 ...\n",
       "2     1.015240e+09  MULTIPOLYGON (((-73.95056 40.78524, -73.95035 ...\n",
       "3     2.023870e+09  MULTIPOLYGON (((-73.90886 40.82800, -73.90918 ...\n",
       "4     2.039040e+09  MULTIPOLYGON (((-73.87650 40.83799, -73.87725 ...\n",
       "...            ...                                                ...\n",
       "1133  4.038720e+09  MULTIPOLYGON (((-73.86046 40.71187, -73.86053 ...\n",
       "1134  4.139310e+09  MULTIPOLYGON (((-73.85835 40.65925, -73.85835 ...\n",
       "1135  4.142411e+09  MULTIPOLYGON (((-73.82637 40.64936, -73.82637 ...\n",
       "1136  4.158470e+09  MULTIPOLYGON (((-73.77027 40.59405, -73.77034 ...\n",
       "1137  4.159338e+09  MULTIPOLYGON (((-73.79081 40.59065, -73.79080 ...\n",
       "\n",
       "[1138 rows x 2 columns]"
      ]
     },
     "execution_count": 21,
     "metadata": {},
     "output_type": "execute_result"
    }
   ],
   "source": [
    "bbls = gpd.GeoDataFrame.from_postgis(sql=query, con=cnx)\n",
    "bbls"
   ]
  },
  {
   "cell_type": "code",
   "execution_count": 22,
   "metadata": {},
   "outputs": [],
   "source": [
    "bbls_layer = GeoData(geo_dataframe = bbls, \n",
    "              style={'color': 'green', 'opacity':10, 'weight':1.9, 'dashArray':'2', 'fillOpacity':0.3},\n",
    "              name = 'new')"
   ]
  },
  {
   "cell_type": "code",
   "execution_count": 23,
   "metadata": {},
   "outputs": [],
   "source": [
    "m.add_layer(bbls_layer)\n",
    "m.add_control(LayersControl())\n",
    "m.add_control(FullScreenControl())"
   ]
  },
  {
   "cell_type": "code",
   "execution_count": 24,
   "metadata": {},
   "outputs": [],
   "source": [
    "for i in range(bbls.shape[0]):\n",
    "    center = (bbls.loc[i, 'geom'].centroid.y,\n",
    "              bbls.loc[i, 'geom'].centroid.x)\n",
    "    bbl = str(list(bbls['bbl'])[i])\n",
    "    marker = Marker(location=center)\n",
    "    m.add_layer(marker)\n",
    "    marker.popup = HTML(value=f'''<a target='_blank' href=https://zola.planning.nyc.gov/bbl/{bbl}> {bbl} </a>''')"
   ]
  },
  {
   "cell_type": "code",
   "execution_count": 25,
   "metadata": {},
   "outputs": [
    {
     "data": {
      "application/vnd.jupyter.widget-view+json": {
       "model_id": "f06d502684bf42f4a932d03f315f5042",
       "version_major": 2,
       "version_minor": 0
      },
      "text/plain": [
       "Map(basemap={'url': 'https://{s}.tile.openstreetmap.org/{z}/{x}/{y}.png', 'max_zoom': 19, 'attribution': 'Map …"
      ]
     },
     "metadata": {},
     "output_type": "display_data"
    }
   ],
   "source": [
    "m"
   ]
  },
  {
   "cell_type": "code",
   "execution_count": null,
   "metadata": {},
   "outputs": [],
   "source": []
  }
 ],
 "metadata": {
  "kernelspec": {
   "display_name": "Python 3",
   "language": "python",
   "name": "python3"
  },
  "language_info": {
   "codemirror_mode": {
    "name": "ipython",
    "version": 3
   },
   "file_extension": ".py",
   "mimetype": "text/x-python",
   "name": "python",
   "nbconvert_exporter": "python",
   "pygments_lexer": "ipython3",
   "version": "3.7.5"
  }
 },
 "nbformat": 4,
 "nbformat_minor": 2
}
