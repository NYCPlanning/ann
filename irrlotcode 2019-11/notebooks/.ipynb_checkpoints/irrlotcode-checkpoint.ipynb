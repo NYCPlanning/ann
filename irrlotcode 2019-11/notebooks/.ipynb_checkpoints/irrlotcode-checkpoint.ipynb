{
 "cells": [
  {
   "cell_type": "code",
   "execution_count": 1,
   "metadata": {},
   "outputs": [],
   "source": [
    "import pandas as pd\n",
    "from pandas.io import sql\n",
    "import geopandas as gpd\n",
    "import numpy as np\n",
    "import psycopg2\n",
    "import sqlalchemy\n",
    "from sqlalchemy import create_engine\n",
    "from matplotlib import rcParams\n",
    "import matplotlib.pyplot as plt\n",
    "import matplotlib.ticker as tick\n",
    "import os\n",
    "import dotenv\n",
    "import csv\n",
    "import seaborn as sns\n",
    "\n",
    "%matplotlib inline"
   ]
  },
  {
   "cell_type": "code",
   "execution_count": 2,
   "metadata": {},
   "outputs": [],
   "source": [
    "%reload_ext dotenv\n",
    "%dotenv ../.env"
   ]
  },
  {
   "cell_type": "code",
   "execution_count": 3,
   "metadata": {},
   "outputs": [],
   "source": [
    "cnx = create_engine(os.getenv('EDMDB'))"
   ]
  },
  {
   "cell_type": "markdown",
   "metadata": {},
   "source": [
    "Drop intermediate tables used by this process."
   ]
  },
  {
   "cell_type": "code",
   "execution_count": 4,
   "metadata": {},
   "outputs": [
    {
     "data": {
      "text/plain": [
       "<sqlalchemy.engine.result.ResultProxy at 0x12f13f0d0>"
      ]
     },
     "execution_count": 4,
     "metadata": {},
     "output_type": "execute_result"
    }
   ],
   "source": [
    "sql.execute('''\n",
    "DROP TABLE IF EXISTS dcp.pluto_points, \n",
    "dcp.irrlot_regular, dcp.irrlot_irregular\n",
    "''', cnx)"
   ]
  },
  {
   "cell_type": "markdown",
   "metadata": {},
   "source": [
    "Disaggregate the geometry of potential irregular lots to points."
   ]
  },
  {
   "cell_type": "code",
   "execution_count": 5,
   "metadata": {},
   "outputs": [
    {
     "data": {
      "text/plain": [
       "<sqlalchemy.engine.result.ResultProxy at 0x12f71bc10>"
      ]
     },
     "execution_count": 5,
     "metadata": {},
     "output_type": "execute_result"
    }
   ],
   "source": [
    "sql.execute('''\n",
    "CREATE TABLE dcp.pluto_points AS\n",
    "SELECT \"BBL\" as bbl,\n",
    "(ST_DumpPoints(geom)).path AS path,\n",
    "(ST_DumpPoints(geom)).geom AS geom,\n",
    "\"Borough\" as borough,\n",
    "(ST_DumpPoints(geom)).path[1] AS path_1,\n",
    "(ST_DumpPoints(geom)).path[2] AS path_2,\n",
    "(ST_DumpPoints(geom)).path[3] AS path_3\n",
    "FROM dcp.pluto202\n",
    "WHERE geom IS NOT NULL\n",
    "AND \"LotArea\" > 15000\n",
    "AND (ST_Area(ST_OrientedEnvelope(geom)) - ST_Area(geom)) / ST_Area(geom) * 100 > 15;\n",
    "''', cnx)"
   ]
  },
  {
   "cell_type": "code",
   "execution_count": 6,
   "metadata": {},
   "outputs": [
    {
     "data": {
      "text/plain": [
       "<sqlalchemy.engine.result.ResultProxy at 0x12f78a550>"
      ]
     },
     "execution_count": 6,
     "metadata": {},
     "output_type": "execute_result"
    }
   ],
   "source": [
    "sql.execute('''\n",
    "ALTER TABLE dcp.pluto_points\n",
    "ADD PRIMARY KEY (bbl, path_1, path_2, path_3);\n",
    "''', cnx)"
   ]
  },
  {
   "cell_type": "code",
   "execution_count": 7,
   "metadata": {},
   "outputs": [
    {
     "data": {
      "text/plain": [
       "<sqlalchemy.engine.result.ResultProxy at 0x12f78a490>"
      ]
     },
     "execution_count": 7,
     "metadata": {},
     "output_type": "execute_result"
    }
   ],
   "source": [
    "sql.execute('''\n",
    "CREATE INDEX pluto_points_geom_idx ON dcp.pluto_points USING GIST (geom);\n",
    "''', cnx)"
   ]
  },
  {
   "cell_type": "markdown",
   "metadata": {},
   "source": [
    "Run the script to measure and count the angles in each polygon."
   ]
  },
  {
   "cell_type": "code",
   "execution_count": null,
   "metadata": {},
   "outputs": [
    {
     "name": "stdout",
     "output_type": "stream",
     "text": [
      "Selecting points from pluto 19.1 table using cursor.fetchall\n",
      "Records read:  1000\n",
      "Records read:  2000\n",
      "Records read:  3000\n",
      "Records read:  4000\n",
      "Records read:  5000\n",
      "Records read:  6000\n",
      "Records read:  7000\n",
      "Records read:  8000\n",
      "Records read:  9000\n",
      "Records read:  10000\n",
      "Records read:  11000\n",
      "Records read:  12000\n",
      "Records read:  13000\n",
      "Records read:  14000\n",
      "Records read:  15000\n",
      "Records read:  16000\n",
      "Records read:  17000\n",
      "Records read:  18000\n",
      "Records read:  19000\n",
      "Records read:  20000\n",
      "Records read:  21000\n",
      "Records read:  22000\n",
      "Records read:  23000\n",
      "Records read:  24000\n",
      "Records read:  25000\n",
      "Records read:  26000\n",
      "Records read:  27000\n",
      "Records read:  28000\n",
      "Records read:  29000\n",
      "Records read:  30000\n",
      "Records read:  31000\n",
      "Records read:  32000\n",
      "Records read:  33000\n",
      "Records read:  34000\n",
      "Records read:  35000\n",
      "Records read:  36000\n",
      "Records read:  37000\n",
      "Records read:  38000\n",
      "Records read:  39000\n",
      "Records read:  40000\n",
      "Records read:  41000\n",
      "Records read:  42000\n",
      "Records read:  43000\n",
      "Records read:  44000\n",
      "Records read:  45000\n",
      "Records read:  46000\n",
      "Records read:  47000\n",
      "Records read:  48000\n",
      "Records read:  49000\n",
      "Records read:  50000\n",
      "Records read:  51000\n",
      "Records read:  52000\n",
      "Records read:  53000\n",
      "Records read:  54000\n",
      "Records read:  55000\n",
      "Records read:  56000\n",
      "Records read:  57000\n",
      "Records read:  58000\n",
      "Records read:  59000\n",
      "Records read:  60000\n",
      "Records read:  61000\n",
      "Records read:  62000\n",
      "Records read:  63000\n",
      "Records read:  64000\n",
      "Records read:  65000\n",
      "Records read:  66000\n",
      "Records read:  67000\n",
      "Records read:  68000\n",
      "Records read:  69000\n",
      "Records read:  70000\n",
      "Records read:  71000\n",
      "Records read:  72000\n",
      "Records read:  73000\n",
      "Records read:  74000\n",
      "Records read:  75000\n",
      "Records read:  76000\n",
      "Records read:  77000\n",
      "Records read:  78000\n",
      "Records read:  79000\n",
      "Records read:  80000\n",
      "Records read:  81000\n",
      "Records read:  82000\n",
      "Records read:  83000\n",
      "Records read:  84000\n",
      "Records read:  85000\n",
      "Records read:  86000\n",
      "Records read:  87000\n",
      "Records read:  88000\n",
      "Records read:  89000\n",
      "Records read:  90000\n",
      "Records read:  91000\n",
      "Records read:  92000\n",
      "Records read:  93000\n",
      "Records read:  94000\n",
      "Records read:  95000\n",
      "Records read:  96000\n",
      "Records read:  97000\n",
      "Records read:  98000\n",
      "Records read:  99000\n",
      "Records read:  100000\n",
      "Records read:  101000\n",
      "Records read:  102000\n",
      "Records read:  103000\n",
      "Records read:  104000\n",
      "Records read:  105000\n",
      "Records read:  106000\n",
      "Records read:  107000\n",
      "Records read:  108000\n",
      "Records read:  109000\n"
     ]
    }
   ],
   "source": [
    "%run -i '../python/IrrLot.py'"
   ]
  },
  {
   "cell_type": "markdown",
   "metadata": {},
   "source": [
    "Create and load a table of BBLs flagged as irregular"
   ]
  },
  {
   "cell_type": "code",
   "execution_count": null,
   "metadata": {},
   "outputs": [],
   "source": [
    "sql.execute('''\n",
    "CREATE TABLE dcp.irrlot_irregular (\n",
    "\tbbl NUMERIC,\n",
    "\tirrlotcode VARCHAR(1),\n",
    "\tlotarea INTEGER,\n",
    "\tlotfront NUMERIC,\n",
    "\tlotdepth NUMERIC,\n",
    "\tfront_depth_product NUMERIC,\n",
    "\tpluto_shape_area NUMERIC,\n",
    "\tgeom GEOMETRY(MULTIPOLYGON, 2263),\n",
    "\tPRIMARY KEY (bbl)\n",
    ");\n",
    "''', cnx)"
   ]
  },
  {
   "cell_type": "code",
   "execution_count": null,
   "metadata": {},
   "outputs": [],
   "source": [
    "conn = psycopg2.connect(os.getenv('EDMCONN'))\n",
    "cur = conn.cursor()\n",
    "with open('../output/irregular_lots.csv', 'r') as f:\n",
    "    reader = csv.reader(f)\n",
    "    for row in reader:\n",
    "        cur.execute(\n",
    "            \"INSERT INTO dcp.irrlot_irregular VALUES ('{0}')\".format(row[0])\n",
    "        )\n",
    "conn.commit()"
   ]
  },
  {
   "cell_type": "markdown",
   "metadata": {},
   "source": [
    "Enhance the table with additional PLUTO fields that might be useful"
   ]
  },
  {
   "cell_type": "code",
   "execution_count": null,
   "metadata": {},
   "outputs": [],
   "source": [
    "sql.execute('''\n",
    "UPDATE dcp.irrlot_irregular i\n",
    "SET geom = p.geom,\n",
    "irrlotcode = p.\"IrrLotCode\",\n",
    "lotarea = p.\"LotArea\",\n",
    "lotfront = p.\"LotFront\",\n",
    "lotdepth = p.\"LotDepth\",\n",
    "front_depth_product = p.\"LotFront\" * p.\"LotDepth\",\n",
    "pluto_shape_area = p.\"Shape_Area\"\n",
    "FROM dcp.pluto192 p\n",
    "WHERE i.bbl = p.\"BBL\";\n",
    "''', cnx)"
   ]
  },
  {
   "cell_type": "markdown",
   "metadata": {},
   "source": [
    "This gets the total count of lots determined to be irregular that are currently classified as regular."
   ]
  },
  {
   "cell_type": "code",
   "execution_count": null,
   "metadata": {},
   "outputs": [],
   "source": [
    "pd.read_sql_query('''\n",
    "SELECT COUNT(*) AS irregular_lot_count\n",
    "FROM dcp.irrlot_irregular\n",
    "WHERE irrlotcode = 'N'\n",
    "''', cnx)"
   ]
  },
  {
   "cell_type": "markdown",
   "metadata": {},
   "source": [
    "Sum the lotarea, shape_area, and differences for all records that were misclassified. Converting shape_area and difference totals to integer for readability."
   ]
  },
  {
   "cell_type": "code",
   "execution_count": null,
   "metadata": {},
   "outputs": [],
   "source": [
    "pd.read_sql_query('''\n",
    "SELECT SUM(lotarea) AS summed_lotarea,\n",
    "CAST(SUM(pluto_shape_area) AS INTEGER) AS summed_shape_area,\n",
    "CAST(SUM(pluto_shape_area - lotarea) AS INTEGER) AS summed_shape_area_lotarea_difference\n",
    "FROM dcp.irrlot_irregular\n",
    "WHERE irrlotcode = 'N'\n",
    "''', cnx)"
   ]
  },
  {
   "cell_type": "markdown",
   "metadata": {},
   "source": [
    "Breakout by landuse code"
   ]
  },
  {
   "cell_type": "code",
   "execution_count": null,
   "metadata": {},
   "outputs": [],
   "source": [
    "landuse_breakout = pd.read_sql_query('''\n",
    "SELECT p.\"LandUse\",\n",
    "d.def AS landuse_definition,\n",
    "SUM(lotarea) AS lotarea,\n",
    "CAST(SUM(front_depth_product) AS INTEGER) AS frontxdepth,\n",
    "CAST(SUM(pluto_shape_area) AS INTEGER) AS shape_area,\n",
    "CAST(SUM(pluto_shape_area - lotarea) AS INTEGER) AS shape_area_lotarea_difference\n",
    "FROM dcp.irrlot_irregular i,\n",
    "dcp.landuse_definitions d,\n",
    "dcp.pluto192 p\n",
    "WHERE i.bbl = p.\"BBL\"\n",
    "AND p.\"LandUse\" = d.landuse\n",
    "AND i.irrlotcode = 'N'\n",
    "GROUP BY p.\"LandUse\", d.def\n",
    "''', cnx)"
   ]
  },
  {
   "cell_type": "code",
   "execution_count": null,
   "metadata": {
    "scrolled": true
   },
   "outputs": [],
   "source": [
    "df = pd.DataFrame(landuse_breakout, columns=['LandUse', 'landuse_definition', 'lotarea', 'frontxdepth', 'shape_area', 'shape_area_lotarea_difference'])\n",
    "df"
   ]
  },
  {
   "cell_type": "markdown",
   "metadata": {},
   "source": [
    "Bar chart preparation; set font and font sizes"
   ]
  },
  {
   "cell_type": "code",
   "execution_count": null,
   "metadata": {},
   "outputs": [],
   "source": [
    "lotarea_list = df['lotarea'].tolist()\n",
    "shape_area_list = df['shape_area'].tolist()\n",
    "landuse_list = df['landuse_definition'].tolist()\n",
    "front_depth_list = df['frontxdepth'].tolist()\n",
    "y_axis_list = lotarea_list + shape_area_list\n",
    "y_axis_list.sort()"
   ]
  },
  {
   "cell_type": "code",
   "execution_count": null,
   "metadata": {},
   "outputs": [],
   "source": [
    "sns.set()\n",
    "SMALL_SIZE = 8\n",
    "MEDIUM_SMALL_SIZE = 10\n",
    "MEDIUM_SIZE = 11\n",
    "MEDIUM_LARGE_SIZE = 14\n",
    "BIGGER_SIZE = 16\n",
    "\n",
    "rcParams['font.family'] = 'sans-serif'\n",
    "rcParams['font.sans-serif'] = ['Inconsolata']\n",
    "rcParams[\"legend.borderpad\"] = .5\n",
    "plt.rc('font', size=SMALL_SIZE)\n",
    "plt.rc('axes', titlesize=BIGGER_SIZE)     # fontsize of the axes title\n",
    "plt.rc('axes', labelsize=MEDIUM_LARGE_SIZE)    # fontsize of the x and y labels\n",
    "plt.rc('xtick', labelsize=MEDIUM_SIZE)    # fontsize of the tick labels\n",
    "plt.rc('ytick', labelsize=MEDIUM_SIZE)    # fontsize of the tick labels\n",
    "plt.rc('legend', fontsize=MEDIUM_LARGE_SIZE)    # legend fontsize\n",
    "plt.rc('figure', titlesize=BIGGER_SIZE)  # fontsize of the figure title"
   ]
  },
  {
   "cell_type": "markdown",
   "metadata": {},
   "source": [
    "Produce bar chart"
   ]
  },
  {
   "cell_type": "code",
   "execution_count": null,
   "metadata": {},
   "outputs": [],
   "source": [
    "def y_fmt(tick_val, pos):\n",
    "    if tick_val > 1000000000:\n",
    "        val = round(int(tick_val) /1000000000, 1)\n",
    "        return '{}B'.format(val)\n",
    "    elif tick_val > 1000000:\n",
    "        val = round(int(tick_val) /1000000)\n",
    "        return '{}M'.format(val)\n",
    "    elif tick_val > 1000:\n",
    "        val = int(tick_val) / 1000\n",
    "        return '{}k'.format(val)\n",
    "    else:\n",
    "        return tick_val\n",
    "\n",
    "dfplot = pd.DataFrame({'lotarea': lotarea_list, 'shape_area': shape_area_list, 'frontxdepth': front_depth_list, }, index=landuse_list)\n",
    "ax = dfplot.plot.barh(rot=90, figsize=(16, 10), color=['#e88f39', '#8cbf41', '#5c447c'])\n",
    "ax.set_xlabel(\"Land Use\", fontweight=\"bold\")\n",
    "ax.set_ylabel(\"Area\", fontweight=\"bold\")\n",
    "ax.tick_params(left=True, bottom=True)\n",
    "ax.ticklabel_format(useOffset=False, style='plain', axis='y')\n",
    "ax.yaxis.set_major_formatter(tick.FuncFormatter(y_fmt))\n",
    "plt.legend(loc='upper right', shadow='bool')\n",
    "plt.title('LotArea v. Front x Depth v. ShapeArea for Irregular Lots Misclassified as Regular', pad=10, fontsize=16, fontweight='bold')\n",
    "legend = plt.legend()\n",
    "frame = legend.get_frame()\n",
    "frame.set_facecolor('white')\n",
    "plt.show()"
   ]
  },
  {
   "cell_type": "markdown",
   "metadata": {},
   "source": [
    "Set up and produce leaflet.js map. You may need to rerun cells to see it."
   ]
  },
  {
   "cell_type": "code",
   "execution_count": null,
   "metadata": {},
   "outputs": [],
   "source": [
    "from ipyleaflet import Map, basemaps, GeoData, basemap_to_tiles, LayersControl, FullScreenControl, Popup, Marker\n",
    "from ipywidgets import HTML\n",
    "\n",
    "m = Map(center=(40.730610, -73.935242), zoom=11)\n",
    "\n",
    "dark_matter_layer = basemap_to_tiles(basemaps.CartoDB.DarkMatter, close_popup_on_click=True)\n",
    "m.add_layer(dark_matter_layer)"
   ]
  },
  {
   "cell_type": "code",
   "execution_count": null,
   "metadata": {},
   "outputs": [],
   "source": [
    "query = '''SELECT bbl, ST_Transform(geom, 4326) AS geom FROM dcp.irrlot_irregular WHERE irrlotcode = 'N';'''\n",
    "query"
   ]
  },
  {
   "cell_type": "code",
   "execution_count": null,
   "metadata": {},
   "outputs": [],
   "source": [
    "bbls = gpd.GeoDataFrame.from_postgis(sql=query, con=cnx)\n",
    "bbls"
   ]
  },
  {
   "cell_type": "code",
   "execution_count": null,
   "metadata": {},
   "outputs": [],
   "source": [
    "bbls_layer = GeoData(geo_dataframe = bbls, \n",
    "              style={'color': 'green', 'opacity':10, 'weight':1.9, 'dashArray':'2', 'fillOpacity':0.3},\n",
    "              name = 'new')"
   ]
  },
  {
   "cell_type": "code",
   "execution_count": null,
   "metadata": {},
   "outputs": [],
   "source": [
    "m.add_layer(bbls_layer)\n",
    "m.add_control(LayersControl())\n",
    "m.add_control(FullScreenControl())"
   ]
  },
  {
   "cell_type": "code",
   "execution_count": null,
   "metadata": {},
   "outputs": [],
   "source": [
    "for i in range(bbls.shape[0]):\n",
    "    center = (bbls.loc[i, 'geom'].centroid.y,\n",
    "              bbls.loc[i, 'geom'].centroid.x)\n",
    "    bbl = str(list(bbls['bbl'])[i])\n",
    "    marker = Marker(location=center)\n",
    "    m.add_layer(marker)\n",
    "    marker.popup = HTML(value=f'''<a target='_blank' href=https://zola.planning.nyc.gov/bbl/{bbl}> {bbl} </a>''')"
   ]
  },
  {
   "cell_type": "code",
   "execution_count": null,
   "metadata": {},
   "outputs": [],
   "source": [
    "m"
   ]
  },
  {
   "cell_type": "code",
   "execution_count": null,
   "metadata": {},
   "outputs": [],
   "source": []
  }
 ],
 "metadata": {
  "kernelspec": {
   "display_name": "Python 3",
   "language": "python",
   "name": "python3"
  },
  "language_info": {
   "codemirror_mode": {
    "name": "ipython",
    "version": 3
   },
   "file_extension": ".py",
   "mimetype": "text/x-python",
   "name": "python",
   "nbconvert_exporter": "python",
   "pygments_lexer": "ipython3",
   "version": "3.7.5"
  }
 },
 "nbformat": 4,
 "nbformat_minor": 2
}
