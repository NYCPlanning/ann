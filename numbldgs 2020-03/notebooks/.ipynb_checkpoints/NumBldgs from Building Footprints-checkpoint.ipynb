{
 "cells": [
  {
   "cell_type": "code",
   "execution_count": 31,
   "metadata": {},
   "outputs": [],
   "source": [
    "import numpy as np\n",
    "import pandas as pd\n",
    "from sqlalchemy import create_engine\n",
    "import os\n",
    "import matplotlib.pyplot as plt\n",
    "import seaborn as sns"
   ]
  },
  {
   "cell_type": "code",
   "execution_count": 2,
   "metadata": {},
   "outputs": [],
   "source": [
    "%load_ext dotenv\n",
    "%dotenv ../.env"
   ]
  },
  {
   "cell_type": "code",
   "execution_count": 3,
   "metadata": {},
   "outputs": [],
   "source": [
    "cnx = create_engine(os.getenv('EDMDB'))"
   ]
  },
  {
   "cell_type": "markdown",
   "metadata": {},
   "source": [
    "#### PLUTO and building footprints comparison. Create supporting dataframes"
   ]
  },
  {
   "cell_type": "markdown",
   "metadata": {},
   "source": [
    "Create dataframes of bldgclass and landuse definitions"
   ]
  },
  {
   "cell_type": "code",
   "execution_count": 4,
   "metadata": {},
   "outputs": [
    {
     "data": {
      "text/html": [
       "<div>\n",
       "<style scoped>\n",
       "    .dataframe tbody tr th:only-of-type {\n",
       "        vertical-align: middle;\n",
       "    }\n",
       "\n",
       "    .dataframe tbody tr th {\n",
       "        vertical-align: top;\n",
       "    }\n",
       "\n",
       "    .dataframe thead th {\n",
       "        text-align: right;\n",
       "    }\n",
       "</style>\n",
       "<table border=\"1\" class=\"dataframe\">\n",
       "  <thead>\n",
       "    <tr style=\"text-align: right;\">\n",
       "      <th></th>\n",
       "      <th>landuse</th>\n",
       "      <th>def</th>\n",
       "    </tr>\n",
       "  </thead>\n",
       "  <tbody>\n",
       "    <tr>\n",
       "      <td>0</td>\n",
       "      <td>01</td>\n",
       "      <td>One and Two Family Buildings</td>\n",
       "    </tr>\n",
       "    <tr>\n",
       "      <td>1</td>\n",
       "      <td>02</td>\n",
       "      <td>Multi-Family Walkup Buildings</td>\n",
       "    </tr>\n",
       "    <tr>\n",
       "      <td>2</td>\n",
       "      <td>03</td>\n",
       "      <td>Multi-Family Elevator Buildings</td>\n",
       "    </tr>\n",
       "    <tr>\n",
       "      <td>3</td>\n",
       "      <td>04</td>\n",
       "      <td>Mixed Residential and Commercial</td>\n",
       "    </tr>\n",
       "    <tr>\n",
       "      <td>4</td>\n",
       "      <td>05</td>\n",
       "      <td>Commercial and Office</td>\n",
       "    </tr>\n",
       "    <tr>\n",
       "      <td>5</td>\n",
       "      <td>06</td>\n",
       "      <td>Industrial and Manufacturing</td>\n",
       "    </tr>\n",
       "    <tr>\n",
       "      <td>6</td>\n",
       "      <td>07</td>\n",
       "      <td>Transportation and Utility</td>\n",
       "    </tr>\n",
       "    <tr>\n",
       "      <td>7</td>\n",
       "      <td>08</td>\n",
       "      <td>Public Facilities and Institutions</td>\n",
       "    </tr>\n",
       "    <tr>\n",
       "      <td>8</td>\n",
       "      <td>09</td>\n",
       "      <td>Open Space and Outdoor Recreation</td>\n",
       "    </tr>\n",
       "    <tr>\n",
       "      <td>9</td>\n",
       "      <td>10</td>\n",
       "      <td>Parking Facilities</td>\n",
       "    </tr>\n",
       "    <tr>\n",
       "      <td>10</td>\n",
       "      <td>11</td>\n",
       "      <td>Vacant Land</td>\n",
       "    </tr>\n",
       "  </tbody>\n",
       "</table>\n",
       "</div>"
      ],
      "text/plain": [
       "   landuse                                 def\n",
       "0       01        One and Two Family Buildings\n",
       "1       02       Multi-Family Walkup Buildings\n",
       "2       03     Multi-Family Elevator Buildings\n",
       "3       04    Mixed Residential and Commercial\n",
       "4       05               Commercial and Office\n",
       "5       06        Industrial and Manufacturing\n",
       "6       07          Transportation and Utility\n",
       "7       08  Public Facilities and Institutions\n",
       "8       09   Open Space and Outdoor Recreation\n",
       "9       10                  Parking Facilities\n",
       "10      11                         Vacant Land"
      ]
     },
     "execution_count": 4,
     "metadata": {},
     "output_type": "execute_result"
    }
   ],
   "source": [
    "bldgclass_def = pd.read_sql_query('''SELECT * FROM dcp.bldgclass_definitions;''', cnx)\n",
    "landuse_def = pd.read_sql_query('''SELECT * FROM dcp.landuse_definitions;''', cnx)\n",
    "landuse_def"
   ]
  },
  {
   "cell_type": "markdown",
   "metadata": {},
   "source": [
    "Find lots where building footprints does not have the same number of buildings as PLUTO."
   ]
  },
  {
   "cell_type": "code",
   "execution_count": 5,
   "metadata": {},
   "outputs": [
    {
     "data": {
      "text/html": [
       "<div>\n",
       "<style scoped>\n",
       "    .dataframe tbody tr th:only-of-type {\n",
       "        vertical-align: middle;\n",
       "    }\n",
       "\n",
       "    .dataframe tbody tr th {\n",
       "        vertical-align: top;\n",
       "    }\n",
       "\n",
       "    .dataframe thead th {\n",
       "        text-align: right;\n",
       "    }\n",
       "</style>\n",
       "<table border=\"1\" class=\"dataframe\">\n",
       "  <thead>\n",
       "    <tr style=\"text-align: right;\">\n",
       "      <th></th>\n",
       "      <th>bbl</th>\n",
       "      <th>borough</th>\n",
       "      <th>address</th>\n",
       "      <th>landuse</th>\n",
       "      <th>bldgclass</th>\n",
       "      <th>ownername</th>\n",
       "      <th>numbldgs</th>\n",
       "      <th>bldg_footprints_count</th>\n",
       "      <th>difference</th>\n",
       "    </tr>\n",
       "  </thead>\n",
       "  <tbody>\n",
       "    <tr>\n",
       "      <td>0</td>\n",
       "      <td>4163500300</td>\n",
       "      <td>QN</td>\n",
       "      <td>None</td>\n",
       "      <td>01</td>\n",
       "      <td>A8</td>\n",
       "      <td>BREEZY POINT COOPERA</td>\n",
       "      <td>795</td>\n",
       "      <td>518</td>\n",
       "      <td>277</td>\n",
       "    </tr>\n",
       "    <tr>\n",
       "      <td>1</td>\n",
       "      <td>4142600001</td>\n",
       "      <td>QN</td>\n",
       "      <td>154-68 BROOKVILLE BOULEVARD</td>\n",
       "      <td>07</td>\n",
       "      <td>T1</td>\n",
       "      <td>PORT AUTHORITY OF NY AND NJ</td>\n",
       "      <td>422</td>\n",
       "      <td>246</td>\n",
       "      <td>176</td>\n",
       "    </tr>\n",
       "    <tr>\n",
       "      <td>2</td>\n",
       "      <td>4163500400</td>\n",
       "      <td>QN</td>\n",
       "      <td>None</td>\n",
       "      <td>01</td>\n",
       "      <td>A8</td>\n",
       "      <td>BREEZY POINT COOPERATIVE, INC</td>\n",
       "      <td>1861</td>\n",
       "      <td>1720</td>\n",
       "      <td>141</td>\n",
       "    </tr>\n",
       "    <tr>\n",
       "      <td>3</td>\n",
       "      <td>4163400050</td>\n",
       "      <td>QN</td>\n",
       "      <td>1 ROCKAWAY POINT BLVD</td>\n",
       "      <td>01</td>\n",
       "      <td>A8</td>\n",
       "      <td>BREEZY POINT CO-OP</td>\n",
       "      <td>515</td>\n",
       "      <td>404</td>\n",
       "      <td>111</td>\n",
       "    </tr>\n",
       "    <tr>\n",
       "      <td>4</td>\n",
       "      <td>5021400027</td>\n",
       "      <td>SI</td>\n",
       "      <td>1A DINSMORE STREET</td>\n",
       "      <td>09</td>\n",
       "      <td>Q3</td>\n",
       "      <td>RUSTIC WOODS HOMEOWNERS ASSOC INC</td>\n",
       "      <td>82</td>\n",
       "      <td>1</td>\n",
       "      <td>81</td>\n",
       "    </tr>\n",
       "  </tbody>\n",
       "</table>\n",
       "</div>"
      ],
      "text/plain": [
       "          bbl borough                      address landuse bldgclass  \\\n",
       "0  4163500300      QN                         None      01        A8   \n",
       "1  4142600001      QN  154-68 BROOKVILLE BOULEVARD      07        T1   \n",
       "2  4163500400      QN                         None      01        A8   \n",
       "3  4163400050      QN        1 ROCKAWAY POINT BLVD      01        A8   \n",
       "4  5021400027      SI           1A DINSMORE STREET      09        Q3   \n",
       "\n",
       "                           ownername  numbldgs  bldg_footprints_count  \\\n",
       "0               BREEZY POINT COOPERA       795                    518   \n",
       "1        PORT AUTHORITY OF NY AND NJ       422                    246   \n",
       "2      BREEZY POINT COOPERATIVE, INC      1861                   1720   \n",
       "3                 BREEZY POINT CO-OP       515                    404   \n",
       "4  RUSTIC WOODS HOMEOWNERS ASSOC INC        82                      1   \n",
       "\n",
       "   difference  \n",
       "0         277  \n",
       "1         176  \n",
       "2         141  \n",
       "3         111  \n",
       "4          81  "
      ]
     },
     "execution_count": 5,
     "metadata": {},
     "output_type": "execute_result"
    }
   ],
   "source": [
    "df = pd.read_sql_query('''WITH footprints_count_by_bbl AS (\n",
    "\tSELECT mpluto_bbl,\n",
    "\tCOUNT(*) AS bldg_footprints_count\n",
    "\tFROM dcp.bldg_footprints\n",
    "\tGROUP BY mpluto_bbl\n",
    ")\n",
    "SELECT CAST(bbl AS TEXT),\n",
    "borough,\n",
    "address, \n",
    "landuse,\n",
    "bldgclass,\n",
    "ownername,\n",
    "numbldgs,\n",
    "bldg_footprints_count, \n",
    "numbldgs - bldg_footprints_count AS difference\n",
    "FROM dcp.pluto201, footprints_count_by_bbl\n",
    "WHERE bbl = CAST(mpluto_bbl AS NUMERIC)\n",
    "AND numbldgs <> bldg_footprints_count\n",
    "ORDER BY difference DESC;''', cnx)\n",
    "df.head()"
   ]
  },
  {
   "cell_type": "markdown",
   "metadata": {},
   "source": [
    "#### Questions"
   ]
  },
  {
   "cell_type": "markdown",
   "metadata": {},
   "source": [
    "How many lots have differences in counts?"
   ]
  },
  {
   "cell_type": "code",
   "execution_count": 6,
   "metadata": {},
   "outputs": [
    {
     "data": {
      "text/plain": [
       "20673"
      ]
     },
     "execution_count": 6,
     "metadata": {},
     "output_type": "execute_result"
    }
   ],
   "source": [
    "df.shape[0]"
   ]
  },
  {
   "cell_type": "markdown",
   "metadata": {},
   "source": [
    "How often does PLUTO have greater numbers?"
   ]
  },
  {
   "cell_type": "code",
   "execution_count": 7,
   "metadata": {},
   "outputs": [
    {
     "data": {
      "text/plain": [
       "16616"
      ]
     },
     "execution_count": 7,
     "metadata": {},
     "output_type": "execute_result"
    }
   ],
   "source": [
    "more_bldgs_on_pluto = df[(df['numbldgs'] > df['bldg_footprints_count'])]\n",
    "more_bldgs_on_pluto.shape[0]"
   ]
  },
  {
   "cell_type": "markdown",
   "metadata": {},
   "source": [
    "How often does building footprints have greater numbers?"
   ]
  },
  {
   "cell_type": "code",
   "execution_count": 8,
   "metadata": {},
   "outputs": [
    {
     "data": {
      "text/plain": [
       "4057"
      ]
     },
     "execution_count": 8,
     "metadata": {},
     "output_type": "execute_result"
    }
   ],
   "source": [
    "more_bldgs_on_footprints = df[(df['numbldgs'] < df['bldg_footprints_count'])]\n",
    "more_bldgs_on_footprints.shape[0]"
   ]
  },
  {
   "cell_type": "markdown",
   "metadata": {},
   "source": [
    "Does the landuse code tell us anything interesting?"
   ]
  },
  {
   "cell_type": "code",
   "execution_count": 9,
   "metadata": {},
   "outputs": [
    {
     "data": {
      "text/html": [
       "<div>\n",
       "<style scoped>\n",
       "    .dataframe tbody tr th:only-of-type {\n",
       "        vertical-align: middle;\n",
       "    }\n",
       "\n",
       "    .dataframe tbody tr th {\n",
       "        vertical-align: top;\n",
       "    }\n",
       "\n",
       "    .dataframe thead th {\n",
       "        text-align: right;\n",
       "    }\n",
       "</style>\n",
       "<table border=\"1\" class=\"dataframe\">\n",
       "  <thead>\n",
       "    <tr style=\"text-align: right;\">\n",
       "      <th></th>\n",
       "      <th>landuse</th>\n",
       "      <th>count</th>\n",
       "      <th>def</th>\n",
       "    </tr>\n",
       "  </thead>\n",
       "  <tbody>\n",
       "    <tr>\n",
       "      <td>0</td>\n",
       "      <td>01</td>\n",
       "      <td>12953</td>\n",
       "      <td>One and Two Family Buildings</td>\n",
       "    </tr>\n",
       "    <tr>\n",
       "      <td>1</td>\n",
       "      <td>02</td>\n",
       "      <td>3034</td>\n",
       "      <td>Multi-Family Walkup Buildings</td>\n",
       "    </tr>\n",
       "    <tr>\n",
       "      <td>2</td>\n",
       "      <td>04</td>\n",
       "      <td>1226</td>\n",
       "      <td>Mixed Residential and Commercial</td>\n",
       "    </tr>\n",
       "    <tr>\n",
       "      <td>3</td>\n",
       "      <td>08</td>\n",
       "      <td>688</td>\n",
       "      <td>Public Facilities and Institutions</td>\n",
       "    </tr>\n",
       "    <tr>\n",
       "      <td>4</td>\n",
       "      <td>05</td>\n",
       "      <td>617</td>\n",
       "      <td>Commercial and Office</td>\n",
       "    </tr>\n",
       "    <tr>\n",
       "      <td>5</td>\n",
       "      <td>07</td>\n",
       "      <td>458</td>\n",
       "      <td>Transportation and Utility</td>\n",
       "    </tr>\n",
       "    <tr>\n",
       "      <td>6</td>\n",
       "      <td>11</td>\n",
       "      <td>386</td>\n",
       "      <td>Vacant Land</td>\n",
       "    </tr>\n",
       "    <tr>\n",
       "      <td>7</td>\n",
       "      <td>06</td>\n",
       "      <td>382</td>\n",
       "      <td>Industrial and Manufacturing</td>\n",
       "    </tr>\n",
       "    <tr>\n",
       "      <td>8</td>\n",
       "      <td>03</td>\n",
       "      <td>373</td>\n",
       "      <td>Multi-Family Elevator Buildings</td>\n",
       "    </tr>\n",
       "    <tr>\n",
       "      <td>9</td>\n",
       "      <td>10</td>\n",
       "      <td>224</td>\n",
       "      <td>Parking Facilities</td>\n",
       "    </tr>\n",
       "    <tr>\n",
       "      <td>10</td>\n",
       "      <td>09</td>\n",
       "      <td>151</td>\n",
       "      <td>Open Space and Outdoor Recreation</td>\n",
       "    </tr>\n",
       "  </tbody>\n",
       "</table>\n",
       "</div>"
      ],
      "text/plain": [
       "   landuse  count                                 def\n",
       "0       01  12953        One and Two Family Buildings\n",
       "1       02   3034       Multi-Family Walkup Buildings\n",
       "2       04   1226    Mixed Residential and Commercial\n",
       "3       08    688  Public Facilities and Institutions\n",
       "4       05    617               Commercial and Office\n",
       "5       07    458          Transportation and Utility\n",
       "6       11    386                         Vacant Land\n",
       "7       06    382        Industrial and Manufacturing\n",
       "8       03    373     Multi-Family Elevator Buildings\n",
       "9       10    224                  Parking Facilities\n",
       "10      09    151   Open Space and Outdoor Recreation"
      ]
     },
     "execution_count": 9,
     "metadata": {},
     "output_type": "execute_result"
    }
   ],
   "source": [
    "landuse_counts = df['landuse'].value_counts()\n",
    "landuse_dist = pd.DataFrame({'landuse':landuse_counts.index, 'count':landuse_counts.values})\n",
    "landuse_dist = pd.merge(landuse_dist, landuse_def, how='left', on=['landuse'])\n",
    "landuse_dist"
   ]
  },
  {
   "cell_type": "markdown",
   "metadata": {},
   "source": [
    "What about the building class?"
   ]
  },
  {
   "cell_type": "code",
   "execution_count": 10,
   "metadata": {},
   "outputs": [
    {
     "data": {
      "text/html": [
       "<div>\n",
       "<style scoped>\n",
       "    .dataframe tbody tr th:only-of-type {\n",
       "        vertical-align: middle;\n",
       "    }\n",
       "\n",
       "    .dataframe tbody tr th {\n",
       "        vertical-align: top;\n",
       "    }\n",
       "\n",
       "    .dataframe thead th {\n",
       "        text-align: right;\n",
       "    }\n",
       "</style>\n",
       "<table border=\"1\" class=\"dataframe\">\n",
       "  <thead>\n",
       "    <tr style=\"text-align: right;\">\n",
       "      <th></th>\n",
       "      <th>bldgclass</th>\n",
       "      <th>count</th>\n",
       "      <th>descr</th>\n",
       "    </tr>\n",
       "  </thead>\n",
       "  <tbody>\n",
       "    <tr>\n",
       "      <td>0</td>\n",
       "      <td>A</td>\n",
       "      <td>7068</td>\n",
       "      <td>One Family Dwellings</td>\n",
       "    </tr>\n",
       "    <tr>\n",
       "      <td>1</td>\n",
       "      <td>B</td>\n",
       "      <td>5877</td>\n",
       "      <td>Two Family Dwellings</td>\n",
       "    </tr>\n",
       "    <tr>\n",
       "      <td>2</td>\n",
       "      <td>C</td>\n",
       "      <td>2468</td>\n",
       "      <td>Walk-Up Apartments</td>\n",
       "    </tr>\n",
       "    <tr>\n",
       "      <td>3</td>\n",
       "      <td>R</td>\n",
       "      <td>997</td>\n",
       "      <td>Condominiums</td>\n",
       "    </tr>\n",
       "    <tr>\n",
       "      <td>4</td>\n",
       "      <td>S</td>\n",
       "      <td>641</td>\n",
       "      <td>Residence - Multiple Use</td>\n",
       "    </tr>\n",
       "    <tr>\n",
       "      <td>5</td>\n",
       "      <td>G</td>\n",
       "      <td>523</td>\n",
       "      <td>Garages and Gasoline Stations</td>\n",
       "    </tr>\n",
       "    <tr>\n",
       "      <td>6</td>\n",
       "      <td>K</td>\n",
       "      <td>483</td>\n",
       "      <td>Store Buildings (Taxpayers Included)</td>\n",
       "    </tr>\n",
       "    <tr>\n",
       "      <td>7</td>\n",
       "      <td>V</td>\n",
       "      <td>386</td>\n",
       "      <td>Vacant Land</td>\n",
       "    </tr>\n",
       "    <tr>\n",
       "      <td>8</td>\n",
       "      <td>D</td>\n",
       "      <td>373</td>\n",
       "      <td>Elevator Apartments</td>\n",
       "    </tr>\n",
       "    <tr>\n",
       "      <td>9</td>\n",
       "      <td>M</td>\n",
       "      <td>277</td>\n",
       "      <td>Churches and Synagogues</td>\n",
       "    </tr>\n",
       "    <tr>\n",
       "      <td>10</td>\n",
       "      <td>O</td>\n",
       "      <td>238</td>\n",
       "      <td>Office Buildings</td>\n",
       "    </tr>\n",
       "    <tr>\n",
       "      <td>11</td>\n",
       "      <td>E</td>\n",
       "      <td>237</td>\n",
       "      <td>Warehouses</td>\n",
       "    </tr>\n",
       "    <tr>\n",
       "      <td>12</td>\n",
       "      <td>W</td>\n",
       "      <td>213</td>\n",
       "      <td>Educational Structures</td>\n",
       "    </tr>\n",
       "    <tr>\n",
       "      <td>13</td>\n",
       "      <td>F</td>\n",
       "      <td>143</td>\n",
       "      <td>Factory and Industrial Buildings</td>\n",
       "    </tr>\n",
       "    <tr>\n",
       "      <td>14</td>\n",
       "      <td>U</td>\n",
       "      <td>137</td>\n",
       "      <td>Utility Bureau Properties</td>\n",
       "    </tr>\n",
       "    <tr>\n",
       "      <td>15</td>\n",
       "      <td>Q</td>\n",
       "      <td>121</td>\n",
       "      <td>Outdoor Recreation Facilities</td>\n",
       "    </tr>\n",
       "    <tr>\n",
       "      <td>16</td>\n",
       "      <td>Z</td>\n",
       "      <td>117</td>\n",
       "      <td>Miscellaneous</td>\n",
       "    </tr>\n",
       "    <tr>\n",
       "      <td>17</td>\n",
       "      <td>I</td>\n",
       "      <td>88</td>\n",
       "      <td>Hospitals and Health</td>\n",
       "    </tr>\n",
       "    <tr>\n",
       "      <td>18</td>\n",
       "      <td>Y</td>\n",
       "      <td>58</td>\n",
       "      <td>Selected Government Installations</td>\n",
       "    </tr>\n",
       "    <tr>\n",
       "      <td>19</td>\n",
       "      <td>H</td>\n",
       "      <td>47</td>\n",
       "      <td>Hotels</td>\n",
       "    </tr>\n",
       "    <tr>\n",
       "      <td>20</td>\n",
       "      <td>P</td>\n",
       "      <td>46</td>\n",
       "      <td>Places of Public Assembly and Cultural</td>\n",
       "    </tr>\n",
       "    <tr>\n",
       "      <td>21</td>\n",
       "      <td>T</td>\n",
       "      <td>31</td>\n",
       "      <td>Transportation Facilities</td>\n",
       "    </tr>\n",
       "    <tr>\n",
       "      <td>22</td>\n",
       "      <td>N</td>\n",
       "      <td>27</td>\n",
       "      <td>Asylums and Homes</td>\n",
       "    </tr>\n",
       "    <tr>\n",
       "      <td>23</td>\n",
       "      <td>J</td>\n",
       "      <td>6</td>\n",
       "      <td>Theatres</td>\n",
       "    </tr>\n",
       "  </tbody>\n",
       "</table>\n",
       "</div>"
      ],
      "text/plain": [
       "   bldgclass  count                                   descr\n",
       "0          A   7068                    One Family Dwellings\n",
       "1          B   5877                    Two Family Dwellings\n",
       "2          C   2468                      Walk-Up Apartments\n",
       "3          R    997                            Condominiums\n",
       "4          S    641                Residence - Multiple Use\n",
       "5          G    523           Garages and Gasoline Stations\n",
       "6          K    483    Store Buildings (Taxpayers Included)\n",
       "7          V    386                             Vacant Land\n",
       "8          D    373                     Elevator Apartments\n",
       "9          M    277                 Churches and Synagogues\n",
       "10         O    238                        Office Buildings\n",
       "11         E    237                              Warehouses\n",
       "12         W    213                  Educational Structures\n",
       "13         F    143        Factory and Industrial Buildings\n",
       "14         U    137               Utility Bureau Properties\n",
       "15         Q    121           Outdoor Recreation Facilities\n",
       "16         Z    117                           Miscellaneous\n",
       "17         I     88                    Hospitals and Health\n",
       "18         Y     58       Selected Government Installations\n",
       "19         H     47                                  Hotels\n",
       "20         P     46  Places of Public Assembly and Cultural\n",
       "21         T     31               Transportation Facilities\n",
       "22         N     27                       Asylums and Homes\n",
       "23         J      6                                Theatres"
      ]
     },
     "execution_count": 10,
     "metadata": {},
     "output_type": "execute_result"
    }
   ],
   "source": [
    "bldgclass_counts = df['bldgclass'].str.slice(0, 1).value_counts()\n",
    "bldgclass_dist = pd.DataFrame({'bldgclass':bldgclass_counts.index, 'count':bldgclass_counts.values})\n",
    "bldgclass_dist = pd.merge(bldgclass_dist, bldgclass_def, how='left', on=['bldgclass'])\n",
    "bldgclass_dist"
   ]
  },
  {
   "cell_type": "code",
   "execution_count": 11,
   "metadata": {},
   "outputs": [],
   "source": [
    "df.to_csv('../output/Building_Count_Discrepancies.csv')"
   ]
  },
  {
   "cell_type": "markdown",
   "metadata": {},
   "source": [
    "Distribution by borough"
   ]
  },
  {
   "cell_type": "code",
   "execution_count": 12,
   "metadata": {},
   "outputs": [
    {
     "data": {
      "text/html": [
       "<div>\n",
       "<style scoped>\n",
       "    .dataframe tbody tr th:only-of-type {\n",
       "        vertical-align: middle;\n",
       "    }\n",
       "\n",
       "    .dataframe tbody tr th {\n",
       "        vertical-align: top;\n",
       "    }\n",
       "\n",
       "    .dataframe thead th {\n",
       "        text-align: right;\n",
       "    }\n",
       "</style>\n",
       "<table border=\"1\" class=\"dataframe\">\n",
       "  <thead>\n",
       "    <tr style=\"text-align: right;\">\n",
       "      <th></th>\n",
       "      <th>borough</th>\n",
       "      <th>count</th>\n",
       "    </tr>\n",
       "  </thead>\n",
       "  <tbody>\n",
       "    <tr>\n",
       "      <td>0</td>\n",
       "      <td>QN</td>\n",
       "      <td>7593</td>\n",
       "    </tr>\n",
       "    <tr>\n",
       "      <td>1</td>\n",
       "      <td>BK</td>\n",
       "      <td>6268</td>\n",
       "    </tr>\n",
       "    <tr>\n",
       "      <td>2</td>\n",
       "      <td>SI</td>\n",
       "      <td>3908</td>\n",
       "    </tr>\n",
       "    <tr>\n",
       "      <td>3</td>\n",
       "      <td>BX</td>\n",
       "      <td>2170</td>\n",
       "    </tr>\n",
       "    <tr>\n",
       "      <td>4</td>\n",
       "      <td>MN</td>\n",
       "      <td>734</td>\n",
       "    </tr>\n",
       "  </tbody>\n",
       "</table>\n",
       "</div>"
      ],
      "text/plain": [
       "  borough  count\n",
       "0      QN   7593\n",
       "1      BK   6268\n",
       "2      SI   3908\n",
       "3      BX   2170\n",
       "4      MN    734"
      ]
     },
     "execution_count": 12,
     "metadata": {},
     "output_type": "execute_result"
    }
   ],
   "source": [
    "boro_counts = df['borough'].value_counts()\n",
    "boro_dist = pd.DataFrame({'borough':boro_counts.index, 'count':boro_counts.values})\n",
    "boro_dist"
   ]
  },
  {
   "cell_type": "code",
   "execution_count": 13,
   "metadata": {},
   "outputs": [
    {
     "data": {
      "image/png": "[encoded data removed]",
      "text/plain": [
       "<Figure size 432x288 with 1 Axes>"
      ]
     },
     "metadata": {
      "needs_background": "light"
     },
     "output_type": "display_data"
    }
   ],
   "source": [
    "ax = boro_dist.plot.bar(x='borough', y='count', rot=0)"
   ]
  },
  {
   "cell_type": "code",
   "execution_count": 19,
   "metadata": {},
   "outputs": [
    {
     "data": {
      "text/html": [
       "<div>\n",
       "<style scoped>\n",
       "    .dataframe tbody tr th:only-of-type {\n",
       "        vertical-align: middle;\n",
       "    }\n",
       "\n",
       "    .dataframe tbody tr th {\n",
       "        vertical-align: top;\n",
       "    }\n",
       "\n",
       "    .dataframe thead th {\n",
       "        text-align: right;\n",
       "    }\n",
       "</style>\n",
       "<table border=\"1\" class=\"dataframe\">\n",
       "  <thead>\n",
       "    <tr style=\"text-align: right;\">\n",
       "      <th></th>\n",
       "      <th>difference</th>\n",
       "      <th>count</th>\n",
       "    </tr>\n",
       "  </thead>\n",
       "  <tbody>\n",
       "    <tr>\n",
       "      <td>0</td>\n",
       "      <td>1</td>\n",
       "      <td>15714</td>\n",
       "    </tr>\n",
       "    <tr>\n",
       "      <td>1</td>\n",
       "      <td>-1</td>\n",
       "      <td>3346</td>\n",
       "    </tr>\n",
       "    <tr>\n",
       "      <td>2</td>\n",
       "      <td>2</td>\n",
       "      <td>561</td>\n",
       "    </tr>\n",
       "    <tr>\n",
       "      <td>3</td>\n",
       "      <td>-2</td>\n",
       "      <td>237</td>\n",
       "    </tr>\n",
       "    <tr>\n",
       "      <td>4</td>\n",
       "      <td>3</td>\n",
       "      <td>151</td>\n",
       "    </tr>\n",
       "    <tr>\n",
       "      <td>...</td>\n",
       "      <td>...</td>\n",
       "      <td>...</td>\n",
       "    </tr>\n",
       "    <tr>\n",
       "      <td>90</td>\n",
       "      <td>-128</td>\n",
       "      <td>1</td>\n",
       "    </tr>\n",
       "    <tr>\n",
       "      <td>91</td>\n",
       "      <td>-80</td>\n",
       "      <td>1</td>\n",
       "    </tr>\n",
       "    <tr>\n",
       "      <td>92</td>\n",
       "      <td>-48</td>\n",
       "      <td>1</td>\n",
       "    </tr>\n",
       "    <tr>\n",
       "      <td>94</td>\n",
       "      <td>-196</td>\n",
       "      <td>1</td>\n",
       "    </tr>\n",
       "    <tr>\n",
       "      <td>121</td>\n",
       "      <td>111</td>\n",
       "      <td>1</td>\n",
       "    </tr>\n",
       "  </tbody>\n",
       "</table>\n",
       "<p>122 rows × 2 columns</p>\n",
       "</div>"
      ],
      "text/plain": [
       "     difference  count\n",
       "0             1  15714\n",
       "1            -1   3346\n",
       "2             2    561\n",
       "3            -2    237\n",
       "4             3    151\n",
       "..          ...    ...\n",
       "90         -128      1\n",
       "91          -80      1\n",
       "92          -48      1\n",
       "94         -196      1\n",
       "121         111      1\n",
       "\n",
       "[122 rows x 2 columns]"
      ]
     },
     "execution_count": 19,
     "metadata": {},
     "output_type": "execute_result"
    }
   ],
   "source": [
    "difference_counts = df['difference'].value_counts()\n",
    "difference_dist = pd.DataFrame({'difference':difference_counts.index, 'count':difference_counts.values})\n",
    "difference_dist.sort_values(by='count', ascending=False, inplace=True)\n",
    "difference_dist"
   ]
  },
  {
   "cell_type": "code",
   "execution_count": 26,
   "metadata": {},
   "outputs": [
    {
     "data": {
      "text/plain": [
       "count    122.000000\n",
       "mean     -36.245902\n",
       "std       64.931281\n",
       "min     -226.000000\n",
       "25%      -71.750000\n",
       "50%      -33.500000\n",
       "75%       -3.250000\n",
       "max      277.000000\n",
       "Name: difference, dtype: float64"
      ]
     },
     "execution_count": 26,
     "metadata": {},
     "output_type": "execute_result"
    }
   ],
   "source": [
    "difference_dist['difference'].describe()"
   ]
  },
  {
   "cell_type": "code",
   "execution_count": 29,
   "metadata": {},
   "outputs": [
    {
     "data": {
      "text/plain": [
       "Text(0, 0.5, 'Frequency')"
      ]
     },
     "execution_count": 29,
     "metadata": {},
     "output_type": "execute_result"
    },
    {
     "data": {
      "image/png": "[encoded data removed]",
      "text/plain": [
       "<Figure size 432x288 with 1 Axes>"
      ]
     },
     "metadata": {
      "needs_background": "light"
     },
     "output_type": "display_data"
    }
   ],
   "source": [
    "bins = difference_dist.shape[0]\n",
    "difference_dist['difference'].hist(bins=bins, grid=False, xlabelsize=12, ylabelsize=12)\n",
    "plt.xlabel(\"Difference\", fontsize=15)\n",
    "plt.ylabel(\"Frequency\",fontsize=15)"
   ]
  },
  {
   "cell_type": "code",
   "execution_count": 32,
   "metadata": {},
   "outputs": [
    {
     "data": {
      "text/plain": [
       "<matplotlib.axes._subplots.AxesSubplot at 0x12cef4890>"
      ]
     },
     "execution_count": 32,
     "metadata": {},
     "output_type": "execute_result"
    },
    {
     "data": {
      "image/png": "[encoded data removed]",
      "text/plain": [
       "<Figure size 432x288 with 1 Axes>"
      ]
     },
     "metadata": {
      "needs_background": "light"
     },
     "output_type": "display_data"
    }
   ],
   "source": [
    "sns.distplot(difference_dist['difference'])"
   ]
  },
  {
   "cell_type": "code",
   "execution_count": null,
   "metadata": {},
   "outputs": [],
   "source": []
  }
 ],
 "metadata": {
  "kernelspec": {
   "display_name": "Python 3",
   "language": "python",
   "name": "python3"
  },
  "language_info": {
   "codemirror_mode": {
    "name": "ipython",
    "version": 3
   },
   "file_extension": ".py",
   "mimetype": "text/x-python",
   "name": "python",
   "nbconvert_exporter": "python",
   "pygments_lexer": "ipython3",
   "version": "3.7.5"
  }
 },
 "nbformat": 4,
 "nbformat_minor": 2
}
