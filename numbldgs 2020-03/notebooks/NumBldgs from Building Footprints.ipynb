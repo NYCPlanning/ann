{
 "cells": [
  {
   "cell_type": "code",
   "execution_count": 1,
   "metadata": {},
   "outputs": [],
   "source": [
    "import numpy as np\n",
    "import pandas as pd\n",
    "from sqlalchemy import create_engine\n",
    "import os"
   ]
  },
  {
   "cell_type": "code",
   "execution_count": 3,
   "metadata": {},
   "outputs": [
    {
     "name": "stdout",
     "output_type": "stream",
     "text": [
      "The dotenv extension is already loaded. To reload it, use:\n",
      "  %reload_ext dotenv\n"
     ]
    }
   ],
   "source": [
    "%load_ext dotenv\n",
    "%dotenv ../.env"
   ]
  },
  {
   "cell_type": "code",
   "execution_count": 4,
   "metadata": {},
   "outputs": [],
   "source": [
    "cnx = create_engine(os.getenv('EDMDB'))"
   ]
  },
  {
   "cell_type": "markdown",
   "metadata": {},
   "source": [
    "#### PLUTO and building footprints comparison. Create supporting dataframes"
   ]
  },
  {
   "cell_type": "markdown",
   "metadata": {},
   "source": [
    "Create dataframes of bldgclass and landuse definitions"
   ]
  },
  {
   "cell_type": "code",
   "execution_count": 25,
   "metadata": {},
   "outputs": [
    {
     "data": {
      "text/html": [
       "<div>\n",
       "<style scoped>\n",
       "    .dataframe tbody tr th:only-of-type {\n",
       "        vertical-align: middle;\n",
       "    }\n",
       "\n",
       "    .dataframe tbody tr th {\n",
       "        vertical-align: top;\n",
       "    }\n",
       "\n",
       "    .dataframe thead th {\n",
       "        text-align: right;\n",
       "    }\n",
       "</style>\n",
       "<table border=\"1\" class=\"dataframe\">\n",
       "  <thead>\n",
       "    <tr style=\"text-align: right;\">\n",
       "      <th></th>\n",
       "      <th>landuse</th>\n",
       "      <th>def</th>\n",
       "    </tr>\n",
       "  </thead>\n",
       "  <tbody>\n",
       "    <tr>\n",
       "      <td>0</td>\n",
       "      <td>01</td>\n",
       "      <td>One and Two Family Buildings</td>\n",
       "    </tr>\n",
       "    <tr>\n",
       "      <td>1</td>\n",
       "      <td>02</td>\n",
       "      <td>Multi-Family Walkup Buildings</td>\n",
       "    </tr>\n",
       "    <tr>\n",
       "      <td>2</td>\n",
       "      <td>03</td>\n",
       "      <td>Multi-Family Elevator Buildings</td>\n",
       "    </tr>\n",
       "    <tr>\n",
       "      <td>3</td>\n",
       "      <td>04</td>\n",
       "      <td>Mixed Residential and Commercial</td>\n",
       "    </tr>\n",
       "    <tr>\n",
       "      <td>4</td>\n",
       "      <td>05</td>\n",
       "      <td>Commercial and Office</td>\n",
       "    </tr>\n",
       "    <tr>\n",
       "      <td>5</td>\n",
       "      <td>06</td>\n",
       "      <td>Industrial and Manufacturing</td>\n",
       "    </tr>\n",
       "    <tr>\n",
       "      <td>6</td>\n",
       "      <td>07</td>\n",
       "      <td>Transportation and Utility</td>\n",
       "    </tr>\n",
       "    <tr>\n",
       "      <td>7</td>\n",
       "      <td>08</td>\n",
       "      <td>Public Facilities and Institutions</td>\n",
       "    </tr>\n",
       "    <tr>\n",
       "      <td>8</td>\n",
       "      <td>09</td>\n",
       "      <td>Open Space and Outdoor Recreation</td>\n",
       "    </tr>\n",
       "    <tr>\n",
       "      <td>9</td>\n",
       "      <td>10</td>\n",
       "      <td>Parking Facilities</td>\n",
       "    </tr>\n",
       "    <tr>\n",
       "      <td>10</td>\n",
       "      <td>11</td>\n",
       "      <td>Vacant Land</td>\n",
       "    </tr>\n",
       "  </tbody>\n",
       "</table>\n",
       "</div>"
      ],
      "text/plain": [
       "   landuse                                 def\n",
       "0       01        One and Two Family Buildings\n",
       "1       02       Multi-Family Walkup Buildings\n",
       "2       03     Multi-Family Elevator Buildings\n",
       "3       04    Mixed Residential and Commercial\n",
       "4       05               Commercial and Office\n",
       "5       06        Industrial and Manufacturing\n",
       "6       07          Transportation and Utility\n",
       "7       08  Public Facilities and Institutions\n",
       "8       09   Open Space and Outdoor Recreation\n",
       "9       10                  Parking Facilities\n",
       "10      11                         Vacant Land"
      ]
     },
     "execution_count": 25,
     "metadata": {},
     "output_type": "execute_result"
    }
   ],
   "source": [
    "bldgclass_def = pd.read_sql_query('''SELECT * FROM dcp.bldgclass_definitions;''', cnx)\n",
    "landuse_def = pd.read_sql_query('''SELECT * FROM dcp.landuse_definitions;''', cnx)\n",
    "landuse_def"
   ]
  },
  {
   "cell_type": "markdown",
   "metadata": {},
   "source": [
    "Find lots where building footprints does not have the same number of buildings as PLUTO."
   ]
  },
  {
   "cell_type": "code",
   "execution_count": 35,
   "metadata": {},
   "outputs": [
    {
     "data": {
      "text/html": [
       "<div>\n",
       "<style scoped>\n",
       "    .dataframe tbody tr th:only-of-type {\n",
       "        vertical-align: middle;\n",
       "    }\n",
       "\n",
       "    .dataframe tbody tr th {\n",
       "        vertical-align: top;\n",
       "    }\n",
       "\n",
       "    .dataframe thead th {\n",
       "        text-align: right;\n",
       "    }\n",
       "</style>\n",
       "<table border=\"1\" class=\"dataframe\">\n",
       "  <thead>\n",
       "    <tr style=\"text-align: right;\">\n",
       "      <th></th>\n",
       "      <th>bbl</th>\n",
       "      <th>borough</th>\n",
       "      <th>address</th>\n",
       "      <th>landuse</th>\n",
       "      <th>bldgclass</th>\n",
       "      <th>ownername</th>\n",
       "      <th>numbldgs</th>\n",
       "      <th>bldg_footprints_count</th>\n",
       "      <th>difference</th>\n",
       "    </tr>\n",
       "  </thead>\n",
       "  <tbody>\n",
       "    <tr>\n",
       "      <td>0</td>\n",
       "      <td>4163500400</td>\n",
       "      <td>QN</td>\n",
       "      <td>None</td>\n",
       "      <td>01</td>\n",
       "      <td>A8</td>\n",
       "      <td>BREEZY POINT COOPERATIVE, INC</td>\n",
       "      <td>1861</td>\n",
       "      <td>59</td>\n",
       "      <td>1802</td>\n",
       "    </tr>\n",
       "    <tr>\n",
       "      <td>1</td>\n",
       "      <td>4163500300</td>\n",
       "      <td>QN</td>\n",
       "      <td>None</td>\n",
       "      <td>01</td>\n",
       "      <td>A8</td>\n",
       "      <td>BREEZY POINT COOPERA</td>\n",
       "      <td>795</td>\n",
       "      <td>21</td>\n",
       "      <td>774</td>\n",
       "    </tr>\n",
       "    <tr>\n",
       "      <td>2</td>\n",
       "      <td>4163400050</td>\n",
       "      <td>QN</td>\n",
       "      <td>1 ROCKAWAY POINT BLVD</td>\n",
       "      <td>01</td>\n",
       "      <td>A8</td>\n",
       "      <td>BREEZY POINT CO-OP</td>\n",
       "      <td>515</td>\n",
       "      <td>17</td>\n",
       "      <td>498</td>\n",
       "    </tr>\n",
       "    <tr>\n",
       "      <td>3</td>\n",
       "      <td>4142600001</td>\n",
       "      <td>QN</td>\n",
       "      <td>154-68 BROOKVILLE BOULEVARD</td>\n",
       "      <td>07</td>\n",
       "      <td>T1</td>\n",
       "      <td>PORT AUTHORITY OF NY AND NJ</td>\n",
       "      <td>422</td>\n",
       "      <td>5</td>\n",
       "      <td>417</td>\n",
       "    </tr>\n",
       "    <tr>\n",
       "      <td>4</td>\n",
       "      <td>2051410120</td>\n",
       "      <td>BX</td>\n",
       "      <td>2049 BARTOW AVENUE</td>\n",
       "      <td>03</td>\n",
       "      <td>D4</td>\n",
       "      <td>RIVERBAY CORPORATION</td>\n",
       "      <td>251</td>\n",
       "      <td>3</td>\n",
       "      <td>248</td>\n",
       "    </tr>\n",
       "  </tbody>\n",
       "</table>\n",
       "</div>"
      ],
      "text/plain": [
       "          bbl borough                      address landuse bldgclass  \\\n",
       "0  4163500400      QN                         None      01        A8   \n",
       "1  4163500300      QN                         None      01        A8   \n",
       "2  4163400050      QN        1 ROCKAWAY POINT BLVD      01        A8   \n",
       "3  4142600001      QN  154-68 BROOKVILLE BOULEVARD      07        T1   \n",
       "4  2051410120      BX           2049 BARTOW AVENUE      03        D4   \n",
       "\n",
       "                       ownername  numbldgs  bldg_footprints_count  difference  \n",
       "0  BREEZY POINT COOPERATIVE, INC      1861                     59        1802  \n",
       "1           BREEZY POINT COOPERA       795                     21         774  \n",
       "2             BREEZY POINT CO-OP       515                     17         498  \n",
       "3    PORT AUTHORITY OF NY AND NJ       422                      5         417  \n",
       "4           RIVERBAY CORPORATION       251                      3         248  "
      ]
     },
     "execution_count": 35,
     "metadata": {},
     "output_type": "execute_result"
    }
   ],
   "source": [
    "df = pd.read_sql_query('''WITH footprints_count_by_bbl AS (\n",
    "\tSELECT mpluto_bbl,\n",
    "\tCOUNT(*) AS bldg_footprints_count\n",
    "\tFROM dcp.bldg_footprints\n",
    "\tGROUP BY mpluto_bbl\n",
    ")\n",
    "SELECT CAST(bbl AS TEXT),\n",
    "borough,\n",
    "address, \n",
    "landuse,\n",
    "bldgclass,\n",
    "ownername,\n",
    "numbldgs,\n",
    "bldg_footprints_count, \n",
    "numbldgs - bldg_footprints_count AS difference\n",
    "FROM dcp.pluto201, footprints_count_by_bbl\n",
    "WHERE bbl = CAST(mpluto_bbl AS NUMERIC)\n",
    "AND numbldgs <> bldg_footprints_count\n",
    "ORDER BY difference DESC;''', cnx)\n",
    "df.head()"
   ]
  },
  {
   "cell_type": "markdown",
   "metadata": {},
   "source": [
    "#### Questions"
   ]
  },
  {
   "cell_type": "markdown",
   "metadata": {},
   "source": [
    "How many lots have differences in counts?"
   ]
  },
  {
   "cell_type": "code",
   "execution_count": 8,
   "metadata": {},
   "outputs": [
    {
     "data": {
      "text/plain": [
       "21008"
      ]
     },
     "execution_count": 8,
     "metadata": {},
     "output_type": "execute_result"
    }
   ],
   "source": [
    "df.shape[0]"
   ]
  },
  {
   "cell_type": "markdown",
   "metadata": {},
   "source": [
    "How often does PLUTO have greater numbers?"
   ]
  },
  {
   "cell_type": "code",
   "execution_count": 12,
   "metadata": {},
   "outputs": [
    {
     "data": {
      "text/plain": [
       "20703"
      ]
     },
     "execution_count": 12,
     "metadata": {},
     "output_type": "execute_result"
    }
   ],
   "source": [
    "more_bldgs_on_pluto = df[(df['numbldgs'] > df['bldg_footprints_count'])]\n",
    "more_bldgs_on_pluto.shape[0]"
   ]
  },
  {
   "cell_type": "markdown",
   "metadata": {},
   "source": [
    "How often does building footprints have greater numbers?"
   ]
  },
  {
   "cell_type": "code",
   "execution_count": 13,
   "metadata": {},
   "outputs": [
    {
     "data": {
      "text/plain": [
       "305"
      ]
     },
     "execution_count": 13,
     "metadata": {},
     "output_type": "execute_result"
    }
   ],
   "source": [
    "more_bldgs_on_footprints = df[(df['numbldgs'] < df['bldg_footprints_count'])]\n",
    "more_bldgs_on_footprints.shape[0]"
   ]
  },
  {
   "cell_type": "markdown",
   "metadata": {},
   "source": [
    "Does the landuse code tell us anything interesting?"
   ]
  },
  {
   "cell_type": "code",
   "execution_count": 32,
   "metadata": {},
   "outputs": [
    {
     "data": {
      "text/html": [
       "<div>\n",
       "<style scoped>\n",
       "    .dataframe tbody tr th:only-of-type {\n",
       "        vertical-align: middle;\n",
       "    }\n",
       "\n",
       "    .dataframe tbody tr th {\n",
       "        vertical-align: top;\n",
       "    }\n",
       "\n",
       "    .dataframe thead th {\n",
       "        text-align: right;\n",
       "    }\n",
       "</style>\n",
       "<table border=\"1\" class=\"dataframe\">\n",
       "  <thead>\n",
       "    <tr style=\"text-align: right;\">\n",
       "      <th></th>\n",
       "      <th>landuse</th>\n",
       "      <th>count</th>\n",
       "      <th>def</th>\n",
       "    </tr>\n",
       "  </thead>\n",
       "  <tbody>\n",
       "    <tr>\n",
       "      <td>0</td>\n",
       "      <td>01</td>\n",
       "      <td>16717</td>\n",
       "      <td>One and Two Family Buildings</td>\n",
       "    </tr>\n",
       "    <tr>\n",
       "      <td>1</td>\n",
       "      <td>02</td>\n",
       "      <td>2374</td>\n",
       "      <td>Multi-Family Walkup Buildings</td>\n",
       "    </tr>\n",
       "    <tr>\n",
       "      <td>2</td>\n",
       "      <td>04</td>\n",
       "      <td>778</td>\n",
       "      <td>Mixed Residential and Commercial</td>\n",
       "    </tr>\n",
       "    <tr>\n",
       "      <td>3</td>\n",
       "      <td>08</td>\n",
       "      <td>299</td>\n",
       "      <td>Public Facilities and Institutions</td>\n",
       "    </tr>\n",
       "    <tr>\n",
       "      <td>4</td>\n",
       "      <td>03</td>\n",
       "      <td>222</td>\n",
       "      <td>Multi-Family Elevator Buildings</td>\n",
       "    </tr>\n",
       "    <tr>\n",
       "      <td>5</td>\n",
       "      <td>05</td>\n",
       "      <td>186</td>\n",
       "      <td>Commercial and Office</td>\n",
       "    </tr>\n",
       "    <tr>\n",
       "      <td>6</td>\n",
       "      <td>06</td>\n",
       "      <td>134</td>\n",
       "      <td>Industrial and Manufacturing</td>\n",
       "    </tr>\n",
       "    <tr>\n",
       "      <td>7</td>\n",
       "      <td>07</td>\n",
       "      <td>124</td>\n",
       "      <td>Transportation and Utility</td>\n",
       "    </tr>\n",
       "    <tr>\n",
       "      <td>8</td>\n",
       "      <td>11</td>\n",
       "      <td>60</td>\n",
       "      <td>Vacant Land</td>\n",
       "    </tr>\n",
       "    <tr>\n",
       "      <td>9</td>\n",
       "      <td>09</td>\n",
       "      <td>51</td>\n",
       "      <td>Open Space and Outdoor Recreation</td>\n",
       "    </tr>\n",
       "    <tr>\n",
       "      <td>10</td>\n",
       "      <td>10</td>\n",
       "      <td>39</td>\n",
       "      <td>Parking Facilities</td>\n",
       "    </tr>\n",
       "  </tbody>\n",
       "</table>\n",
       "</div>"
      ],
      "text/plain": [
       "   landuse  count                                 def\n",
       "0       01  16717        One and Two Family Buildings\n",
       "1       02   2374       Multi-Family Walkup Buildings\n",
       "2       04    778    Mixed Residential and Commercial\n",
       "3       08    299  Public Facilities and Institutions\n",
       "4       03    222     Multi-Family Elevator Buildings\n",
       "5       05    186               Commercial and Office\n",
       "6       06    134        Industrial and Manufacturing\n",
       "7       07    124          Transportation and Utility\n",
       "8       11     60                         Vacant Land\n",
       "9       09     51   Open Space and Outdoor Recreation\n",
       "10      10     39                  Parking Facilities"
      ]
     },
     "execution_count": 32,
     "metadata": {},
     "output_type": "execute_result"
    }
   ],
   "source": [
    "landuse_counts = df['landuse'].value_counts()\n",
    "landuse_dist = pd.DataFrame({'landuse':landuse_counts.index, 'count':landuse_counts.values})\n",
    "landuse_dist = pd.merge(landuse_dist, landuse_def, how='left', on=['landuse'])\n",
    "landuse_dist"
   ]
  },
  {
   "cell_type": "markdown",
   "metadata": {},
   "source": [
    "What about the building class?"
   ]
  },
  {
   "cell_type": "code",
   "execution_count": 34,
   "metadata": {},
   "outputs": [
    {
     "data": {
      "text/html": [
       "<div>\n",
       "<style scoped>\n",
       "    .dataframe tbody tr th:only-of-type {\n",
       "        vertical-align: middle;\n",
       "    }\n",
       "\n",
       "    .dataframe tbody tr th {\n",
       "        vertical-align: top;\n",
       "    }\n",
       "\n",
       "    .dataframe thead th {\n",
       "        text-align: right;\n",
       "    }\n",
       "</style>\n",
       "<table border=\"1\" class=\"dataframe\">\n",
       "  <thead>\n",
       "    <tr style=\"text-align: right;\">\n",
       "      <th></th>\n",
       "      <th>bldgclass</th>\n",
       "      <th>count</th>\n",
       "      <th>descr</th>\n",
       "    </tr>\n",
       "  </thead>\n",
       "  <tbody>\n",
       "    <tr>\n",
       "      <td>0</td>\n",
       "      <td>A</td>\n",
       "      <td>10240</td>\n",
       "      <td>One Family Dwellings</td>\n",
       "    </tr>\n",
       "    <tr>\n",
       "      <td>1</td>\n",
       "      <td>B</td>\n",
       "      <td>6475</td>\n",
       "      <td>Two Family Dwellings</td>\n",
       "    </tr>\n",
       "    <tr>\n",
       "      <td>2</td>\n",
       "      <td>C</td>\n",
       "      <td>2139</td>\n",
       "      <td>Walk-Up Apartments</td>\n",
       "    </tr>\n",
       "    <tr>\n",
       "      <td>3</td>\n",
       "      <td>R</td>\n",
       "      <td>446</td>\n",
       "      <td>Condominiums</td>\n",
       "    </tr>\n",
       "    <tr>\n",
       "      <td>4</td>\n",
       "      <td>S</td>\n",
       "      <td>434</td>\n",
       "      <td>Residence - Multiple Use</td>\n",
       "    </tr>\n",
       "    <tr>\n",
       "      <td>5</td>\n",
       "      <td>D</td>\n",
       "      <td>242</td>\n",
       "      <td>Elevator Apartments</td>\n",
       "    </tr>\n",
       "    <tr>\n",
       "      <td>6</td>\n",
       "      <td>K</td>\n",
       "      <td>202</td>\n",
       "      <td>Store Buildings (Taxpayers Included)</td>\n",
       "    </tr>\n",
       "    <tr>\n",
       "      <td>7</td>\n",
       "      <td>M</td>\n",
       "      <td>124</td>\n",
       "      <td>Churches and Synagogues</td>\n",
       "    </tr>\n",
       "    <tr>\n",
       "      <td>8</td>\n",
       "      <td>G</td>\n",
       "      <td>100</td>\n",
       "      <td>Garages and Gasoline Stations</td>\n",
       "    </tr>\n",
       "    <tr>\n",
       "      <td>9</td>\n",
       "      <td>W</td>\n",
       "      <td>88</td>\n",
       "      <td>Educational Structures</td>\n",
       "    </tr>\n",
       "    <tr>\n",
       "      <td>10</td>\n",
       "      <td>E</td>\n",
       "      <td>79</td>\n",
       "      <td>Warehouses</td>\n",
       "    </tr>\n",
       "    <tr>\n",
       "      <td>11</td>\n",
       "      <td>O</td>\n",
       "      <td>79</td>\n",
       "      <td>Office Buildings</td>\n",
       "    </tr>\n",
       "    <tr>\n",
       "      <td>12</td>\n",
       "      <td>V</td>\n",
       "      <td>60</td>\n",
       "      <td>Vacant Land</td>\n",
       "    </tr>\n",
       "    <tr>\n",
       "      <td>13</td>\n",
       "      <td>F</td>\n",
       "      <td>55</td>\n",
       "      <td>Factory and Industrial Buildings</td>\n",
       "    </tr>\n",
       "    <tr>\n",
       "      <td>14</td>\n",
       "      <td>U</td>\n",
       "      <td>54</td>\n",
       "      <td>Utility Bureau Properties</td>\n",
       "    </tr>\n",
       "    <tr>\n",
       "      <td>15</td>\n",
       "      <td>Q</td>\n",
       "      <td>42</td>\n",
       "      <td>Outdoor Recreation Facilities</td>\n",
       "    </tr>\n",
       "    <tr>\n",
       "      <td>16</td>\n",
       "      <td>Z</td>\n",
       "      <td>34</td>\n",
       "      <td>Miscellaneous</td>\n",
       "    </tr>\n",
       "    <tr>\n",
       "      <td>17</td>\n",
       "      <td>I</td>\n",
       "      <td>28</td>\n",
       "      <td>Hospitals and Health</td>\n",
       "    </tr>\n",
       "    <tr>\n",
       "      <td>18</td>\n",
       "      <td>Y</td>\n",
       "      <td>25</td>\n",
       "      <td>Selected Government Installations</td>\n",
       "    </tr>\n",
       "    <tr>\n",
       "      <td>19</td>\n",
       "      <td>N</td>\n",
       "      <td>18</td>\n",
       "      <td>Asylums and Homes</td>\n",
       "    </tr>\n",
       "    <tr>\n",
       "      <td>20</td>\n",
       "      <td>P</td>\n",
       "      <td>18</td>\n",
       "      <td>Places of Public Assembly and Cultural</td>\n",
       "    </tr>\n",
       "    <tr>\n",
       "      <td>21</td>\n",
       "      <td>H</td>\n",
       "      <td>12</td>\n",
       "      <td>Hotels</td>\n",
       "    </tr>\n",
       "    <tr>\n",
       "      <td>22</td>\n",
       "      <td>T</td>\n",
       "      <td>9</td>\n",
       "      <td>Transportation Facilities</td>\n",
       "    </tr>\n",
       "    <tr>\n",
       "      <td>23</td>\n",
       "      <td>J</td>\n",
       "      <td>2</td>\n",
       "      <td>Theatres</td>\n",
       "    </tr>\n",
       "  </tbody>\n",
       "</table>\n",
       "</div>"
      ],
      "text/plain": [
       "   bldgclass  count                                   descr\n",
       "0          A  10240                    One Family Dwellings\n",
       "1          B   6475                    Two Family Dwellings\n",
       "2          C   2139                      Walk-Up Apartments\n",
       "3          R    446                            Condominiums\n",
       "4          S    434                Residence - Multiple Use\n",
       "5          D    242                     Elevator Apartments\n",
       "6          K    202    Store Buildings (Taxpayers Included)\n",
       "7          M    124                 Churches and Synagogues\n",
       "8          G    100           Garages and Gasoline Stations\n",
       "9          W     88                  Educational Structures\n",
       "10         E     79                              Warehouses\n",
       "11         O     79                        Office Buildings\n",
       "12         V     60                             Vacant Land\n",
       "13         F     55        Factory and Industrial Buildings\n",
       "14         U     54               Utility Bureau Properties\n",
       "15         Q     42           Outdoor Recreation Facilities\n",
       "16         Z     34                           Miscellaneous\n",
       "17         I     28                    Hospitals and Health\n",
       "18         Y     25       Selected Government Installations\n",
       "19         N     18                       Asylums and Homes\n",
       "20         P     18  Places of Public Assembly and Cultural\n",
       "21         H     12                                  Hotels\n",
       "22         T      9               Transportation Facilities\n",
       "23         J      2                                Theatres"
      ]
     },
     "execution_count": 34,
     "metadata": {},
     "output_type": "execute_result"
    }
   ],
   "source": [
    "bldgclass_counts = df['bldgclass'].str.slice(0, 1).value_counts()\n",
    "bldgclass_dist = pd.DataFrame({'bldgclass':bldgclass_counts.index, 'count':bldgclass_counts.values})\n",
    "bldgclass_dist = pd.merge(bldgclass_dist, bldgclass_def, how='left', on=['bldgclass'])\n",
    "bldgclass_dist"
   ]
  },
  {
   "cell_type": "code",
   "execution_count": 20,
   "metadata": {},
   "outputs": [],
   "source": [
    "df.to_csv('../output/Building_Count_Discrepancies.csv')"
   ]
  },
  {
   "cell_type": "markdown",
   "metadata": {},
   "source": [
    "Distribution by borough"
   ]
  },
  {
   "cell_type": "code",
   "execution_count": 36,
   "metadata": {},
   "outputs": [
    {
     "data": {
      "text/html": [
       "<div>\n",
       "<style scoped>\n",
       "    .dataframe tbody tr th:only-of-type {\n",
       "        vertical-align: middle;\n",
       "    }\n",
       "\n",
       "    .dataframe tbody tr th {\n",
       "        vertical-align: top;\n",
       "    }\n",
       "\n",
       "    .dataframe thead th {\n",
       "        text-align: right;\n",
       "    }\n",
       "</style>\n",
       "<table border=\"1\" class=\"dataframe\">\n",
       "  <thead>\n",
       "    <tr style=\"text-align: right;\">\n",
       "      <th></th>\n",
       "      <th>borough</th>\n",
       "      <th>count</th>\n",
       "    </tr>\n",
       "  </thead>\n",
       "  <tbody>\n",
       "    <tr>\n",
       "      <td>0</td>\n",
       "      <td>QN</td>\n",
       "      <td>11391</td>\n",
       "    </tr>\n",
       "    <tr>\n",
       "      <td>1</td>\n",
       "      <td>BK</td>\n",
       "      <td>5662</td>\n",
       "    </tr>\n",
       "    <tr>\n",
       "      <td>2</td>\n",
       "      <td>SI</td>\n",
       "      <td>1915</td>\n",
       "    </tr>\n",
       "    <tr>\n",
       "      <td>3</td>\n",
       "      <td>BX</td>\n",
       "      <td>1656</td>\n",
       "    </tr>\n",
       "    <tr>\n",
       "      <td>4</td>\n",
       "      <td>MN</td>\n",
       "      <td>384</td>\n",
       "    </tr>\n",
       "  </tbody>\n",
       "</table>\n",
       "</div>"
      ],
      "text/plain": [
       "  borough  count\n",
       "0      QN  11391\n",
       "1      BK   5662\n",
       "2      SI   1915\n",
       "3      BX   1656\n",
       "4      MN    384"
      ]
     },
     "execution_count": 36,
     "metadata": {},
     "output_type": "execute_result"
    }
   ],
   "source": [
    "boro_counts = df['borough'].value_counts()\n",
    "boro_counts\n",
    "boro_dist = pd.DataFrame({'borough':boro_counts.index, 'count':boro_counts.values})\n",
    "boro_dist"
   ]
  },
  {
   "cell_type": "code",
   "execution_count": 38,
   "metadata": {},
   "outputs": [
    {
     "data": {
      "image/png": "[encoded data removed]",
      "text/plain": [
       "<Figure size 432x288 with 1 Axes>"
      ]
     },
     "metadata": {
      "needs_background": "light"
     },
     "output_type": "display_data"
    }
   ],
   "source": [
    "ax = boro_dist.plot.bar(x='borough', y='count', rot=0)"
   ]
  },
  {
   "cell_type": "code",
   "execution_count": null,
   "metadata": {},
   "outputs": [],
   "source": []
  }
 ],
 "metadata": {
  "kernelspec": {
   "display_name": "Python 3",
   "language": "python",
   "name": "python3"
  },
  "language_info": {
   "codemirror_mode": {
    "name": "ipython",
    "version": 3
   },
   "file_extension": ".py",
   "mimetype": "text/x-python",
   "name": "python",
   "nbconvert_exporter": "python",
   "pygments_lexer": "ipython3",
   "version": "3.7.5"
  }
 },
 "nbformat": 4,
 "nbformat_minor": 2
}
