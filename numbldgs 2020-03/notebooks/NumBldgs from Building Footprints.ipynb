{
 "cells": [
  {
   "cell_type": "code",
   "execution_count": 1,
   "metadata": {},
   "outputs": [],
   "source": [
    "import numpy as np\n",
    "import pandas as pd\n",
    "from sqlalchemy import create_engine\n",
    "import os"
   ]
  },
  {
   "cell_type": "code",
   "execution_count": 3,
   "metadata": {},
   "outputs": [
    {
     "name": "stdout",
     "output_type": "stream",
     "text": [
      "The dotenv extension is already loaded. To reload it, use:\n",
      "  %reload_ext dotenv\n"
     ]
    }
   ],
   "source": [
    "%load_ext dotenv\n",
    "%dotenv ../.env"
   ]
  },
  {
   "cell_type": "code",
   "execution_count": 4,
   "metadata": {},
   "outputs": [],
   "source": [
    "cnx = create_engine(os.getenv('EDMDB'))"
   ]
  },
  {
   "cell_type": "markdown",
   "metadata": {},
   "source": [
    "Find lots where building footprints does not have the same number of buildings as PLUTO."
   ]
  },
  {
   "cell_type": "code",
   "execution_count": 21,
   "metadata": {},
   "outputs": [
    {
     "data": {
      "text/html": [
       "<div>\n",
       "<style scoped>\n",
       "    .dataframe tbody tr th:only-of-type {\n",
       "        vertical-align: middle;\n",
       "    }\n",
       "\n",
       "    .dataframe tbody tr th {\n",
       "        vertical-align: top;\n",
       "    }\n",
       "\n",
       "    .dataframe thead th {\n",
       "        text-align: right;\n",
       "    }\n",
       "</style>\n",
       "<table border=\"1\" class=\"dataframe\">\n",
       "  <thead>\n",
       "    <tr style=\"text-align: right;\">\n",
       "      <th></th>\n",
       "      <th>bbl</th>\n",
       "      <th>address</th>\n",
       "      <th>landuse</th>\n",
       "      <th>bldgclass</th>\n",
       "      <th>ownername</th>\n",
       "      <th>numbldgs</th>\n",
       "      <th>bldg_footprints_count</th>\n",
       "      <th>difference</th>\n",
       "    </tr>\n",
       "  </thead>\n",
       "  <tbody>\n",
       "    <tr>\n",
       "      <td>0</td>\n",
       "      <td>4163500400</td>\n",
       "      <td>None</td>\n",
       "      <td>01</td>\n",
       "      <td>A8</td>\n",
       "      <td>BREEZY POINT COOPERATIVE, INC</td>\n",
       "      <td>1861</td>\n",
       "      <td>59</td>\n",
       "      <td>1802</td>\n",
       "    </tr>\n",
       "    <tr>\n",
       "      <td>1</td>\n",
       "      <td>4163500300</td>\n",
       "      <td>None</td>\n",
       "      <td>01</td>\n",
       "      <td>A8</td>\n",
       "      <td>BREEZY POINT COOPERA</td>\n",
       "      <td>795</td>\n",
       "      <td>21</td>\n",
       "      <td>774</td>\n",
       "    </tr>\n",
       "    <tr>\n",
       "      <td>2</td>\n",
       "      <td>4163400050</td>\n",
       "      <td>1 ROCKAWAY POINT BLVD</td>\n",
       "      <td>01</td>\n",
       "      <td>A8</td>\n",
       "      <td>BREEZY POINT CO-OP</td>\n",
       "      <td>515</td>\n",
       "      <td>17</td>\n",
       "      <td>498</td>\n",
       "    </tr>\n",
       "    <tr>\n",
       "      <td>3</td>\n",
       "      <td>4142600001</td>\n",
       "      <td>154-68 BROOKVILLE BOULEVARD</td>\n",
       "      <td>07</td>\n",
       "      <td>T1</td>\n",
       "      <td>PORT AUTHORITY OF NY AND NJ</td>\n",
       "      <td>422</td>\n",
       "      <td>5</td>\n",
       "      <td>417</td>\n",
       "    </tr>\n",
       "    <tr>\n",
       "      <td>4</td>\n",
       "      <td>2051410120</td>\n",
       "      <td>2049 BARTOW AVENUE</td>\n",
       "      <td>03</td>\n",
       "      <td>D4</td>\n",
       "      <td>RIVERBAY CORPORATION</td>\n",
       "      <td>251</td>\n",
       "      <td>3</td>\n",
       "      <td>248</td>\n",
       "    </tr>\n",
       "  </tbody>\n",
       "</table>\n",
       "</div>"
      ],
      "text/plain": [
       "          bbl                      address landuse bldgclass  \\\n",
       "0  4163500400                         None      01        A8   \n",
       "1  4163500300                         None      01        A8   \n",
       "2  4163400050        1 ROCKAWAY POINT BLVD      01        A8   \n",
       "3  4142600001  154-68 BROOKVILLE BOULEVARD      07        T1   \n",
       "4  2051410120           2049 BARTOW AVENUE      03        D4   \n",
       "\n",
       "                       ownername  numbldgs  bldg_footprints_count  difference  \n",
       "0  BREEZY POINT COOPERATIVE, INC      1861                     59        1802  \n",
       "1           BREEZY POINT COOPERA       795                     21         774  \n",
       "2             BREEZY POINT CO-OP       515                     17         498  \n",
       "3    PORT AUTHORITY OF NY AND NJ       422                      5         417  \n",
       "4           RIVERBAY CORPORATION       251                      3         248  "
      ]
     },
     "execution_count": 21,
     "metadata": {},
     "output_type": "execute_result"
    }
   ],
   "source": [
    "df = pd.read_sql_query('''WITH footprints_count_by_bbl AS (\n",
    "\tSELECT mpluto_bbl,\n",
    "\tCOUNT(*) AS bldg_footprints_count\n",
    "\tFROM dcp.bldg_footprints\n",
    "\tGROUP BY mpluto_bbl\n",
    ")\n",
    "SELECT CAST(bbl AS TEXT), \n",
    "address, \n",
    "landuse,\n",
    "bldgclass,\n",
    "ownername,\n",
    "numbldgs,\n",
    "bldg_footprints_count, \n",
    "numbldgs - bldg_footprints_count AS difference\n",
    "FROM dcp.pluto201, footprints_count_by_bbl\n",
    "WHERE bbl = CAST(mpluto_bbl AS NUMERIC)\n",
    "AND numbldgs <> bldg_footprints_count\n",
    "ORDER BY difference DESC;''', cnx)\n",
    "df.head()"
   ]
  },
  {
   "cell_type": "markdown",
   "metadata": {},
   "source": [
    "How many lots have differences in counts?"
   ]
  },
  {
   "cell_type": "code",
   "execution_count": 8,
   "metadata": {},
   "outputs": [
    {
     "data": {
      "text/plain": [
       "21008"
      ]
     },
     "execution_count": 8,
     "metadata": {},
     "output_type": "execute_result"
    }
   ],
   "source": [
    "df.shape[0]"
   ]
  },
  {
   "cell_type": "markdown",
   "metadata": {},
   "source": [
    "How often does PLUTO have greater numbers?"
   ]
  },
  {
   "cell_type": "code",
   "execution_count": 12,
   "metadata": {},
   "outputs": [
    {
     "data": {
      "text/plain": [
       "20703"
      ]
     },
     "execution_count": 12,
     "metadata": {},
     "output_type": "execute_result"
    }
   ],
   "source": [
    "more_bldgs_on_pluto = df[(df['numbldgs'] > df['bldg_footprints_count'])]\n",
    "more_bldgs_on_pluto.shape[0]"
   ]
  },
  {
   "cell_type": "markdown",
   "metadata": {},
   "source": [
    "How often does building footprints have greater numbers?"
   ]
  },
  {
   "cell_type": "code",
   "execution_count": 13,
   "metadata": {},
   "outputs": [
    {
     "data": {
      "text/plain": [
       "305"
      ]
     },
     "execution_count": 13,
     "metadata": {},
     "output_type": "execute_result"
    }
   ],
   "source": [
    "more_bldgs_on_footprints = df[(df['numbldgs'] < df['bldg_footprints_count'])]\n",
    "more_bldgs_on_footprints.shape[0]"
   ]
  },
  {
   "cell_type": "markdown",
   "metadata": {},
   "source": [
    "Does the landuse code tell us anything interesting?"
   ]
  },
  {
   "cell_type": "code",
   "execution_count": 17,
   "metadata": {},
   "outputs": [
    {
     "data": {
      "text/plain": [
       "01    16717\n",
       "02     2374\n",
       "04      778\n",
       "08      299\n",
       "03      222\n",
       "05      186\n",
       "06      134\n",
       "07      124\n",
       "11       60\n",
       "09       51\n",
       "10       39\n",
       "Name: landuse, dtype: int64"
      ]
     },
     "execution_count": 17,
     "metadata": {},
     "output_type": "execute_result"
    }
   ],
   "source": [
    "landuse_counts = df['landuse'].value_counts()\n",
    "landuse_counts"
   ]
  },
  {
   "cell_type": "markdown",
   "metadata": {},
   "source": [
    "What about the building class?"
   ]
  },
  {
   "cell_type": "code",
   "execution_count": 19,
   "metadata": {},
   "outputs": [
    {
     "data": {
      "text/plain": [
       "A    10240\n",
       "B     6475\n",
       "C     2139\n",
       "R      446\n",
       "S      434\n",
       "D      242\n",
       "K      202\n",
       "M      124\n",
       "G      100\n",
       "W       88\n",
       "E       79\n",
       "O       79\n",
       "V       60\n",
       "F       55\n",
       "U       54\n",
       "Q       42\n",
       "Z       34\n",
       "I       28\n",
       "Y       25\n",
       "N       18\n",
       "P       18\n",
       "H       12\n",
       "T        9\n",
       "J        2\n",
       "Name: bldgclass, dtype: int64"
      ]
     },
     "execution_count": 19,
     "metadata": {},
     "output_type": "execute_result"
    }
   ],
   "source": [
    "bldgclass_counts = df['bldgclass'].str.slice(0, 1).value_counts()\n",
    "bldgclass_counts"
   ]
  },
  {
   "cell_type": "code",
   "execution_count": 20,
   "metadata": {},
   "outputs": [],
   "source": [
    "df.to_csv('../output/Building_Count_Discrepancies.csv')"
   ]
  },
  {
   "cell_type": "code",
   "execution_count": null,
   "metadata": {},
   "outputs": [],
   "source": []
  }
 ],
 "metadata": {
  "kernelspec": {
   "display_name": "Python 3",
   "language": "python",
   "name": "python3"
  },
  "language_info": {
   "codemirror_mode": {
    "name": "ipython",
    "version": 3
   },
   "file_extension": ".py",
   "mimetype": "text/x-python",
   "name": "python",
   "nbconvert_exporter": "python",
   "pygments_lexer": "ipython3",
   "version": "3.7.5"
  }
 },
 "nbformat": 4,
 "nbformat_minor": 2
}
