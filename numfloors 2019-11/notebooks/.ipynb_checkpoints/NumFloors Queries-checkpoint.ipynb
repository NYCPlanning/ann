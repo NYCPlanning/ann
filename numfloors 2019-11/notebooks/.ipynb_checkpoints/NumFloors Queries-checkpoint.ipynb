{
 "cells": [
  {
   "cell_type": "markdown",
   "metadata": {},
   "source": [
    "NUMFLOORS / Footprints floors query"
   ]
  },
  {
   "cell_type": "code",
   "execution_count": null,
   "metadata": {},
   "outputs": [],
   "source": [
    "WITH pluto AS (\n",
    "\tSELECT CAST(bbl AS TEXT),\n",
    "\t\tbldgclass,\n",
    "\t\tCAST(numfloors AS NUMERIC) AS numfloors,\n",
    "\t\tCASE\n",
    "    \t\tWHEN SUBSTRING(bldgclass,1,1) IN ('A', 'B', 'C', 'D') THEN 10\n",
    "\t\t\tELSE 12\n",
    "\t\tEND AS floor_height,\n",
    "\t\tnumbldgs,\n",
    "\t\taddress,\n",
    "\t\tgeom\n",
    "\tFROM dcp.pluto201\n",
    "\tWHERE CAST(numbldgs AS NUMERIC) < 2\n",
    "\tAND CAST(numfloors AS NUMERIC) > 0\n",
    "), footprints AS (\n",
    "    SELECT mpluto_bbl,\n",
    "\t\tMAX(CAST(heightroof AS NUMERIC)) AS heightroof\n",
    "\tFROM dcp.footprints \n",
    "\tWHERE CAST(heightroof AS NUMERIC) > 0\n",
    "\tGROUP BY mpluto_bbl\n",
    "), housing AS (\n",
    "\tSELECT bbl,\n",
    "\t\tjob_number,\n",
    "\t\tjob_type,\n",
    "\t\tjob_status,\n",
    "\t\tdate_complete\n",
    "\tFROM dcp.housing\n",
    "\tWHERE job_type = 'New Building' AND SUBSTRING(date_complete,1,4) > '2013'\n",
    "), calc_differential AS (\n",
    "\tSELECT p.bbl,\n",
    "\t\tp.bldgclass,\n",
    "\t\tp.address,\n",
    "\t\tp.numbldgs,\n",
    "\t\tp.numfloors,\n",
    "\t\tROUND(f.heightroof / p.floor_height, 3) AS footprints_floors,\n",
    "\t\tf.heightroof,\n",
    "\t\tp.floor_height,\n",
    "\t\tABS(p.numfloors - ROUND(f.heightroof / p.floor_height, 3)) AS differential,\n",
    "\t\tp.geom\n",
    "\tFROM pluto p\n",
    "\tINNER JOIN footprints f\n",
    "\tON p.bbl = f.mpluto_bbl\n",
    "\tWHERE p.bbl NOT IN (SELECT h.bbl FROM housing h)\n",
    ")\n",
    "SELECT * FROM calc_differential\n",
    "WHERE (differential > (2 * numfloors) OR differential > (2 * footprints_floors)) AND (numfloors > 10 OR footprints_floors > 10)\n",
    "AND SUBSTRING(bldgclass,1,1) NOT IN ('M', 'Q')\n",
    "ORDER BY numfloors DESC;"
   ]
  },
  {
   "cell_type": "markdown",
   "metadata": {},
   "source": [
    "PLUTO records having no match on footprints, and no recent 'New Building' permit."
   ]
  },
  {
   "cell_type": "code",
   "execution_count": null,
   "metadata": {},
   "outputs": [],
   "source": [
    "SELECT p2.bbl, p2.bldgclass, p2.address, p2.numbldgs, p2.numfloors, \n",
    "null, null, null, null, p2.geom\n",
    "FROM dcp.pluto201 p2\n",
    "WHERE NOT EXISTS \n",
    "\t(SELECT f2.mpluto_bbl \n",
    " \t\tFROM dcp.footprints f2\n",
    "\t\tWHERE f2.mpluto_bbl = CAST(p2.bbl AS TEXT))\n",
    "AND p2.numbldgs < 2\n",
    "AND p2.numfloors > 50\n",
    "AND CAST(p2.bbl AS TEXT) NOT IN (SELECT h.bbl FROM dcp.housing h WHERE job_type = 'New Building' AND SUBSTRING(date_complete,1,4) > '2013')\n",
    "AND SUBSTRING(bldgclass,1,1) NOT IN ('M', 'Q')\n",
    "\n",
    "ORDER BY numfloors DESC;"
   ]
  }
 ],
 "metadata": {
  "kernelspec": {
   "display_name": "Python 3",
   "language": "python",
   "name": "python3"
  },
  "language_info": {
   "codemirror_mode": {
    "name": "ipython",
    "version": 3
   },
   "file_extension": ".py",
   "mimetype": "text/x-python",
   "name": "python",
   "nbconvert_exporter": "python",
   "pygments_lexer": "ipython3",
   "version": "3.7.5"
  }
 },
 "nbformat": 4,
 "nbformat_minor": 2
}
