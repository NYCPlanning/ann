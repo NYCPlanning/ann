{
 "cells": [
  {
   "cell_type": "code",
   "execution_count": 3,
   "metadata": {},
   "outputs": [],
   "source": [
    "import numpy as np\n",
    "import pandas as pd\n",
    "from sqlalchemy import create_engine\n",
    "import os"
   ]
  },
  {
   "cell_type": "code",
   "execution_count": 4,
   "metadata": {},
   "outputs": [
    {
     "name": "stdout",
     "output_type": "stream",
     "text": [
      "The dotenv extension is already loaded. To reload it, use:\n",
      "  %reload_ext dotenv\n"
     ]
    }
   ],
   "source": [
    "%load_ext dotenv\n",
    "%dotenv ../.env"
   ]
  },
  {
   "cell_type": "code",
   "execution_count": 5,
   "metadata": {},
   "outputs": [],
   "source": [
    "cnx = create_engine(os.getenv('EDMDB'))"
   ]
  },
  {
   "cell_type": "markdown",
   "metadata": {},
   "source": [
    "Find PLUTO records with a YearBuilt value of zero, having a record of a 'New Building' on housing database."
   ]
  },
  {
   "cell_type": "code",
   "execution_count": 7,
   "metadata": {},
   "outputs": [
    {
     "data": {
      "text/plain": [
       "(67, 8)"
      ]
     },
     "execution_count": 7,
     "metadata": {},
     "output_type": "execute_result"
    }
   ],
   "source": [
    "yearbuilt_from_housing = pd.read_sql_query('''SELECT p.bbl,\n",
    "address,\n",
    "yearbuilt,\n",
    "numbldgs,\n",
    "job_type,\n",
    "job_status,\n",
    "SUBSTRING(date_complete, 1, 4) AS occupancy_year,\n",
    "geom\n",
    "FROM dcp.pluto201 p, dcp.housing h\n",
    "WHERE CAST(p.bbl AS TEXT) = h.bbl\n",
    "AND numbldgs = 1\n",
    "AND yearbuilt = 0\n",
    "AND h.job_type = 'New Building'\n",
    "AND h.job_status = 'Complete'\n",
    "AND h.date_complete = (SELECT MAX(date_complete)\n",
    "\t\t\t\t\t   FROM dcp.housing h1\n",
    "\t\t\t\t\t   WHERE h1.bbl = CAST(p.bbl AS TEXT)\n",
    "\t\t\t\t\t   AND h1.job_type = 'New Building'\n",
    "\t\t\t\t\t   AND h1.job_status = 'Complete')\n",
    "ORDER BY p.bbl;''', cnx)\n",
    "#yearbuilt_from_housing.head(100)\n",
    "yearbuilt_from_housing.shape"
   ]
  },
  {
   "cell_type": "markdown",
   "metadata": {},
   "source": [
    "Which of these have demolitions associated with them?"
   ]
  },
  {
   "cell_type": "code",
   "execution_count": null,
   "metadata": {},
   "outputs": [],
   "source": [
    "with_demolitions = pd.read_sql_query('''WITH new_buildings AS (\n",
    "\tSELECT CAST(p.bbl AS TEXT) as bbl,\n",
    "\tp.address,\n",
    "\tp.yearbuilt,\n",
    "\tp.numbldgs,\n",
    "\th.job_type,\n",
    "\th.job_status,\n",
    "\tSUBSTRING(h.date_complete,1,4) AS status_year,\n",
    "\tp.geom\n",
    "\tFROM dcp.housing h, dcp.pluto201 p\n",
    "\tWHERE job_type = 'New Building'\n",
    "\tAND job_status = 'Complete'\n",
    "\tAND h.date_complete = (SELECT MAX(date_complete)\n",
    "\t\t\t\t\t   \t\tFROM dcp.housing h1\n",
    "\t\t\t\t\t   \t\tWHERE h1.bbl = h.bbl\n",
    "\t\t\t\t\t   \t\tAND h1.job_type = h.job_type\n",
    "\t\t\t\t\t   \t\tAND h1.job_status = h.job_status)\n",
    "\tAND CAST(p.bbl AS TEXT) = h.bbl\n",
    "  AND p.yearbuilt = 0\n",
    "  AND p.numbldgs = 1\n",
    "), demolitions AS (\n",
    "\tSELECT n.bbl,\n",
    "\tn.address,\n",
    "\tn.yearbuilt,\n",
    "\tn.numbldgs,\n",
    "\th.job_type,\n",
    "\th.job_status,\n",
    "\tSUBSTRING(h.date_filed,7,4) AS status_year,\n",
    "\tn.geom\n",
    "\tFROM dcp.housing h, new_buildings n\n",
    "\tWHERE h.job_type = 'Demolition'\n",
    "\tAND h.job_status = 'Complete (demolition)'\n",
    "\tAND h.date_filed = (SELECT MAX(h1.date_filed)\n",
    "\t\t\t\t\t   \t\tFROM dcp.housing h1\n",
    "\t\t\t\t\t   \t\tWHERE h1.bbl = h.bbl\n",
    "\t\t\t\t\t   \t\tAND h1.job_type = h.job_type\n",
    "\t\t\t\t\t   \t\tAND h1.job_status = h.job_status)\n",
    "\tAND n.bbl = h.bbl\n",
    ")\n",
    "SELECT n.bbl,\n",
    "\tn.address,\n",
    "\tn.yearbuilt,\n",
    "\tn.numbldgs,\n",
    "\tn.job_type,\n",
    "\tn.job_status,\n",
    "\tn.status_year,\n",
    "\tn.geom\n",
    "FROM new_buildings n\n",
    "UNION ALL\n",
    "SELECT d.bbl,\n",
    "\td.address,\n",
    "\td.yearbuilt,\n",
    "\td.numbldgs,\n",
    "\td.job_type,\n",
    "\td.job_status,\n",
    "\td.status_year,\n",
    "\td.geom\n",
    "FROM demolitions d\n",
    "ORDER BY 1, 5, 6;''', cnx)\n",
    "#with_demolitions.head(100)\n",
    "with_demolitions.shape"
   ]
  },
  {
   "cell_type": "code",
   "execution_count": null,
   "metadata": {},
   "outputs": [],
   "source": []
  }
 ],
 "metadata": {
  "kernelspec": {
   "display_name": "Python 3",
   "language": "python",
   "name": "python3"
  },
  "language_info": {
   "codemirror_mode": {
    "name": "ipython",
    "version": 3
   },
   "file_extension": ".py",
   "mimetype": "text/x-python",
   "name": "python",
   "nbconvert_exporter": "python",
   "pygments_lexer": "ipython3",
   "version": "3.7.5"
  }
 },
 "nbformat": 4,
 "nbformat_minor": 2
}
